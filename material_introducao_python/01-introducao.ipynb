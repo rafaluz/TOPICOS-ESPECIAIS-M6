{
 "cells": [
  {
   "cell_type": "markdown",
   "metadata": {},
   "source": [
    "# Introdução a análise de dados com Python"
   ]
  },
  {
   "cell_type": "markdown",
   "metadata": {},
   "source": [
    "## Conhecendo o Jupyter Notebook\n"
   ]
  },
  {
   "cell_type": "markdown",
   "metadata": {},
   "source": [
    "Guia básico: [clique aqui](https://docs.pipz.com/central-de-ajuda/learning-center/guia-basico-de-markdown#open)\n",
    "\n",
    "* Criar novas linhas: b ou alt + enter\n",
    "* Executar uma linha: shift + enter\n",
    "* Você pode mudar uma linha entre code e markdown"
   ]
  },
  {
   "cell_type": "markdown",
   "metadata": {
    "cell_tags": []
   },
   "source": [
    "## 1 -  Analisando Dados de Pacientes"
   ]
  },
  {
   "cell_type": "markdown",
   "metadata": {
    "cell_tags": []
   },
   "source": [
    "Estamos estudando inflamação em pacientes que receberam um novo tratamento para artrite, precisamos analisar a primeira dúzia de conjuntos de dados.\n",
    "Os conjuntos de dados são armazenados em valores separados por vírgula no formato CSV:\n",
    "cada linha contém informações para um único paciente,\n",
    "e as colunas representam dias sucessivos.\n",
    "As primeiras fileiras do nosso primeiro arquivo se parecem com isto:\n",
    "\n",
    "    0,0,1,3,1,2,4,7,8,3,3,3,10,5,7,4,7,7,12,18,6,13,11,11,7,7,4,6,8,8,4,4,5,7,3,4,2,3,0,0\n",
    "    0,1,2,1,2,1,3,2,2,6,10,11,5,9,4,4,7,16,8,6,18,4,12,5,12,7,11,5,11,3,3,5,4,4,5,5,1,1,0,1\n",
    "    0,1,1,3,3,2,6,2,5,9,5,7,4,5,4,15,5,11,9,10,19,14,12,17,7,12,11,7,4,2,10,5,4,2,2,3,2,2,1,1\n",
    "    0,0,2,0,4,2,2,1,6,7,10,7,9,13,8,8,15,10,10,7,17,4,4,7,6,15,6,4,9,11,3,5,6,3,3,4,2,3,2,1\n",
    "    0,1,1,3,3,1,3,5,2,4,4,7,6,5,3,10,8,10,6,17,9,14,9,7,13,9,12,6,7,7,9,6,3,2,2,4,2,0,1,1"
   ]
  },
  {
   "cell_type": "markdown",
   "metadata": {
    "cell_tags": []
   },
   "source": [
    "Nós queremos:\n",
    "\n",
    "* carregar esses dados na memória,\n",
    "* calcular a inflamação média por dia em todos os pacientes, e\n",
    "* traçar o resultado.\n",
    "\n",
    "Para fazer tudo isso, teremos que aprender um pouco sobre a programação."
   ]
  },
  {
   "cell_type": "markdown",
   "metadata": {
    "cell_tags": [
     "objectives"
    ]
   },
   "source": [
    "#### Objetivos da atividade: \n",
    "- Explicar o que é uma biblioteca e para que as bibliotecas são usadas.\n",
    "- Importar uma biblioteca Python e usar as funções que ela contém.\n",
    "- Ler dados tabulares de um arquivo em um programa.\n",
    "- Atribuir valores a variáveis.\n",
    "- Selecionar valores individuais e subsecções de dados.\n",
    "- Executar operações em matrizes de dados.\n",
    "- Plotar gráficos simples a partir de dados."
   ]
  },
  {
   "cell_type": "markdown",
   "metadata": {
    "cell_tags": []
   },
   "source": [
    "### Armazenando Dados no Computador \n",
    "Nesta lição, aprenderemos a manipular o conjunto de dados de inflamação com o Python. Mas antes de discutir como lidar com muitos dados, mostraremos como armazenar um único valor no computador."
   ]
  },
  {
   "cell_type": "markdown",
   "metadata": {},
   "source": [
    "Criando uma variável"
   ]
  },
  {
   "cell_type": "code",
   "execution_count": null,
   "metadata": {
    "cell_tags": []
   },
   "outputs": [],
   "source": []
  },
  {
   "cell_type": "markdown",
   "metadata": {},
   "source": [
    "Uma vez que a variável tem um valor, podemos imprimi-la:"
   ]
  },
  {
   "cell_type": "code",
   "execution_count": null,
   "metadata": {
    "cell_tags": []
   },
   "outputs": [],
   "source": []
  },
  {
   "cell_type": "markdown",
   "metadata": {},
   "source": [
    "Também podemos alterar o valor de uma variável, atribuindo-lhe um novo:"
   ]
  },
  {
   "cell_type": "code",
   "execution_count": null,
   "metadata": {},
   "outputs": [],
   "source": []
  },
  {
   "cell_type": "markdown",
   "metadata": {
    "cell_tags": []
   },
   "source": [
    "e fazer operações aritméticas com ela:\n",
    "\n",
    "* Adição (+)\n",
    "* Subtração (-)\n",
    "* Multiplicação (*)\n",
    "* Divisão (/)\n",
    "* Divisão Inteira (//)\n",
    "* Resto da Divisão (%)\n",
    "* Potência(**)\n",
    "\n",
    "Funções Matemáticas (da biblioteca math):\n",
    "\n",
    "* Raiz quadrada (math.sqrt(valor)): Calcula a raiz quadrada de um número.\n",
    "* Seno: Calcula o seno de um ângulo (em radianos).\n",
    "* Valor absoluto (abs(valor)): Retorna o valor positivo de um número.\n",
    "* Arredondamento (round(valor)): Arredonda um número para o inteiro mais próximo."
   ]
  },
  {
   "cell_type": "code",
   "execution_count": null,
   "metadata": {},
   "outputs": [],
   "source": []
  },
  {
   "cell_type": "markdown",
   "metadata": {
    "cell_tags": []
   },
   "source": [
    "Também podemos alterar o valor de uma variável, atribuindo-lhe um novo:"
   ]
  },
  {
   "cell_type": "code",
   "execution_count": null,
   "metadata": {
    "cell_tags": []
   },
   "outputs": [],
   "source": []
  },
  {
   "cell_type": "markdown",
   "metadata": {
    "cell_tags": []
   },
   "source": [
    "Podemos imprimir várias coisas ao mesmo tempo, separando-as com vírgulas."
   ]
  },
  {
   "cell_type": "code",
   "execution_count": null,
   "metadata": {},
   "outputs": [],
   "source": []
  },
  {
   "cell_type": "markdown",
   "metadata": {},
   "source": [
    ">#### DICA\n",
    ">Você pode usar o comando% whos a qualquer momento para ver quais variáveis você criou e quais módulos você carregou na memória do computador. Como este é um comando IPython, ele só funcionará se você estiver em um terminal IPython ou no Notebook Jupyter.\n"
   ]
  },
  {
   "cell_type": "code",
   "execution_count": 1,
   "metadata": {},
   "outputs": [
    {
     "name": "stdout",
     "output_type": "stream",
     "text": [
      "Interactive namespace is empty.\n"
     ]
    }
   ],
   "source": [
    "%whos"
   ]
  },
  {
   "cell_type": "markdown",
   "metadata": {},
   "source": [
    "### Carregando os Dados\n",
    "Palavras são úteis,\n",
    "mas o que é mais útil ainda são as frases e histórias que podemos construir com elas.\n",
    "Da mesma forma,\n",
    "enquanto muitas ferramentas poderosas são incorporadas a linguagens como o Python,\n",
    "ainda mais utilidades nas [bibliotecas](http://swcarpentry.github.io/python-novice-inflammation-2.7/reference.html#library) são construídas.\n",
    "\n",
    "Uma biblioteca é uma família de unidades de código (funções, classes, variáveis) que implementam um conjunto de tarefas relacionadas.\n",
    "\n",
    "Para carregar nossos dados de inflamações,\n",
    "precisamos [importar](http://swcarpentry.github.io/python-novice-inflammation-2.7/reference.html#import) uma biblioteca chamada NumPy\n",
    "que sabe operar em matrizes:"
   ]
  },
  {
   "cell_type": "markdown",
   "metadata": {},
   "source": [
    "**Importando o numpy**"
   ]
  },
  {
   "cell_type": "code",
   "execution_count": 2,
   "metadata": {},
   "outputs": [],
   "source": [
    "import numpy"
   ]
  },
  {
   "cell_type": "markdown",
   "metadata": {},
   "source": [
    "Importar uma biblioteca é como tirar um equipamento de laboratório de um armário de armazenamento\n",
    "e configurando-o no banco.\n",
    "Uma vez que está pronto,\n",
    "podemos pedir à biblioteca que leia nosso arquivo de dados para nós:"
   ]
  },
  {
   "cell_type": "markdown",
   "metadata": {},
   "source": [
    "**Carregando os dados**"
   ]
  },
  {
   "cell_type": "code",
   "execution_count": 3,
   "metadata": {
    "cell_tags": []
   },
   "outputs": [],
   "source": [
    "data = numpy.loadtxt(fname='data/inflammation-01.csv', delimiter=',')"
   ]
  },
  {
   "cell_type": "markdown",
   "metadata": {
    "cell_tags": []
   },
   "source": [
    "Esta declaração não produz qualquer saída porque a atribuição não exibe nada.\n",
    "Se quisermos verificar se nossos dados foram carregados, podemos imprimir o valor da variável:"
   ]
  },
  {
   "cell_type": "code",
   "execution_count": 4,
   "metadata": {
    "cell_tags": []
   },
   "outputs": [
    {
     "name": "stdout",
     "output_type": "stream",
     "text": [
      "[[0. 0. 1. ... 3. 0. 0.]\n",
      " [0. 1. 2. ... 1. 0. 1.]\n",
      " [0. 1. 1. ... 2. 1. 1.]\n",
      " ...\n",
      " [0. 1. 1. ... 1. 1. 1.]\n",
      " [0. 0. 0. ... 0. 2. 0.]\n",
      " [0. 0. 1. ... 1. 1. 0.]]\n"
     ]
    }
   ],
   "source": [
    "print(data)"
   ]
  },
  {
   "cell_type": "markdown",
   "metadata": {
    "cell_tags": []
   },
   "source": [
    "### Manipulando os Dados"
   ]
  },
  {
   "cell_type": "markdown",
   "metadata": {
    "cell_tags": []
   },
   "source": [
    "Agora que nossos dados estão na memória, podemos começar a fazer coisas com eles.\n",
    "Primeiro,\n",
    "vamos perguntar a qual [tipo](http://swcarpentry.github.io/python-novice-inflammation-2.7/reference.html#data-type) de coisa `data` se refere:"
   ]
  },
  {
   "cell_type": "code",
   "execution_count": 5,
   "metadata": {
    "cell_tags": []
   },
   "outputs": [
    {
     "name": "stdout",
     "output_type": "stream",
     "text": [
      "<class 'numpy.ndarray'>\n"
     ]
    }
   ],
   "source": [
    "print (type(data))"
   ]
  },
  {
   "cell_type": "markdown",
   "metadata": {
    "cell_tags": []
   },
   "source": [
    "O resultado nos diz que `data` atualmente se refere a uma matriz N-dimensional criada pela biblioteca NumPy.\n",
    "Podemos ver como que é  o [formato/shape](http://swcarpentry.github.io/python-novice-inflammation-2.7/reference.htm#shape) desta forma:"
   ]
  },
  {
   "cell_type": "code",
   "execution_count": 6,
   "metadata": {
    "cell_tags": []
   },
   "outputs": [
    {
     "name": "stdout",
     "output_type": "stream",
     "text": [
      "(60, 40)\n"
     ]
    }
   ],
   "source": [
    "print (data.shape)"
   ]
  },
  {
   "cell_type": "markdown",
   "metadata": {
    "cell_tags": []
   },
   "source": [
    "Isso nos diz que `data` possui 60 linhas e 40 colunas."
   ]
  },
  {
   "cell_type": "markdown",
   "metadata": {
    "cell_tags": []
   },
   "source": [
    "Se quisermos **obter um único valor** da matriz, devemos fornecer um [índice](http://swcarpentry.github.io/python-novice-inflammation-2.7/reference.htm#index) entre colchetes, assim como fazemos em matemática:"
   ]
  },
  {
   "cell_type": "code",
   "execution_count": null,
   "metadata": {
    "cell_tags": []
   },
   "outputs": [],
   "source": []
  },
  {
   "cell_type": "markdown",
   "metadata": {
    "cell_tags": []
   },
   "source": [
    "Um índice como `[30, 20]` seleciona um único elemento de uma matriz,\n",
    "mas também **podemos selecionar seções inteiras**.\n",
    "Por exemplo,\n",
    "podemos selecionar os primeiros dez dias (colunas) de valores\n",
    "para as primeiras quatro (linhas) pacientes como este:"
   ]
  },
  {
   "cell_type": "code",
   "execution_count": null,
   "metadata": {
    "cell_tags": []
   },
   "outputs": [],
   "source": []
  },
  {
   "cell_type": "markdown",
   "metadata": {
    "cell_tags": []
   },
   "source": [
    "O [intervalo](http://swcarpentry.github.io/python-novice-inflammation-2.7/reference.htm#slice) `0: 4` significa:\n",
    "\"Comece no índice 0 e vá até, mas não incluído, o índice 4.\"\n",
    "\n",
    "Não temos que começar, necessariamente, intervalos em 0:"
   ]
  },
  {
   "cell_type": "code",
   "execution_count": null,
   "metadata": {
    "cell_tags": []
   },
   "outputs": [],
   "source": []
  },
  {
   "cell_type": "markdown",
   "metadata": {
    "cell_tags": []
   },
   "source": [
    "e não precisamos acessar todos os valores do intervalo  --- se fornecemos um [passo](http://swcarpentry.github.io/python-novice-inflammation-2.7/reference.htm#stride),\n",
    "Python pega os valores espaçados com o `passo` definido:"
   ]
  },
  {
   "cell_type": "code",
   "execution_count": 7,
   "metadata": {
    "cell_tags": []
   },
   "outputs": [
    {
     "name": "stdout",
     "output_type": "stream",
     "text": [
      "[[0. 1. 1. 4. 8.]\n",
      " [0. 2. 4. 2. 6.]\n",
      " [0. 2. 4. 2. 5.]\n",
      " [0. 1. 1. 5. 5.]]\n"
     ]
    }
   ],
   "source": [
    "print (data[0:10:3, 0:10:2])"
   ]
  },
  {
   "cell_type": "markdown",
   "metadata": {
    "cell_tags": []
   },
   "source": [
    "Aqui,\n",
    "nós pegamos as linhas 0, 3, 6 e 9,\n",
    "e as colunas 0, 2, 4, 6 e 8.\n",
    "(Novamente, sempre incluímos o limite inferior,\n",
    "mas pare quando alcançamos ou cruzamos o limite superior.)"
   ]
  },
  {
   "cell_type": "markdown",
   "metadata": {
    "cell_tags": []
   },
   "source": [
    "Também não precisamos incluir o limite superior e inferior do intervalo.\n",
    "Se não incluímos o limite inferior, Python usa 0 por padrão;\n",
    "se não incluímos o superior,\n",
    "o intervalo corre até o final do eixo, e se não incluímos nenhum\n",
    "(isto é, se usarmos apenas ':' por conta própria)\n",
    "O intervalo inclui tudo:"
   ]
  },
  {
   "cell_type": "code",
   "execution_count": 8,
   "metadata": {
    "cell_tags": []
   },
   "outputs": [
    {
     "name": "stdout",
     "output_type": "stream",
     "text": [
      "small is:\n",
      "[[2. 3. 0. 0.]\n",
      " [1. 1. 0. 1.]\n",
      " [2. 2. 1. 1.]]\n"
     ]
    }
   ],
   "source": [
    "small = data[:3, 36:]\n",
    "print ('small is:')\n",
    "print (small)"
   ]
  },
  {
   "cell_type": "markdown",
   "metadata": {
    "cell_tags": []
   },
   "source": [
    "Arrays também sabem como executar operações matemáticas comuns em seus valores.\n",
    "Se queremos encontrar a inflamação média para todos os pacientes em todos os dias,\n",
    "por exemplo, podemos pedir a matriz pelo seu **valor médio**:"
   ]
  },
  {
   "cell_type": "code",
   "execution_count": 9,
   "metadata": {
    "cell_tags": []
   },
   "outputs": [
    {
     "name": "stdout",
     "output_type": "stream",
     "text": [
      "6.14875\n"
     ]
    }
   ],
   "source": [
    "print (data.mean())"
   ]
  },
  {
   "cell_type": "markdown",
   "metadata": {
    "cell_tags": []
   },
   "source": [
    "As matrizes numPy têm muitos métodos úteis:"
   ]
  },
  {
   "cell_type": "code",
   "execution_count": 10,
   "metadata": {
    "cell_tags": []
   },
   "outputs": [
    {
     "name": "stdout",
     "output_type": "stream",
     "text": [
      "maximum inflammation: 20.0\n",
      "minimum inflammation: 0.0\n",
      "standard deviation: 4.613833197118566\n"
     ]
    }
   ],
   "source": [
    "print ('maximum inflammation:', data.max())\n",
    "print ('minimum inflammation:', data.min())\n",
    "print ('standard deviation:', data.std())"
   ]
  },
  {
   "cell_type": "markdown",
   "metadata": {
    "cell_tags": []
   },
   "source": [
    "Ao analisar dados,\n",
    "muitas vezes queremos olhar para <b>estatísticas parciais</b>,\n",
    "como o valor máximo por paciente\n",
    "ou o valor médio por dia.\n",
    "Uma maneira de fazer isso é selecionar os dados que queremos para criar uma nova matriz temporária, e então fazer o cálculo:"
   ]
  },
  {
   "cell_type": "code",
   "execution_count": 11,
   "metadata": {
    "cell_tags": []
   },
   "outputs": [
    {
     "name": "stdout",
     "output_type": "stream",
     "text": [
      "maximum inflammation for patient 0: 18.0\n"
     ]
    }
   ],
   "source": [
    "patient_0 = data[0, :] # 0 on the first axis, everything on the second\n",
    "print ('maximum inflammation for patient 0:', patient_0.max())"
   ]
  },
  {
   "cell_type": "markdown",
   "metadata": {
    "cell_tags": []
   },
   "source": [
    "Na verdade, não precisamos armazenar a linha em uma variável própria.\n",
    "Em vez disso, podemos combinar a seleção e o método de chamada:"
   ]
  },
  {
   "cell_type": "code",
   "execution_count": 12,
   "metadata": {
    "cell_tags": []
   },
   "outputs": [
    {
     "name": "stdout",
     "output_type": "stream",
     "text": [
      "maximum inflammation for patient 2: 19.0\n"
     ]
    }
   ],
   "source": [
    "print ('maximum inflammation for patient 2:', data[2, :].max())"
   ]
  },
  {
   "cell_type": "markdown",
   "metadata": {
    "cell_tags": []
   },
   "source": [
    "E se precisarmos da inflamação máxima para *todos* os pacientes ou a média de cada dia?\n",
    "Como mostra o diagrama abaixo,\n",
    "queremos realizar a operação em um eixo:"
   ]
  },
  {
   "attachments": {},
   "cell_type": "markdown",
   "metadata": {
    "cell_tags": []
   },
   "source": [
    "<!-- <img src=\"https://swcarpentry.github.io/python-novice-inflammation-2.7/fig/python-operations-across-axes.svg\" alt=\"Operations Across Axes\" /> -->"
   ]
  },
  {
   "attachments": {
    "e2273772-7233-4b97-8b86-faeb7345dc05.png": {
     "image/png": "[encoded data removed]"
    }
   },
   "cell_type": "markdown",
   "metadata": {},
   "source": [
    "![image.png](attachment:e2273772-7233-4b97-8b86-faeb7345dc05.png)"
   ]
  },
  {
   "cell_type": "markdown",
   "metadata": {
    "cell_tags": []
   },
   "source": [
    "Para suportar isso, a maioria dos métodos de matriz nos permitem especificar o eixo em que queremos trabalhar.\n",
    "Se pedimos a **média para o eixo 0**, teremos:"
   ]
  },
  {
   "cell_type": "code",
   "execution_count": 13,
   "metadata": {
    "cell_tags": []
   },
   "outputs": [
    {
     "name": "stdout",
     "output_type": "stream",
     "text": [
      "[ 0.          0.45        1.11666667  1.75        2.43333333  3.15\n",
      "  3.8         3.88333333  5.23333333  5.51666667  5.95        5.9\n",
      "  8.35        7.73333333  8.36666667  9.5         9.58333333 10.63333333\n",
      " 11.56666667 12.35       13.25       11.96666667 11.03333333 10.16666667\n",
      " 10.          8.66666667  9.15        7.25        7.33333333  6.58333333\n",
      "  6.06666667  5.95        5.11666667  3.6         3.3         3.56666667\n",
      "  2.48333333  1.5         1.13333333  0.56666667]\n"
     ]
    }
   ],
   "source": [
    "print (data.mean(axis=0))"
   ]
  },
  {
   "cell_type": "markdown",
   "metadata": {
    "cell_tags": []
   },
   "source": [
    "Como uma verificação rápida, podemos perguntar a esta matriz qual é a sua forma:"
   ]
  },
  {
   "cell_type": "code",
   "execution_count": 14,
   "metadata": {
    "cell_tags": []
   },
   "outputs": [
    {
     "name": "stdout",
     "output_type": "stream",
     "text": [
      "(40,)\n"
     ]
    }
   ],
   "source": [
    "print (data.mean(axis=0).shape)"
   ]
  },
  {
   "cell_type": "markdown",
   "metadata": {
    "cell_tags": []
   },
   "source": [
    "A expressão `(40,)` nos diz que temos um vetor N&times;1,\n",
    "então esta é a **inflamação média por dia para todos os pacientes**.\n",
    "\n",
    "Se medimos em todo o eixo 1, obtemos:"
   ]
  },
  {
   "cell_type": "code",
   "execution_count": 15,
   "metadata": {
    "cell_tags": []
   },
   "outputs": [
    {
     "name": "stdout",
     "output_type": "stream",
     "text": [
      "[5.45  5.425 6.1   5.9   5.55  6.225 5.975 6.65  6.625 6.525 6.775 5.8\n",
      " 6.225 5.75  5.225 6.3   6.55  5.7   5.85  6.55  5.775 5.825 6.175 6.1\n",
      " 5.8   6.425 6.05  6.025 6.175 6.55  6.175 6.35  6.725 6.125 7.075 5.725\n",
      " 5.925 6.15  6.075 5.75  5.975 5.725 6.3   5.9   6.75  5.925 7.225 6.15\n",
      " 5.95  6.275 5.7   6.1   6.825 5.975 6.725 5.7   6.25  6.4   7.05  5.9  ]\n"
     ]
    }
   ],
   "source": [
    "print (data.mean(axis=1))"
   ]
  },
  {
   "cell_type": "markdown",
   "metadata": {
    "cell_tags": []
   },
   "source": [
    "que é a **inflamação média por paciente em todos os dias**."
   ]
  },
  {
   "cell_type": "markdown",
   "metadata": {
    "cell_tags": [
     "challenges"
    ]
   },
   "source": [
    "#### Exercício\n",
    "\n",
    "Uma subseção de uma matriz é chamada de [fatia](http://swcarpentry.github.io/python-novice-inflammation-2.7/reference.html#slice).\n",
    "Podemos pegar fatias de strings de caracteres também:"
   ]
  },
  {
   "cell_type": "code",
   "execution_count": 16,
   "metadata": {
    "cell_tags": [
     "challenges"
    ]
   },
   "outputs": [
    {
     "name": "stdout",
     "output_type": "stream",
     "text": [
      "first three characters: oxy\n",
      "last three characters: gen\n"
     ]
    }
   ],
   "source": [
    "element = 'oxygen'\n",
    "print ('first three characters:', element[0:3])\n",
    "print ('last three characters:', element[3:6])"
   ]
  },
  {
   "cell_type": "markdown",
   "metadata": {
    "cell_tags": [
     "challenges"
    ]
   },
   "source": [
    "1. Qual é o valor de `element [: 4]`?\n",
    "     E `element [4:]`?\n",
    "     Ou `element [:]`?\n",
    "\n",
    "1. O que é `element [-1]`?\n",
    "     O que é `element [-2]`?\n",
    "     Dadas essas respostas,\n",
    "     explique o que `element [1: -1]` faz.\n",
    "\n",
    "1. A expressão `element [3: 3]` produz uma [string vazia](http://swcarpentry.github.io/python-novice-inflammation-2.7/reference.html#empty-string),\n",
    "     ou seja, uma string que não contém caracteres.\n",
    "     Se `data` contém nossa matriz de dados de pacientes,\n",
    "     O que `data [3: 3, 4: 4]` produz?\n",
    "     E quanto a `data [3: 3,:]`?"
   ]
  },
  {
   "cell_type": "code",
   "execution_count": null,
   "metadata": {},
   "outputs": [],
   "source": []
  },
  {
   "cell_type": "markdown",
   "metadata": {
    "cell_tags": []
   },
   "source": [
    "### Plotando"
   ]
  },
  {
   "cell_type": "markdown",
   "metadata": {
    "cell_tags": []
   },
   "source": [
    "O matemático Richard Hamming já disse,\n",
    "\"O objetivo da computação é gerar insights, não números\"\n",
    "e a melhor maneira de obter estes insights é visualizandos os dados.\n",
    "A visualização merece uma leitura inteira (ou curso) própria,\n",
    "mas podemos explorar alguns recursos da biblioteca `matplotlib` do Python aqui.\n",
    "Primeiro,\n",
    "digamos ao IPython Notebook que queremos que nossos gráficos sejam exibidos inline,\n",
    "em vez de em uma janela de visualização separada:"
   ]
  },
  {
   "cell_type": "code",
   "execution_count": 17,
   "metadata": {
    "cell_tags": []
   },
   "outputs": [],
   "source": [
    "%matplotlib inline"
   ]
  },
  {
   "cell_type": "markdown",
   "metadata": {
    "cell_tags": []
   },
   "source": [
    "O `%` no início da linha indica que este é um comando para o notebook,\n",
    "em vez de uma declaração em Python.\n",
    "A seguir, vamos importar o módulo `pyplot` de ` matplotlib`\n",
    "e usar duas de suas funções para criar e exibir um mapa de calor de nossos dados:"
   ]
  },
  {
   "cell_type": "code",
   "execution_count": 31,
   "metadata": {
    "cell_tags": []
   },
   "outputs": [
    {
     "data": {
      "image/png": "[encoded data removed]",
      "text/plain": [
       "<Figure size 400x400 with 1 Axes>"
      ]
     },
     "metadata": {},
     "output_type": "display_data"
    }
   ],
   "source": [
    "from matplotlib import pyplot\n",
    "pyplot.imshow(data)\n",
    "pyplot.show()"
   ]
  },
  {
   "cell_type": "markdown",
   "metadata": {
    "cell_tags": []
   },
   "source": [
    "As regiões azuis neste mapa de calor são valores baixos, enquanto o vermelho mostra valores altos.\n",
    "Como podemos ver, a inflamação aumenta e cai em um período de 40 dias.\n",
    "Vamos dar uma olhada na inflamação média ao longo do tempo:"
   ]
  },
  {
   "cell_type": "code",
   "execution_count": 38,
   "metadata": {
    "cell_tags": []
   },
   "outputs": [
    {
     "data": {
      "image/png": "[encoded data removed]",
      "text/plain": [
       "<Figure size 640x480 with 1 Axes>"
      ]
     },
     "metadata": {},
     "output_type": "display_data"
    }
   ],
   "source": [
    "ave_inflammation = data.mean(axis=0)\n",
    "# pyplot.figure(figsize=(3, 3))\n",
    "pyplot.plot(ave_inflammation)\n",
    "pyplot.show()"
   ]
  },
  {
   "cell_type": "markdown",
   "metadata": {
    "cell_tags": []
   },
   "source": [
    "Aqui,\n",
    "colocamos a média por dia em todos os pacientes na variável `ave_inflammation`,\n",
    "então pedimos o `pyplot` para criar e exibir um gráfico de linha desses valores.\n",
    "O resultado é aproximadamente um aumento linear e queda,o que é suspeito:\n",
    "com base em outros estudos, esperamos um aumento mais acentuado e queda mais lenta.\n",
    "Vamos dar uma olhada em outras duas estatísticas:"
   ]
  },
  {
   "cell_type": "code",
   "execution_count": 37,
   "metadata": {
    "cell_tags": []
   },
   "outputs": [
    {
     "name": "stdout",
     "output_type": "stream",
     "text": [
      "inflamação máxima por dia\n"
     ]
    },
    {
     "data": {
      "image/png": "[encoded data removed]",
      "text/plain": [
       "<Figure size 640x480 with 1 Axes>"
      ]
     },
     "metadata": {},
     "output_type": "display_data"
    },
    {
     "name": "stdout",
     "output_type": "stream",
     "text": [
      "inflamação mínima por dia\n"
     ]
    },
    {
     "data": {
      "image/png": "[encoded data removed]",
      "text/plain": [
       "<Figure size 640x480 with 1 Axes>"
      ]
     },
     "metadata": {},
     "output_type": "display_data"
    }
   ],
   "source": [
    "print ('inflamação máxima por dia')\n",
    "pyplot.plot(data.max(axis=0))\n",
    "pyplot.show()\n",
    "\n",
    "print ('inflamação mínima por dia')\n",
    "pyplot.plot(data.min(axis=0))\n",
    "pyplot.show()"
   ]
  },
  {
   "cell_type": "markdown",
   "metadata": {
    "cell_tags": []
   },
   "source": [
    "O valor máximo aumenta e cai perfeitamente,\n",
    "enquanto o mínimo parece ser uma função de etapas.\n",
    "Nenhum resultado parece particularmente provável,\n",
    "então, há um erro em nossos cálculos\n",
    "ou algo está errado com nossos dados."
   ]
  },
  {
   "cell_type": "markdown",
   "metadata": {
    "cell_tags": [
     "challenges"
    ]
   },
   "source": [
    "#### Exercício\n",
    "1. Crie um gráfico que mostre o desvio padrão (numpy.std) dos dados de inflamação para cada dia em todos os pacientes."
   ]
  },
  {
   "cell_type": "code",
   "execution_count": null,
   "metadata": {},
   "outputs": [],
   "source": []
  },
  {
   "cell_type": "markdown",
   "metadata": {
    "cell_tags": [],
    "editable": true,
    "slideshow": {
     "slide_type": ""
    },
    "tags": []
   },
   "source": [
    "### Resumindo"
   ]
  },
  {
   "cell_type": "markdown",
   "metadata": {
    "cell_tags": []
   },
   "source": [
    "É muito comum criar um [alias](http://swcarpentry.github.io/python-novice-inflammation-2.7/reference.html#alias) (alias renomeação de bilioteca) para uma biblioteca ao importá-la\n",
    "para reduzir a quantidade de digitação que temos que fazer.\n",
    "Aqui estão os nossos três gráficos lado a lado usando aliases para `numpy` e` pyplot`:"
   ]
  },
  {
   "cell_type": "code",
   "execution_count": 42,
   "metadata": {
    "cell_tags": []
   },
   "outputs": [
    {
     "data": {
      "image/png": "[encoded data removed]",
      "text/plain": [
       "<Figure size 1000x300 with 3 Axes>"
      ]
     },
     "metadata": {},
     "output_type": "display_data"
    }
   ],
   "source": [
    "import numpy as np\n",
    "from matplotlib import pyplot as plt\n",
    "\n",
    "data = np.loadtxt(fname='data/inflammation-01.csv', delimiter=',')\n",
    "\n",
    "plt.figure(figsize=(10.0, 3.0))\n",
    "\n",
    "plt.subplot(1, 3, 1)\n",
    "plt.ylabel('average')\n",
    "plt.plot(data.mean(0))\n",
    "\n",
    "plt.subplot(1, 3, 2)\n",
    "plt.ylabel('max')\n",
    "plt.plot(data.max(0))\n",
    "\n",
    "plt.subplot(1, 3, 3)\n",
    "plt.ylabel('min')\n",
    "plt.plot(data.min(0))\n",
    "\n",
    "plt.tight_layout()\n",
    "plt.show()"
   ]
  },
  {
   "cell_type": "markdown",
   "metadata": {
    "cell_tags": []
   },
   "source": [
    "As duas primeiras linhas recarregam nossas bibliotecas como `np` e `plt`,\n",
    "que são os alias que a maioria dos programadores de Python usam.\n",
    "A chamada para `loadtxt` lê nossos dados,\n",
    " o resto do programa diz a biblioteca de plota os gráficos\n",
    "o quão grande queremos que a figura seja,\n",
    "que estamos criando três sub-gráficos,\n",
    "o que desenhar para cada um,\n",
    "e que queremos um layout menor.\n",
    "(Perversamente,\n",
    "se excluirmos essa chamada para `plt.tight_layout ()`,\n",
    "os gráficos sairão realmente esticados e mais próxima.)"
   ]
  },
  {
   "cell_type": "markdown",
   "metadata": {
    "cell_tags": [
     "challenges"
    ]
   },
   "source": [
    "#### Exercício\n",
    "\n",
    "1. Modifique o programa para exibir os três gráficos em cima um do outro em vez de lado a lado."
   ]
  },
  {
   "cell_type": "markdown",
   "metadata": {
    "collapsed": true,
    "jupyter": {
     "outputs_hidden": true
    }
   },
   "source": [
    "#### Exercício\n",
    "\n",
    "Faça 4 gráficos contendo as seguintes informações:\n",
    " - Média da inflamação de todos os pacientes nos 10 primeiros dias;\n",
    " - Média da inflamação de todos os pacientes a cada 3 dias;\n",
    " - Média da inflamação dos 10 últimos pacientes nos 5 últimos dias;\n",
    " - Média de inflamação de cada paciente nos últimos 20 dias."
   ]
  },
  {
   "cell_type": "code",
   "execution_count": null,
   "metadata": {},
   "outputs": [],
   "source": []
  },
  {
   "cell_type": "markdown",
   "metadata": {
    "cell_tags": [
     "keypoints"
    ]
   },
   "source": [
    "#### Pontos Principais\n",
    "* Importar uma biblioteca para um programa usando `import nome_da_biblioteca`.\n",
    "* Usar a biblioteca `numpy` para trabalhar com arrays em Python.\n",
    "* Usar `variável = valor` para atribuir um valor a uma variável e gravá-la na memória.\n",
    "* As variáveis são criadas sob demanda sempre que um valor lhes é atribuído.\n",
    "* Usar `print (alguma_coisa)` para exibir o valor de `alguma_coisa`.\n",
    "* A expressão `array.shape` dá a forma de uma matriz.\n",
    "* Usar `array [x, y]` para selecionar um único elemento de uma matriz.\n",
    "* Os índices de matriz começam em 0, não 1.\n",
    "* Usar `low: high` para especificar uma fatia que inclui os índices de `low` até `high-1`.\n",
    "* Toda a indexação e corte que funciona em arrays também funciona em strings.\n",
    "* Usar `# algum tipo de explicação` para adicionar comentários aos programas.\n",
    "* Usar `array.mean ()`, `array.max ()` e `array.min ()` para calcular estatísticas simples.\n",
    "* Usar `array.mean (axis = 0)` ou `array.mean (axis = 1)` para calcular estatísticas no eixo especificado.\n",
    "* Usar a biblioteca `pyplot` de ` matplotlib` para criar visualizações simples."
   ]
  },
  {
   "cell_type": "markdown",
   "metadata": {
    "cell_tags": []
   },
   "source": [
    "#### Próximos passos\n",
    "\n",
    "Nosso trabalho até agora nos convenceu de que algo está errado com nosso primeiro arquivo de dados. Gostaríamos de verificar os outros 11 da mesma maneira,\n",
    "mas digitar repetidamente os mesmos comandos é tedioso e propenso a erros.\n",
    "Como os computadores não ficam entediados (que sabemos)\n",
    "devemos criar uma maneira de fazer uma análise completa com um único comando,\n",
    "e então descobrir como repetir esse passo uma vez para cada arquivo.\n",
    "Essas operações são assuntos das próximas duas lições."
   ]
  }
 ],
 "metadata": {
  "anaconda-cloud": {},
  "kernelspec": {
   "display_name": "Python 3 (ipykernel)",
   "language": "python",
   "name": "python3"
  },
  "language_info": {
   "codemirror_mode": {
    "name": "ipython",
    "version": 3
   },
   "file_extension": ".py",
   "mimetype": "text/x-python",
   "name": "python",
   "nbconvert_exporter": "python",
   "pygments_lexer": "ipython3",
   "version": "3.8.10"
  }
 },
 "nbformat": 4,
 "nbformat_minor": 4
}
