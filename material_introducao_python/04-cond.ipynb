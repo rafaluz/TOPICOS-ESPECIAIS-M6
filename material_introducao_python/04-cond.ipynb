{
 "cells": [
  {
   "cell_type": "markdown",
   "metadata": {
    "cell_tags": []
   },
   "source": [
    "## 4 - Fazendo Escolhas"
   ]
  },
  {
   "cell_type": "markdown",
   "metadata": {
    "cell_tags": []
   },
   "source": [
    "Nossas lições anteriores nos mostraram como manipular dados,\n",
    "definir nossas próprias funções,\n",
    "e repetir as coisas.\n",
    "Contudo,\n",
    "os programas que escrevemos até agora sempre fazem as mesmas coisas,\n",
    "independentemente dos dados que eles recebem.\n",
    "Queremos que os programas façam escolhas com base nos valores que estão manipulando."
   ]
  },
  {
   "cell_type": "markdown",
   "metadata": {
    "cell_tags": [
     "objectives"
    ]
   },
   "source": [
    "#### Objetivos\n",
    "* Escreva declarações condicionais incluindo `if`,` elif` e `else`.\n",
    "* Avaliar corretamente expressões contendo `and` e `or`.\n",
    "* Escrever e interpretar corretamente o código que contém loops e condicionamentos aninhados."
   ]
  },
  {
   "cell_type": "markdown",
   "metadata": {
    "cell_tags": []
   },
   "source": [
    "### Condicionais\n"
   ]
  },
  {
   "cell_type": "markdown",
   "metadata": {
    "cell_tags": []
   },
   "source": [
    "A outra coisa que precisamos para criar nossos programas é uma maneira de fazer escolhas com base em um valor de dados.\n",
    "A ferramenta que a Python nos dá para fazer isso é chamada de [declaração condicional](http://swcarpentry.github.io/python-novice-inflammation-2.7/reference.html#conditional-statement),\n",
    "e é assim:\n"
   ]
  },
  {
   "cell_type": "code",
   "execution_count": 3,
   "metadata": {
    "cell_tags": []
   },
   "outputs": [
    {
     "name": "stdout",
     "output_type": "stream",
     "text": [
      "not greater\n",
      "done\n"
     ]
    }
   ],
   "source": [
    "num = 37\n",
    "if num > 100:\n",
    "    print ('greater')\n",
    "else:\n",
    "    print ('not greater')\n",
    "print ('done')"
   ]
  },
  {
   "cell_type": "markdown",
   "metadata": {
    "cell_tags": []
   },
   "source": [
    "A segunda linha deste código usa a palavra-chave `if` para dizer ao Python que queremos fazer uma escolha.\n",
    "Se o teste que se segue é verdade,\n",
    "o corpo do `if`\n",
    "(ou seja, as linhas recuadas embaixo) são executadas.\n",
    "Se o teste for falso,\n",
    "O corpo do `else` é executado em vez disso.\n",
    "Apenas um ou outro é executado:"
   ]
  },
  {
   "attachments": {
    "e3c2b5c9-7877-4bcb-aeb2-dfbaf64da163.png": {
     "image/png": "[encoded data removed]"
    }
   },
   "cell_type": "markdown",
   "metadata": {},
   "source": [
    "![image.png](attachment:e3c2b5c9-7877-4bcb-aeb2-dfbaf64da163.png)"
   ]
  },
  {
   "cell_type": "markdown",
   "metadata": {
    "cell_tags": []
   },
   "source": [
    "Declarações condicionais não precisam incluir um `else`.\n",
    "Se não houver um, Python simplesmente não faz nada se o teste for falso:"
   ]
  },
  {
   "cell_type": "code",
   "execution_count": null,
   "metadata": {
    "cell_tags": []
   },
   "outputs": [],
   "source": [
    "num = 53\n",
    "print ('before conditional...')\n",
    "if num > 100:\n",
    "    print ('53 is greater than 100')\n",
    "print ('...after conditional')"
   ]
  },
  {
   "cell_type": "markdown",
   "metadata": {
    "cell_tags": []
   },
   "source": [
    "Nós também podemos encadear vários testes juntos usando `elif`,\n",
    "o que é a versão curta para \"else if\".\n",
    "Isso torna simples escrever uma função que retorna o sinal de um número:"
   ]
  },
  {
   "cell_type": "code",
   "execution_count": 8,
   "metadata": {
    "cell_tags": []
   },
   "outputs": [
    {
     "name": "stdout",
     "output_type": "stream",
     "text": [
      "sign of -3 :  -1\n"
     ]
    }
   ],
   "source": [
    "def sign(num):\n",
    "    if num > 0:\n",
    "        return 1\n",
    "    elif num == 0:\n",
    "        return 0\n",
    "    else:\n",
    "        return -1\n",
    "\n",
    "value = -3\n",
    "print ('sign of',value,': ', sign(value))"
   ]
  },
  {
   "cell_type": "markdown",
   "metadata": {
    "cell_tags": []
   },
   "source": [
    "Uma coisa importante para notar no código acima é que usamos um sinal de duplo igual `==` para testar a igualdade\n",
    "em vez de um único sinal de igual\n",
    "porque o último é usado para significar atribuição.\n",
    "Esta convenção foi herdada de C,\n",
    "e muitas outras linguagens de programação funcionam da mesma maneira.\n",
    "\n",
    "Podemos também combinar testes usando `and` e `or`.\n",
    "`and` só é verdade se ambas as partes são verdadeiras:"
   ]
  },
  {
   "cell_type": "code",
   "execution_count": 7,
   "metadata": {
    "cell_tags": []
   },
   "outputs": [
    {
     "name": "stdout",
     "output_type": "stream",
     "text": [
      "one part is not true\n"
     ]
    }
   ],
   "source": [
    "if (1 > 0) and (-1 > 0):\n",
    "    print( 'both parts are true')\n",
    "else:\n",
    "    print ('one part is not true')"
   ]
  },
  {
   "cell_type": "markdown",
   "metadata": {
    "cell_tags": []
   },
   "source": [
    "enquanto `or` é true se qualquer uma das partes for verdadeira:"
   ]
  },
  {
   "cell_type": "code",
   "execution_count": 13,
   "metadata": {
    "cell_tags": []
   },
   "outputs": [
    {
     "name": "stdout",
     "output_type": "stream",
     "text": [
      "one part is not true\n"
     ]
    }
   ],
   "source": [
    "if (1 < 0) or (len('leftsadasd') < len('right')):\n",
    "    print ('at least one test is true')\n",
    "else:\n",
    "    print ('one part is not true')"
   ]
  },
  {
   "cell_type": "code",
   "execution_count": null,
   "metadata": {},
   "outputs": [],
   "source": []
  }
 ],
 "metadata": {
  "kernelspec": {
   "display_name": "Python 3 (ipykernel)",
   "language": "python",
   "name": "python3"
  },
  "language_info": {
   "codemirror_mode": {
    "name": "ipython",
    "version": 3
   },
   "file_extension": ".py",
   "mimetype": "text/x-python",
   "name": "python",
   "nbconvert_exporter": "python",
   "pygments_lexer": "ipython3",
   "version": "3.10.12"
  }
 },
 "nbformat": 4,
 "nbformat_minor": 4
}
