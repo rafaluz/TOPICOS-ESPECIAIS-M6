{
 "cells": [
  {
   "cell_type": "code",
   "execution_count": 1,
   "id": "cb5bd61c",
   "metadata": {},
   "outputs": [
    {
     "name": "stderr",
     "output_type": "stream",
     "text": [
      "2023-12-08 14:57:44.096001: I external/local_tsl/tsl/cuda/cudart_stub.cc:31] Could not find cuda drivers on your machine, GPU will not be used.\n",
      "2023-12-08 14:57:44.143154: E external/local_xla/xla/stream_executor/cuda/cuda_dnn.cc:9261] Unable to register cuDNN factory: Attempting to register factory for plugin cuDNN when one has already been registered\n",
      "2023-12-08 14:57:44.143190: E external/local_xla/xla/stream_executor/cuda/cuda_fft.cc:607] Unable to register cuFFT factory: Attempting to register factory for plugin cuFFT when one has already been registered\n",
      "2023-12-08 14:57:44.144790: E external/local_xla/xla/stream_executor/cuda/cuda_blas.cc:1515] Unable to register cuBLAS factory: Attempting to register factory for plugin cuBLAS when one has already been registered\n",
      "2023-12-08 14:57:44.152527: I external/local_tsl/tsl/cuda/cudart_stub.cc:31] Could not find cuda drivers on your machine, GPU will not be used.\n",
      "2023-12-08 14:57:44.153061: I tensorflow/core/platform/cpu_feature_guard.cc:182] This TensorFlow binary is optimized to use available CPU instructions in performance-critical operations.\n",
      "To enable the following instructions: AVX2 FMA, in other operations, rebuild TensorFlow with the appropriate compiler flags.\n",
      "2023-12-08 14:57:45.147848: W tensorflow/compiler/tf2tensorrt/utils/py_utils.cc:38] TF-TRT Warning: Could not find TensorRT\n"
     ]
    }
   ],
   "source": [
    "import matplotlib.pyplot as plt\n",
    "from sklearn.model_selection import train_test_split\n",
    "from sklearn import metrics\n",
    "from sklearn.preprocessing import LabelBinarizer\n",
    "import numpy as np\n",
    "from sklearn.utils import class_weight\n",
    "import os\n",
    "from datetime import datetime\n",
    "from glob import glob\n",
    "from sklearn.preprocessing import MinMaxScaler\n",
    "import pandas as pd\n",
    "from skimage import data, color\n",
    "from skimage.transform import rescale, resize, downscale_local_mean\n",
    "from skimage.io import imread, imsave, imread_collection, MultiImage, imshow\n",
    "%matplotlib inline\n",
    "from keras.layers import Conv3D, MaxPool3D, Flatten, Dense, Activation\n",
    "from keras.layers import Dropout, Input, BatchNormalization\n",
    "from sklearn.metrics import (\n",
    "    confusion_matrix, accuracy_score, cohen_kappa_score, \n",
    "    classification_report, roc_auc_score, recall_score, precision_score, f1_score)\n",
    "from keras.losses import categorical_crossentropy\n",
    "from keras.optimizers import Adadelta, SGD, RMSprop, Adagrad, Adam, Adamax, Nadam\n",
    "from keras import regularizers\n",
    "from keras.models import load_model, Sequential\n",
    "# from keras.utils import multi_gpu_model\n",
    "from matplotlib.pyplot import cm\n",
    "from mpl_toolkits.mplot3d import Axes3D\n",
    "from keras.models import Model\n",
    "from keras.callbacks import ModelCheckpoint, EarlyStopping, ReduceLROnPlateau\n",
    "import keras\n",
    "# from keras.applications import ResNet50, inception_v3, resnet50, mobilenet\n",
    "from keras.applications.vgg16 import VGG16\n",
    "from tensorflow.keras.preprocessing.image import ImageDataGenerator\n",
    "import h5py\n",
    "import tensorflow as tf\n",
    "\n",
    "from keras.regularizers import l1, l2"
   ]
  },
  {
   "cell_type": "code",
   "execution_count": 2,
   "id": "a16ff96e",
   "metadata": {},
   "outputs": [],
   "source": [
    "# utilizar a gpu 0\n",
    "# physical_devices = tf.config.experimental.list_physical_devices('GPU')\n",
    "# tf.config.experimental.set_memory_growth(physical_devices[0], True)"
   ]
  },
  {
   "cell_type": "markdown",
   "id": "d8d819ec-9a33-4656-9c80-2e4639505ce9",
   "metadata": {},
   "source": [
    "**Importando a base de imagens**"
   ]
  },
  {
   "cell_type": "code",
   "execution_count": 3,
   "id": "2c57725f",
   "metadata": {},
   "outputs": [],
   "source": [
    "database_classes = glob('database/*/')\n",
    "n_classes = len(database_classes)\n",
    "n_files = glob('database/*/*.tif')\n",
    "\n",
    "labels = np.zeros((len(n_files),n_classes))\n",
    "images = np.zeros((len(n_files),100,100,3))\n",
    "\n",
    "cont = 0\n",
    "lb = 0\n",
    "for classes in database_classes:\n",
    "    files_in_classe = glob(classes+'*.tif')\n",
    "    for fc in files_in_classe:\n",
    "        labels[cont,lb] = 1\n",
    "        im = imread(fc)\n",
    "        image_resized = resize(im, (100,100,3))\n",
    "        images[cont,:,:,:] = image_resized\n",
    "        cont+=1\n",
    "    lb +=1"
   ]
  },
  {
   "cell_type": "markdown",
   "id": "d739c27a-6988-4d95-9c9b-ce55252a8ce5",
   "metadata": {},
   "source": [
    "**Divisão treino/teste**"
   ]
  },
  {
   "cell_type": "code",
   "execution_count": 4,
   "id": "97c37c7e-e080-41fc-a550-5605d3770d52",
   "metadata": {},
   "outputs": [],
   "source": [
    "from sklearn.model_selection import train_test_split\n",
    "\n",
    "X_train, X_test, Y_train, Y_test = train_test_split(images, labels, test_size = 0.3)"
   ]
  },
  {
   "cell_type": "code",
   "execution_count": 5,
   "id": "b9ab38a7-bb74-4ed6-82fe-3dd0ee425e36",
   "metadata": {},
   "outputs": [
    {
     "name": "stdout",
     "output_type": "stream",
     "text": [
      "Tamanho do Treino:  (140, 100, 100, 3)\n",
      "Tamanho do Teste:  (60, 100, 100, 3)\n"
     ]
    }
   ],
   "source": [
    "print('Tamanho do Treino: ', X_train.shape)\n",
    "print('Tamanho do Teste: ', X_test.shape)"
   ]
  },
  {
   "cell_type": "markdown",
   "id": "46163210-fc8f-4d4d-b850-12ad38d02a9a",
   "metadata": {},
   "source": [
    "**Salvar os pesos do melhor modelo**"
   ]
  },
  {
   "cell_type": "code",
   "execution_count": 6,
   "id": "82e900d3-caf7-4987-aa78-ae24f3d416c6",
   "metadata": {},
   "outputs": [],
   "source": [
    "# now = datetime.now()\n",
    "# timestamp = datetime.timestamp(now)\n",
    "\n",
    "checkpoint = ModelCheckpoint(\n",
    "    \"best_model.h5\", monitor='val_acc', verbose=1,\n",
    "    save_best_only=True, mode='max')\n"
   ]
  },
  {
   "cell_type": "markdown",
   "id": "71305bd7-0400-4ca3-9866-16f0754278a7",
   "metadata": {},
   "source": [
    "**VGG16**"
   ]
  },
  {
   "cell_type": "code",
   "execution_count": 7,
   "id": "baff6321-a771-4e52-90ca-d8e0c0d35ab0",
   "metadata": {},
   "outputs": [],
   "source": [
    "model = VGG16(weights='imagenet', include_top=False, input_shape=(100,100, 3))"
   ]
  },
  {
   "cell_type": "markdown",
   "id": "2afff465-a181-44ad-9e82-62c2f2d48afd",
   "metadata": {},
   "source": [
    "**Congelando as camadas do modelo**"
   ]
  },
  {
   "cell_type": "code",
   "execution_count": 8,
   "id": "765b6413-7434-4ced-a504-30f16ace77d1",
   "metadata": {},
   "outputs": [
    {
     "name": "stdout",
     "output_type": "stream",
     "text": [
      "<keras.src.engine.input_layer.InputLayer object at 0x7f222536dab0>: False\n",
      "<keras.src.layers.convolutional.conv2d.Conv2D object at 0x7f222536ebf0>: False\n",
      "<keras.src.layers.convolutional.conv2d.Conv2D object at 0x7f21a27b5900>: False\n",
      "<keras.src.layers.pooling.max_pooling2d.MaxPooling2D object at 0x7f219caf0c10>: False\n",
      "<keras.src.layers.convolutional.conv2d.Conv2D object at 0x7f219caf1330>: False\n",
      "<keras.src.layers.convolutional.conv2d.Conv2D object at 0x7f219caf19f0>: False\n",
      "<keras.src.layers.pooling.max_pooling2d.MaxPooling2D object at 0x7f219caf2e30>: False\n",
      "<keras.src.layers.convolutional.conv2d.Conv2D object at 0x7f219caf37f0>: False\n",
      "<keras.src.layers.convolutional.conv2d.Conv2D object at 0x7f219caf3dc0>: False\n",
      "<keras.src.layers.convolutional.conv2d.Conv2D object at 0x7f219caf3670>: False\n",
      "<keras.src.layers.pooling.max_pooling2d.MaxPooling2D object at 0x7f219cb6d750>: False\n",
      "<keras.src.layers.convolutional.conv2d.Conv2D object at 0x7f219cb6e020>: False\n",
      "<keras.src.layers.convolutional.conv2d.Conv2D object at 0x7f219cb6e6b0>: False\n",
      "<keras.src.layers.convolutional.conv2d.Conv2D object at 0x7f219cb6f280>: False\n",
      "<keras.src.layers.pooling.max_pooling2d.MaxPooling2D object at 0x7f219cb6f8b0>: False\n",
      "<keras.src.layers.convolutional.conv2d.Conv2D object at 0x7f219cb6d480>: False\n",
      "<keras.src.layers.convolutional.conv2d.Conv2D object at 0x7f219c180730>: False\n",
      "<keras.src.layers.convolutional.conv2d.Conv2D object at 0x7f219c1815a0>: False\n",
      "<keras.src.layers.pooling.max_pooling2d.MaxPooling2D object at 0x7f219c182b90>: False\n"
     ]
    }
   ],
   "source": [
    "for layer in model.layers:\n",
    "    layer.trainable = False\n",
    "    \n",
    "# for layer in model.layers[15:]:\n",
    "#     layer.trainable = True\n",
    "\n",
    "for layer in model.layers:\n",
    "    print(\"{}: {}\".format(layer, layer.trainable))"
   ]
  },
  {
   "cell_type": "markdown",
   "id": "74b0ac77-289d-4691-90d5-1f71087941de",
   "metadata": {},
   "source": [
    "**Configurando a Camada Totalmente Conectada**"
   ]
  },
  {
   "cell_type": "code",
   "execution_count": 9,
   "id": "6ba196ea-8a3a-4c24-80e1-367260f6e7bf",
   "metadata": {},
   "outputs": [],
   "source": [
    "headModel = model.output\n",
    "headModel = Flatten()(headModel)\n",
    "# headModel = BatchNormalization()(headModel)\n",
    "headModel = Dense(2048, kernel_regularizer=l2(0.01), kernel_initializer='he_uniform', activation=\"relu\")(headModel)\n",
    "headModel = Dropout(0.2)(headModel)\n",
    "# headModel = Dense(256, kernel_regularizer=l2(0.01), kernel_initializer='he_uniform', activation=\"relu\")(headModel)\n",
    "# headModel = Dropout(0.2)(headModel)\n",
    "headModel = Dense(n_classes, activation='softmax')(headModel)\n",
    "model = Model(inputs=model.input, outputs=headModel)"
   ]
  },
  {
   "cell_type": "markdown",
   "id": "11f55eb8-a872-4426-bbd4-19c01de77b98",
   "metadata": {},
   "source": [
    "**Compilando o modelo**"
   ]
  },
  {
   "cell_type": "code",
   "execution_count": 10,
   "id": "10ee8fcd-0634-42c0-92cd-da50fc1942b8",
   "metadata": {},
   "outputs": [],
   "source": [
    "p_optimizers = Adam(learning_rate=0.0001)\n",
    "# p_optimizers='SGD'\n",
    "# p_optimizers = SGD(learning_rate=1e-3, momentum=0.9, decay=1e-3 / 25)"
   ]
  },
  {
   "cell_type": "code",
   "execution_count": 11,
   "id": "01377cc2-bb86-4989-8dfc-043661401b0d",
   "metadata": {},
   "outputs": [],
   "source": [
    "model.compile(loss=categorical_crossentropy, optimizer=p_optimizers, metrics=['acc'])\n",
    "# model.compile(loss='binary_crossentropy', optimizer=p_optimizers, metrics=['acc'])"
   ]
  },
  {
   "cell_type": "markdown",
   "id": "4888fbf8-bb60-44e3-b065-32b87f6791bd",
   "metadata": {},
   "source": [
    "**Treinando o modelo**"
   ]
  },
  {
   "cell_type": "code",
   "execution_count": 12,
   "id": "59ee3a06-807c-4074-b881-2af771f5b3dc",
   "metadata": {},
   "outputs": [],
   "source": [
    "EPOCHS = 20\n",
    "BATCH_SIZE = 10"
   ]
  },
  {
   "cell_type": "code",
   "execution_count": 13,
   "id": "974cc2ae-e771-4ba7-abd9-34fc30faee32",
   "metadata": {},
   "outputs": [
    {
     "name": "stdout",
     "output_type": "stream",
     "text": [
      "Epoch 1/20\n"
     ]
    },
    {
     "name": "stderr",
     "output_type": "stream",
     "text": [
      "/tmp/ipykernel_10396/1309331039.py:8: UserWarning: `Model.fit_generator` is deprecated and will be removed in a future version. Please use `Model.fit`, which supports generators.\n",
      "  history = model.fit_generator(\n"
     ]
    },
    {
     "name": "stdout",
     "output_type": "stream",
     "text": [
      "11/11 [==============================] - ETA: 0s - loss: 40.5772 - acc: 0.5980\n",
      "Epoch 1: val_acc improved from -inf to 0.55000, saving model to best_model.h5\n"
     ]
    },
    {
     "name": "stderr",
     "output_type": "stream",
     "text": [
      "/home/rafael/Documentos/IFPI/TOPICOS-ESPECIAIS-M6/env/lib/python3.10/site-packages/keras/src/engine/training.py:3103: UserWarning: You are saving your model as an HDF5 file via `model.save()`. This file format is considered legacy. We recommend using instead the native Keras format, e.g. `model.save('my_model.keras')`.\n",
      "  saving_api.save_model(\n"
     ]
    },
    {
     "name": "stdout",
     "output_type": "stream",
     "text": [
      "11/11 [==============================] - 8s 692ms/step - loss: 40.5772 - acc: 0.5980 - val_loss: 39.1330 - val_acc: 0.5500\n",
      "Epoch 2/20\n",
      "11/11 [==============================] - ETA: 0s - loss: 37.3290 - acc: 0.8727\n",
      "Epoch 2: val_acc improved from 0.55000 to 0.95000, saving model to best_model.h5\n",
      "11/11 [==============================] - 7s 681ms/step - loss: 37.3290 - acc: 0.8727 - val_loss: 35.9638 - val_acc: 0.9500\n",
      "Epoch 3/20\n",
      "11/11 [==============================] - ETA: 0s - loss: 34.7462 - acc: 0.9608\n",
      "Epoch 3: val_acc did not improve from 0.95000\n",
      "11/11 [==============================] - 7s 613ms/step - loss: 34.7462 - acc: 0.9608 - val_loss: 33.4473 - val_acc: 0.9500\n",
      "Epoch 4/20\n",
      "11/11 [==============================] - ETA: 0s - loss: 32.2727 - acc: 1.0000\n",
      "Epoch 4: val_acc did not improve from 0.95000\n",
      "11/11 [==============================] - 7s 591ms/step - loss: 32.2727 - acc: 1.0000 - val_loss: 31.0757 - val_acc: 0.9500\n",
      "Epoch 5/20\n",
      "11/11 [==============================] - ETA: 0s - loss: 29.9715 - acc: 0.9902\n",
      "Epoch 5: val_acc improved from 0.95000 to 1.00000, saving model to best_model.h5\n",
      "11/11 [==============================] - 7s 649ms/step - loss: 29.9715 - acc: 0.9902 - val_loss: 28.7824 - val_acc: 1.0000\n",
      "Epoch 6/20\n",
      "11/11 [==============================] - ETA: 0s - loss: 27.7427 - acc: 0.9902\n",
      "Epoch 6: val_acc did not improve from 1.00000\n",
      "11/11 [==============================] - 7s 642ms/step - loss: 27.7427 - acc: 0.9902 - val_loss: 26.8568 - val_acc: 0.9500\n",
      "Epoch 7/20\n",
      "11/11 [==============================] - ETA: 0s - loss: 25.7619 - acc: 1.0000\n",
      "Epoch 7: val_acc did not improve from 1.00000\n",
      "11/11 [==============================] - 7s 604ms/step - loss: 25.7619 - acc: 1.0000 - val_loss: 24.8151 - val_acc: 1.0000\n",
      "Epoch 8/20\n",
      "11/11 [==============================] - ETA: 0s - loss: 23.9962 - acc: 1.0000\n",
      "Epoch 8: val_acc did not improve from 1.00000\n",
      "11/11 [==============================] - 6s 588ms/step - loss: 23.9962 - acc: 1.0000 - val_loss: 23.1738 - val_acc: 0.9500\n",
      "Epoch 9/20\n",
      "11/11 [==============================] - ETA: 0s - loss: 22.2224 - acc: 1.0000\n",
      "Epoch 9: val_acc did not improve from 1.00000\n",
      "11/11 [==============================] - 6s 578ms/step - loss: 22.2224 - acc: 1.0000 - val_loss: 21.5282 - val_acc: 0.9500\n",
      "Epoch 10/20\n",
      "11/11 [==============================] - ETA: 0s - loss: 20.5920 - acc: 1.0000\n",
      "Epoch 10: val_acc did not improve from 1.00000\n",
      "11/11 [==============================] - 6s 574ms/step - loss: 20.5920 - acc: 1.0000 - val_loss: 19.9966 - val_acc: 0.9500\n",
      "Epoch 11/20\n",
      "11/11 [==============================] - ETA: 0s - loss: 19.1134 - acc: 1.0000\n",
      "Epoch 11: val_acc did not improve from 1.00000\n",
      "11/11 [==============================] - 7s 619ms/step - loss: 19.1134 - acc: 1.0000 - val_loss: 18.5812 - val_acc: 0.9500\n",
      "Epoch 12/20\n",
      "11/11 [==============================] - ETA: 0s - loss: 17.7244 - acc: 1.0000\n",
      "Epoch 12: val_acc did not improve from 1.00000\n",
      "11/11 [==============================] - 7s 600ms/step - loss: 17.7244 - acc: 1.0000 - val_loss: 17.0584 - val_acc: 1.0000\n",
      "Epoch 13/20\n",
      "11/11 [==============================] - ETA: 0s - loss: 16.3986 - acc: 1.0000\n",
      "Epoch 13: val_acc did not improve from 1.00000\n",
      "11/11 [==============================] - 6s 576ms/step - loss: 16.3986 - acc: 1.0000 - val_loss: 15.8082 - val_acc: 1.0000\n",
      "Epoch 14/20\n",
      "11/11 [==============================] - ETA: 0s - loss: 15.2390 - acc: 1.0000\n",
      "Epoch 14: val_acc did not improve from 1.00000\n",
      "11/11 [==============================] - 6s 584ms/step - loss: 15.2390 - acc: 1.0000 - val_loss: 14.8237 - val_acc: 0.9500\n",
      "Epoch 15/20\n",
      "11/11 [==============================] - ETA: 0s - loss: 14.1525 - acc: 1.0000\n",
      "Epoch 15: val_acc did not improve from 1.00000\n",
      "11/11 [==============================] - 7s 619ms/step - loss: 14.1525 - acc: 1.0000 - val_loss: 13.7909 - val_acc: 0.9500\n",
      "Epoch 16/20\n",
      "11/11 [==============================] - ETA: 0s - loss: 13.0866 - acc: 1.0000\n",
      "Epoch 16: val_acc did not improve from 1.00000\n",
      "11/11 [==============================] - 6s 579ms/step - loss: 13.0866 - acc: 1.0000 - val_loss: 12.8340 - val_acc: 0.9500\n",
      "Epoch 17/20\n",
      "11/11 [==============================] - ETA: 0s - loss: 12.1839 - acc: 1.0000\n",
      "Epoch 17: val_acc did not improve from 1.00000\n",
      "11/11 [==============================] - 6s 583ms/step - loss: 12.1839 - acc: 1.0000 - val_loss: 11.8988 - val_acc: 0.9500\n",
      "Epoch 18/20\n",
      "11/11 [==============================] - ETA: 0s - loss: 11.2625 - acc: 1.0000\n",
      "Epoch 18: val_acc did not improve from 1.00000\n",
      "11/11 [==============================] - 6s 574ms/step - loss: 11.2625 - acc: 1.0000 - val_loss: 11.0787 - val_acc: 0.9500\n",
      "Epoch 19/20\n",
      "11/11 [==============================] - ETA: 0s - loss: 10.4880 - acc: 1.0000\n",
      "Epoch 19: val_acc did not improve from 1.00000\n",
      "11/11 [==============================] - 6s 569ms/step - loss: 10.4880 - acc: 1.0000 - val_loss: 10.1076 - val_acc: 1.0000\n",
      "Epoch 20/20\n",
      "11/11 [==============================] - ETA: 0s - loss: 9.6847 - acc: 1.0000\n",
      "Epoch 20: val_acc did not improve from 1.00000\n",
      "11/11 [==============================] - 6s 614ms/step - loss: 9.6847 - acc: 1.0000 - val_loss: 9.3741 - val_acc: 1.0000\n"
     ]
    }
   ],
   "source": [
    "X_train, X_validation, Y_train, Y_validation = train_test_split(X_train, Y_train, test_size = 0.2)\n",
    "train_generator = ImageDataGenerator().flow(X_train, Y_train, batch_size=BATCH_SIZE)\n",
    "validation_generator = ImageDataGenerator().flow(X_validation, Y_validation, batch_size=BATCH_SIZE)\n",
    "\n",
    "steps_per_epoch = X_train.shape[0]//BATCH_SIZE\n",
    "validation_steps = X_validation.shape[0]//BATCH_SIZE\n",
    "\n",
    "history = model.fit_generator(\n",
    "    train_generator,\n",
    "    steps_per_epoch=steps_per_epoch,\n",
    "    epochs=EPOCHS,\n",
    "    verbose=1,\n",
    "    callbacks=[checkpoint],\n",
    "    validation_data=validation_generator,\n",
    "    validation_steps=validation_steps,\n",
    ")"
   ]
  },
  {
   "cell_type": "markdown",
   "id": "ec97573b-8499-4ab0-92ab-66850b12fc3f",
   "metadata": {},
   "source": [
    "**Plotando o historico da acc e loss**"
   ]
  },
  {
   "cell_type": "code",
   "execution_count": 14,
   "id": "491d0b5a-8c33-4eb5-99f9-f187e3c9746c",
   "metadata": {},
   "outputs": [
    {
     "data": {
      "image/png": "[encoded data removed]",
      "text/plain": [
       "<Figure size 640x480 with 1 Axes>"
      ]
     },
     "metadata": {},
     "output_type": "display_data"
    }
   ],
   "source": [
    "plt.plot(history.history[\"acc\"])\n",
    "plt.plot(history.history['val_acc'])\n",
    "plt.title(\"model accuracy\")\n",
    "plt.ylabel(\"accuracy\")\n",
    "plt.xlabel(\"epoch\")\n",
    "plt.legend([\"Accuracy\",\"Validation Accuracy\"])\n",
    "plt.show()"
   ]
  },
  {
   "cell_type": "code",
   "execution_count": 15,
   "id": "961cbd28-3369-403f-bc98-ee1b7ff4c8e9",
   "metadata": {},
   "outputs": [
    {
     "data": {
      "image/png": "[encoded data removed]",
      "text/plain": [
       "<Figure size 640x480 with 1 Axes>"
      ]
     },
     "metadata": {},
     "output_type": "display_data"
    }
   ],
   "source": [
    "plt.plot(history.history['loss'])\n",
    "plt.plot(history.history['val_loss'])\n",
    "plt.title(\"model loss\")\n",
    "plt.ylabel(\"loss\")\n",
    "plt.xlabel(\"epoch\")\n",
    "plt.legend([\"loss\",\"Validation Loss\"])\n",
    "plt.show()"
   ]
  },
  {
   "cell_type": "markdown",
   "id": "a209e08f-1ada-4542-8c03-d7d280f65177",
   "metadata": {},
   "source": [
    "**Testando o modelo**"
   ]
  },
  {
   "cell_type": "code",
   "execution_count": 16,
   "id": "73a0e9e8-8512-423d-a312-afc82beedb6a",
   "metadata": {},
   "outputs": [
    {
     "name": "stdout",
     "output_type": "stream",
     "text": [
      "2/2 [==============================] - 3s 1s/step - loss: 9.4011 - acc: 0.9500\n",
      "Test loss: 9.401143074035645\n",
      "Test accuracy: 0.949999988079071\n"
     ]
    }
   ],
   "source": [
    "score = model.evaluate(X_test, Y_test)\n",
    "print('Test loss:', score[0])\n",
    "print('Test accuracy:', score[1])"
   ]
  },
  {
   "cell_type": "markdown",
   "id": "0292d4cf-575b-485e-ba9b-8210afdafdaa",
   "metadata": {},
   "source": [
    "**Carregando o melhor modelo salvo**"
   ]
  },
  {
   "cell_type": "code",
   "execution_count": 17,
   "id": "d70e4496-4afa-4eed-ab2a-efe8ffc2058d",
   "metadata": {},
   "outputs": [],
   "source": [
    "model = load_model(\"./best_model.h5\")"
   ]
  },
  {
   "cell_type": "code",
   "execution_count": 18,
   "id": "651be578-7cad-4fe5-9a46-42b1ab8d5f6c",
   "metadata": {},
   "outputs": [
    {
     "name": "stdout",
     "output_type": "stream",
     "text": [
      "2/2 [==============================] - 3s 1s/step - loss: 28.8474 - acc: 0.9500\n",
      "Test loss: 28.84740447998047\n",
      "Test accuracy: 0.949999988079071\n"
     ]
    }
   ],
   "source": [
    "score = model.evaluate(X_test, Y_test)\n",
    "print('Test loss:', score[0])\n",
    "print('Test accuracy:', score[1])"
   ]
  },
  {
   "cell_type": "code",
   "execution_count": 19,
   "id": "60f6e154-aee2-44f0-b749-f359530a2bca",
   "metadata": {},
   "outputs": [],
   "source": [
    "test_generator = ImageDataGenerator().flow(X_test, Y_test, shuffle=False)\n",
    "#, batch_size=BATCH_SIZE\n",
    "\n",
    "# steps_test = X_test.shape[0]//BATCH_SIZE"
   ]
  },
  {
   "cell_type": "code",
   "execution_count": 20,
   "id": "a29ab9b1-1c33-4eaa-a67d-f46a0aee3b4f",
   "metadata": {},
   "outputs": [
    {
     "name": "stderr",
     "output_type": "stream",
     "text": [
      "/tmp/ipykernel_10396/1067064743.py:2: UserWarning: `Model.predict_generator` is deprecated and will be removed in a future version. Please use `Model.predict`, which supports generators.\n",
      "  pred = model.predict_generator(test_generator, verbose = 1)\n"
     ]
    },
    {
     "name": "stdout",
     "output_type": "stream",
     "text": [
      "2/2 [==============================] - 3s 1s/step\n"
     ]
    },
    {
     "data": {
      "text/plain": [
       "array([[0.01527582, 0.98472416],\n",
       "       [0.9599204 , 0.0400796 ],\n",
       "       [0.94315606, 0.05684392],\n",
       "       [0.00181146, 0.99818856],\n",
       "       [0.16347803, 0.8365219 ],\n",
       "       [0.58754486, 0.41245517],\n",
       "       [0.00327175, 0.99672824],\n",
       "       [0.06517687, 0.93482304],\n",
       "       [0.0443465 , 0.9556534 ],\n",
       "       [0.03861134, 0.96138865],\n",
       "       [0.01750341, 0.9824966 ],\n",
       "       [0.01525609, 0.9847439 ],\n",
       "       [0.10937472, 0.89062524],\n",
       "       [0.02379296, 0.976207  ],\n",
       "       [0.03288211, 0.967118  ],\n",
       "       [0.8596172 , 0.1403828 ],\n",
       "       [0.9875507 , 0.01244938],\n",
       "       [0.00435897, 0.99564093],\n",
       "       [0.5065507 , 0.49344915],\n",
       "       [0.98148876, 0.01851118],\n",
       "       [0.00435373, 0.99564624],\n",
       "       [0.9879163 , 0.01208363],\n",
       "       [0.9697044 , 0.03029548],\n",
       "       [0.99144155, 0.00855845],\n",
       "       [0.05388068, 0.9461193 ],\n",
       "       [0.01931717, 0.9806828 ],\n",
       "       [0.980711  , 0.01928898],\n",
       "       [0.95330584, 0.04669421],\n",
       "       [0.98814434, 0.01185574],\n",
       "       [0.9829145 , 0.01708547],\n",
       "       [0.02171443, 0.9782856 ],\n",
       "       [0.6131979 , 0.38680208],\n",
       "       [0.01457024, 0.98542976],\n",
       "       [0.7752082 , 0.2247918 ],\n",
       "       [0.99632484, 0.00367511],\n",
       "       [0.05111493, 0.94888514],\n",
       "       [0.9781493 , 0.02185073],\n",
       "       [0.89299566, 0.10700438],\n",
       "       [0.22988145, 0.7701185 ],\n",
       "       [0.60556245, 0.39443755],\n",
       "       [0.9125791 , 0.08742085],\n",
       "       [0.00433166, 0.99566823],\n",
       "       [0.00657198, 0.993428  ],\n",
       "       [0.32036918, 0.6796307 ],\n",
       "       [0.5843151 , 0.4156849 ],\n",
       "       [0.99420816, 0.00579183],\n",
       "       [0.28589973, 0.71410024],\n",
       "       [0.07431117, 0.92568886],\n",
       "       [0.9810797 , 0.01892031],\n",
       "       [0.5449275 , 0.45507246],\n",
       "       [0.04295851, 0.9570413 ],\n",
       "       [0.11281441, 0.8871857 ],\n",
       "       [0.10774849, 0.8922515 ],\n",
       "       [0.03620392, 0.96379596],\n",
       "       [0.23061189, 0.76938814],\n",
       "       [0.99684817, 0.00315182],\n",
       "       [0.17946257, 0.8205374 ],\n",
       "       [0.08262899, 0.9173711 ],\n",
       "       [0.07815187, 0.9218482 ],\n",
       "       [0.95581454, 0.04418539]], dtype=float32)"
      ]
     },
     "execution_count": 20,
     "metadata": {},
     "output_type": "execute_result"
    }
   ],
   "source": [
    "test_generator.reset()\n",
    "pred = model.predict_generator(test_generator, verbose = 1)\n",
    "pred"
   ]
  },
  {
   "cell_type": "code",
   "execution_count": 21,
   "id": "1b63e043-5045-4aaa-9780-6fc837e5579b",
   "metadata": {},
   "outputs": [
    {
     "data": {
      "text/plain": [
       "array([1, 0, 0, 1, 1, 0, 1, 1, 1, 1, 1, 1, 1, 1, 1, 0, 0, 1, 0, 0, 1, 0,\n",
       "       0, 0, 1, 1, 0, 0, 0, 0, 1, 0, 1, 0, 0, 1, 0, 0, 1, 0, 0, 1, 1, 1,\n",
       "       0, 0, 1, 1, 0, 0, 1, 1, 1, 1, 1, 0, 1, 1, 1, 0])"
      ]
     },
     "execution_count": 21,
     "metadata": {},
     "output_type": "execute_result"
    }
   ],
   "source": [
    "y_pred = np.argmax(pred, axis=1)\n",
    "y_pred"
   ]
  },
  {
   "cell_type": "code",
   "execution_count": 22,
   "id": "e21bc849-6bef-47df-9893-75d443136c28",
   "metadata": {},
   "outputs": [
    {
     "data": {
      "text/plain": [
       "array([1, 0, 0, 1, 1, 1, 1, 1, 1, 1, 1, 1, 1, 1, 1, 0, 0, 1, 0, 0, 1, 0,\n",
       "       0, 0, 1, 1, 0, 0, 0, 0, 1, 0, 1, 0, 0, 1, 0, 0, 1, 0, 0, 1, 1, 0,\n",
       "       1, 0, 1, 1, 0, 0, 1, 1, 1, 1, 1, 0, 1, 1, 1, 0])"
      ]
     },
     "execution_count": 22,
     "metadata": {},
     "output_type": "execute_result"
    }
   ],
   "source": [
    "# y_true = Y_test[:,-1]\n",
    "y_true = np.argmax(Y_test, axis=1)\n",
    "y_true"
   ]
  },
  {
   "cell_type": "markdown",
   "id": "1abec2f4-2643-4ba3-8884-29c00d41180e",
   "metadata": {},
   "source": [
    "**Calculando várias métricas**"
   ]
  },
  {
   "cell_type": "code",
   "execution_count": 23,
   "id": "58685abb-d089-4d3b-8518-42997e573092",
   "metadata": {},
   "outputs": [],
   "source": [
    "def calc_metrics(y_pred, y_true):\n",
    "    acc = accuracy_score(y_true, y_pred)\n",
    "    \n",
    "    tn, fp, fn, tp = confusion_matrix(y_true, y_pred).ravel()\n",
    "    specificity = (1.0 * tn) / (tn + fp)\n",
    "    sensitivity = (1.0 * tp) / (tp + fn)\n",
    "    \n",
    "    kappa = cohen_kappa_score(y_true, y_pred)\n",
    "    f1 = f1_score(y_true, y_pred, average='macro')\n",
    "    auc_score = roc_auc_score(y_true, y_pred,average=\"macro\")\n",
    "    recall = recall_score(y_true, y_pred, average='macro')\n",
    "    precision = precision_score(y_true, y_pred, average='macro')\n",
    "    \n",
    "    print('accuracy: ', acc*100)\n",
    "    print('specificity: ', specificity*100)\n",
    "    print('specificity: ', sensitivity*100)\n",
    "    print('kappa: {}'.format(kappa*100))\n",
    "    print('f1-score: {}'.format(f1*100))\n",
    "    print('AUC: {}'.format(auc_score*100))\n",
    "    print('recall: {}'.format(recall*100))\n",
    "    print('precision: {}'.format(precision*100))    \n",
    "    print('Confusion Matriz:\\n', confusion_matrix(y_true, y_pred))\n",
    "    \n",
    "    metrics = np.round([acc, specificity, sensitivity, kappa, f1, auc_score, recall, precision], 4)\n",
    "    return metrics"
   ]
  },
  {
   "cell_type": "code",
   "execution_count": 24,
   "id": "9610b268-b646-4e01-b887-2aa495ce6e30",
   "metadata": {},
   "outputs": [
    {
     "name": "stdout",
     "output_type": "stream",
     "text": [
      "accuracy:  95.0\n",
      "specificity:  96.15384615384616\n",
      "specificity:  94.11764705882352\n",
      "kappa: 89.86486486486487\n",
      "f1-score: 94.93100535060547\n",
      "AUC: 95.13574660633485\n",
      "recall: 95.13574660633483\n",
      "precision: 94.78114478114479\n",
      "Confusion Matriz:\n",
      " [[25  1]\n",
      " [ 2 32]]\n"
     ]
    },
    {
     "data": {
      "text/plain": [
       "array([0.95  , 0.9615, 0.9412, 0.8986, 0.9493, 0.9514, 0.9514, 0.9478])"
      ]
     },
     "execution_count": 24,
     "metadata": {},
     "output_type": "execute_result"
    }
   ],
   "source": [
    "metrics = calc_metrics(y_pred, y_true)\n",
    "metrics"
   ]
  }
 ],
 "metadata": {
  "kernelspec": {
   "display_name": "Python 3 (ipykernel)",
   "language": "python",
   "name": "python3"
  },
  "language_info": {
   "codemirror_mode": {
    "name": "ipython",
    "version": 3
   },
   "file_extension": ".py",
   "mimetype": "text/x-python",
   "name": "python",
   "nbconvert_exporter": "python",
   "pygments_lexer": "ipython3",
   "version": "3.10.12"
  }
 },
 "nbformat": 4,
 "nbformat_minor": 5
}
