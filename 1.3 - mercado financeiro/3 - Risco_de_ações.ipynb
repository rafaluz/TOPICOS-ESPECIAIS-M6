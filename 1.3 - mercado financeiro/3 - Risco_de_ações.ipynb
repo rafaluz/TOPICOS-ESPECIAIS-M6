{
 "cells": [
  {
   "cell_type": "markdown",
   "metadata": {
    "id": "Bgg_AisGjfoy"
   },
   "source": [
    "# Python para finanças - risco de ações"
   ]
  },
  {
   "cell_type": "markdown",
   "metadata": {},
   "source": [
    "Conteúdo da aula:\n",
    "*  Variância, desvio padrão e coeficiente de variação\n",
    "* Covariância e correlação\n",
    "* Riscos em portfólio de ações\n",
    "* Risco sistemático e não sistemático"
   ]
  },
  {
   "cell_type": "markdown",
   "metadata": {
    "id": "x7M2Np1bji4T"
   },
   "source": [
    "## Importação das bibliotecas"
   ]
  },
  {
   "cell_type": "code",
   "execution_count": 1,
   "metadata": {
    "id": "WgwxIUe5XG42"
   },
   "outputs": [],
   "source": [
    "import pandas as pd\n",
    "import numpy as np\n",
    "import math\n",
    "import matplotlib.pyplot as plt\n",
    "import seaborn as sns\n",
    "from scipy import stats"
   ]
  },
  {
   "cell_type": "markdown",
   "metadata": {},
   "source": [
    "##  Importação da base de dados"
   ]
  },
  {
   "cell_type": "code",
   "execution_count": 2,
   "metadata": {
    "colab": {
     "base_uri": "https://localhost:8080/",
     "height": 447
    },
    "id": "Bk2jXqp4BlZo",
    "outputId": "3cd3ac6e-b7f8-48ff-e9bd-90b1e4614ad0"
   },
   "outputs": [
    {
     "data": {
      "text/html": [
       "<div>\n",
       "<style scoped>\n",
       "    .dataframe tbody tr th:only-of-type {\n",
       "        vertical-align: middle;\n",
       "    }\n",
       "\n",
       "    .dataframe tbody tr th {\n",
       "        vertical-align: top;\n",
       "    }\n",
       "\n",
       "    .dataframe thead th {\n",
       "        text-align: right;\n",
       "    }\n",
       "</style>\n",
       "<table border=\"1\" class=\"dataframe\">\n",
       "  <thead>\n",
       "    <tr style=\"text-align: right;\">\n",
       "      <th></th>\n",
       "      <th>Date</th>\n",
       "      <th>GOL</th>\n",
       "      <th>CVC</th>\n",
       "      <th>WEGE</th>\n",
       "      <th>MGLU</th>\n",
       "      <th>TOTS</th>\n",
       "      <th>BOVA</th>\n",
       "    </tr>\n",
       "  </thead>\n",
       "  <tbody>\n",
       "    <tr>\n",
       "      <th>0</th>\n",
       "      <td>2015-01-02</td>\n",
       "      <td>14.99</td>\n",
       "      <td>15.20</td>\n",
       "      <td>5.923076</td>\n",
       "      <td>0.232812</td>\n",
       "      <td>11.910702</td>\n",
       "      <td>47.259998</td>\n",
       "    </tr>\n",
       "    <tr>\n",
       "      <th>1</th>\n",
       "      <td>2015-01-05</td>\n",
       "      <td>14.85</td>\n",
       "      <td>15.00</td>\n",
       "      <td>5.963461</td>\n",
       "      <td>0.237187</td>\n",
       "      <td>11.544731</td>\n",
       "      <td>46.320000</td>\n",
       "    </tr>\n",
       "    <tr>\n",
       "      <th>2</th>\n",
       "      <td>2015-01-06</td>\n",
       "      <td>15.21</td>\n",
       "      <td>14.80</td>\n",
       "      <td>5.875000</td>\n",
       "      <td>0.234062</td>\n",
       "      <td>10.822770</td>\n",
       "      <td>46.580002</td>\n",
       "    </tr>\n",
       "    <tr>\n",
       "      <th>3</th>\n",
       "      <td>2015-01-07</td>\n",
       "      <td>14.55</td>\n",
       "      <td>14.67</td>\n",
       "      <td>5.807692</td>\n",
       "      <td>0.241875</td>\n",
       "      <td>10.746248</td>\n",
       "      <td>48.150002</td>\n",
       "    </tr>\n",
       "    <tr>\n",
       "      <th>4</th>\n",
       "      <td>2015-01-08</td>\n",
       "      <td>14.27</td>\n",
       "      <td>14.15</td>\n",
       "      <td>5.905769</td>\n",
       "      <td>0.240000</td>\n",
       "      <td>10.995774</td>\n",
       "      <td>48.509998</td>\n",
       "    </tr>\n",
       "    <tr>\n",
       "      <th>...</th>\n",
       "      <td>...</td>\n",
       "      <td>...</td>\n",
       "      <td>...</td>\n",
       "      <td>...</td>\n",
       "      <td>...</td>\n",
       "      <td>...</td>\n",
       "      <td>...</td>\n",
       "    </tr>\n",
       "    <tr>\n",
       "      <th>2131</th>\n",
       "      <td>2023-09-05</td>\n",
       "      <td>6.89</td>\n",
       "      <td>2.43</td>\n",
       "      <td>35.910000</td>\n",
       "      <td>2.690000</td>\n",
       "      <td>27.730000</td>\n",
       "      <td>113.620003</td>\n",
       "    </tr>\n",
       "    <tr>\n",
       "      <th>2132</th>\n",
       "      <td>2023-09-06</td>\n",
       "      <td>6.70</td>\n",
       "      <td>2.31</td>\n",
       "      <td>35.549999</td>\n",
       "      <td>2.590000</td>\n",
       "      <td>27.760000</td>\n",
       "      <td>112.250000</td>\n",
       "    </tr>\n",
       "    <tr>\n",
       "      <th>2133</th>\n",
       "      <td>2023-09-08</td>\n",
       "      <td>6.69</td>\n",
       "      <td>2.34</td>\n",
       "      <td>35.400002</td>\n",
       "      <td>2.510000</td>\n",
       "      <td>27.700001</td>\n",
       "      <td>111.660004</td>\n",
       "    </tr>\n",
       "    <tr>\n",
       "      <th>2134</th>\n",
       "      <td>2023-09-11</td>\n",
       "      <td>6.68</td>\n",
       "      <td>2.37</td>\n",
       "      <td>35.279999</td>\n",
       "      <td>2.550000</td>\n",
       "      <td>28.030001</td>\n",
       "      <td>113.480003</td>\n",
       "    </tr>\n",
       "    <tr>\n",
       "      <th>2135</th>\n",
       "      <td>2023-09-12</td>\n",
       "      <td>6.71</td>\n",
       "      <td>2.46</td>\n",
       "      <td>35.650002</td>\n",
       "      <td>2.620000</td>\n",
       "      <td>28.620001</td>\n",
       "      <td>114.220001</td>\n",
       "    </tr>\n",
       "  </tbody>\n",
       "</table>\n",
       "<p>2136 rows × 7 columns</p>\n",
       "</div>"
      ],
      "text/plain": [
       "            Date    GOL    CVC       WEGE      MGLU       TOTS        BOVA\n",
       "0     2015-01-02  14.99  15.20   5.923076  0.232812  11.910702   47.259998\n",
       "1     2015-01-05  14.85  15.00   5.963461  0.237187  11.544731   46.320000\n",
       "2     2015-01-06  15.21  14.80   5.875000  0.234062  10.822770   46.580002\n",
       "3     2015-01-07  14.55  14.67   5.807692  0.241875  10.746248   48.150002\n",
       "4     2015-01-08  14.27  14.15   5.905769  0.240000  10.995774   48.509998\n",
       "...          ...    ...    ...        ...       ...        ...         ...\n",
       "2131  2023-09-05   6.89   2.43  35.910000  2.690000  27.730000  113.620003\n",
       "2132  2023-09-06   6.70   2.31  35.549999  2.590000  27.760000  112.250000\n",
       "2133  2023-09-08   6.69   2.34  35.400002  2.510000  27.700001  111.660004\n",
       "2134  2023-09-11   6.68   2.37  35.279999  2.550000  28.030001  113.480003\n",
       "2135  2023-09-12   6.71   2.46  35.650002  2.620000  28.620001  114.220001\n",
       "\n",
       "[2136 rows x 7 columns]"
      ]
     },
     "execution_count": 2,
     "metadata": {},
     "output_type": "execute_result"
    }
   ],
   "source": [
    "dataset = pd.read_csv('acoes.csv')\n",
    "dataset"
   ]
  },
  {
   "cell_type": "code",
   "execution_count": 3,
   "metadata": {
    "colab": {
     "base_uri": "https://localhost:8080/",
     "height": 323
    },
    "id": "SxnQkBVhcVvf",
    "outputId": "97b44c5d-361a-49e4-a59e-b91592bbc82e"
   },
   "outputs": [
    {
     "data": {
      "text/html": [
       "<div>\n",
       "<style scoped>\n",
       "    .dataframe tbody tr th:only-of-type {\n",
       "        vertical-align: middle;\n",
       "    }\n",
       "\n",
       "    .dataframe tbody tr th {\n",
       "        vertical-align: top;\n",
       "    }\n",
       "\n",
       "    .dataframe thead th {\n",
       "        text-align: right;\n",
       "    }\n",
       "</style>\n",
       "<table border=\"1\" class=\"dataframe\">\n",
       "  <thead>\n",
       "    <tr style=\"text-align: right;\">\n",
       "      <th></th>\n",
       "      <th>GOL</th>\n",
       "      <th>CVC</th>\n",
       "      <th>WEGE</th>\n",
       "      <th>MGLU</th>\n",
       "      <th>TOTS</th>\n",
       "      <th>BOVA</th>\n",
       "    </tr>\n",
       "  </thead>\n",
       "  <tbody>\n",
       "    <tr>\n",
       "      <th>count</th>\n",
       "      <td>2136.000000</td>\n",
       "      <td>2136.000000</td>\n",
       "      <td>2136.000000</td>\n",
       "      <td>2136.000000</td>\n",
       "      <td>2136.000000</td>\n",
       "      <td>2136.000000</td>\n",
       "    </tr>\n",
       "    <tr>\n",
       "      <th>mean</th>\n",
       "      <td>14.653633</td>\n",
       "      <td>25.727432</td>\n",
       "      <td>18.813801</td>\n",
       "      <td>6.523371</td>\n",
       "      <td>18.844237</td>\n",
       "      <td>83.947523</td>\n",
       "    </tr>\n",
       "    <tr>\n",
       "      <th>std</th>\n",
       "      <td>9.168014</td>\n",
       "      <td>16.793498</td>\n",
       "      <td>13.372466</td>\n",
       "      <td>7.413298</td>\n",
       "      <td>9.485981</td>\n",
       "      <td>24.197715</td>\n",
       "    </tr>\n",
       "    <tr>\n",
       "      <th>min</th>\n",
       "      <td>1.160000</td>\n",
       "      <td>2.200000</td>\n",
       "      <td>4.942307</td>\n",
       "      <td>0.030585</td>\n",
       "      <td>7.156402</td>\n",
       "      <td>36.450001</td>\n",
       "    </tr>\n",
       "    <tr>\n",
       "      <th>25%</th>\n",
       "      <td>7.640000</td>\n",
       "      <td>13.777500</td>\n",
       "      <td>6.897115</td>\n",
       "      <td>0.687500</td>\n",
       "      <td>10.179825</td>\n",
       "      <td>61.680000</td>\n",
       "    </tr>\n",
       "    <tr>\n",
       "      <th>50%</th>\n",
       "      <td>12.480000</td>\n",
       "      <td>20.290000</td>\n",
       "      <td>9.842500</td>\n",
       "      <td>3.730000</td>\n",
       "      <td>14.086568</td>\n",
       "      <td>90.424999</td>\n",
       "    </tr>\n",
       "    <tr>\n",
       "      <th>75%</th>\n",
       "      <td>20.392499</td>\n",
       "      <td>40.905000</td>\n",
       "      <td>33.583752</td>\n",
       "      <td>9.136250</td>\n",
       "      <td>28.100000</td>\n",
       "      <td>105.279997</td>\n",
       "    </tr>\n",
       "    <tr>\n",
       "      <th>max</th>\n",
       "      <td>43.790001</td>\n",
       "      <td>64.800003</td>\n",
       "      <td>46.105000</td>\n",
       "      <td>27.450001</td>\n",
       "      <td>40.599998</td>\n",
       "      <td>125.750000</td>\n",
       "    </tr>\n",
       "  </tbody>\n",
       "</table>\n",
       "</div>"
      ],
      "text/plain": [
       "               GOL          CVC         WEGE         MGLU         TOTS  \\\n",
       "count  2136.000000  2136.000000  2136.000000  2136.000000  2136.000000   \n",
       "mean     14.653633    25.727432    18.813801     6.523371    18.844237   \n",
       "std       9.168014    16.793498    13.372466     7.413298     9.485981   \n",
       "min       1.160000     2.200000     4.942307     0.030585     7.156402   \n",
       "25%       7.640000    13.777500     6.897115     0.687500    10.179825   \n",
       "50%      12.480000    20.290000     9.842500     3.730000    14.086568   \n",
       "75%      20.392499    40.905000    33.583752     9.136250    28.100000   \n",
       "max      43.790001    64.800003    46.105000    27.450001    40.599998   \n",
       "\n",
       "              BOVA  \n",
       "count  2136.000000  \n",
       "mean     83.947523  \n",
       "std      24.197715  \n",
       "min      36.450001  \n",
       "25%      61.680000  \n",
       "50%      90.424999  \n",
       "75%     105.279997  \n",
       "max     125.750000  "
      ]
     },
     "execution_count": 3,
     "metadata": {},
     "output_type": "execute_result"
    }
   ],
   "source": [
    "dataset.describe()"
   ]
  },
  {
   "cell_type": "markdown",
   "metadata": {
    "id": "p4HqYENwJOwP"
   },
   "source": [
    "## Cálculo dos retornos anuais"
   ]
  },
  {
   "cell_type": "markdown",
   "metadata": {
    "id": "Whmrp519DLVC"
   },
   "source": [
    "### 2015"
   ]
  },
  {
   "cell_type": "code",
   "execution_count": 4,
   "metadata": {
    "colab": {
     "base_uri": "https://localhost:8080/"
    },
    "id": "C4t39-TGcKbL",
    "outputId": "c714137d-c89f-43cb-c2a2-64c46f09f07b"
   },
   "outputs": [
    {
     "data": {
      "text/plain": [
       "(0    15.2\n",
       " Name: CVC, dtype: float64,\n",
       " 244    13.5\n",
       " Name: CVC, dtype: float64)"
      ]
     },
     "execution_count": 4,
     "metadata": {},
     "output_type": "execute_result"
    }
   ],
   "source": [
    "dataset['CVC'][dataset['Date'] == '2015-01-02'], dataset['CVC'][dataset['Date'] == '2015-12-30']"
   ]
  },
  {
   "cell_type": "code",
   "execution_count": 5,
   "metadata": {
    "colab": {
     "base_uri": "https://localhost:8080/"
    },
    "id": "K84oFZN_dtU9",
    "outputId": "f02dd864-ea23-4ea0-9490-89c795bda392"
   },
   "outputs": [
    {
     "data": {
      "text/plain": [
       "-11.86057424078469"
      ]
     },
     "execution_count": 5,
     "metadata": {},
     "output_type": "execute_result"
    }
   ],
   "source": [
    "np.log(13.5 / 15.2) * 100"
   ]
  },
  {
   "cell_type": "code",
   "execution_count": 6,
   "metadata": {
    "colab": {
     "base_uri": "https://localhost:8080/"
    },
    "id": "zgnFy-O7d7al",
    "outputId": "b78c306d-07f7-4412-d660-d2b340cdc00d"
   },
   "outputs": [
    {
     "data": {
      "text/plain": [
       "(0    0.232812\n",
       " Name: MGLU, dtype: float64,\n",
       " 244    0.068945\n",
       " Name: MGLU, dtype: float64)"
      ]
     },
     "execution_count": 6,
     "metadata": {},
     "output_type": "execute_result"
    }
   ],
   "source": [
    "dataset['MGLU'][dataset['Date'] == '2015-01-02'], dataset['MGLU'][dataset['Date'] == '2015-12-30']"
   ]
  },
  {
   "cell_type": "code",
   "execution_count": 7,
   "metadata": {
    "colab": {
     "base_uri": "https://localhost:8080/"
    },
    "id": "m6rjFAPgeCh8",
    "outputId": "2513c666-39dc-4cc0-8d15-d42ab89c14f4"
   },
   "outputs": [
    {
     "data": {
      "text/plain": [
       "-134.37347467010946"
      ]
     },
     "execution_count": 7,
     "metadata": {},
     "output_type": "execute_result"
    }
   ],
   "source": [
    "np.log(0.06 / 0.23) * 100"
   ]
  },
  {
   "cell_type": "code",
   "execution_count": 12,
   "metadata": {},
   "outputs": [],
   "source": [
    "# **Criando uma função para facilitar o processo**\n",
    "# def retorno_anual_logaritmico(dataset, nome_acao, data_inicial, data_final):\n",
    "#     preco_inicial = dataset[nome_acao][dataset['Date'] == data_inicial]\n",
    "#     preco_final = dataset[nome_acao][dataset['Date'] == data_final]\n",
    "    \n",
    "#     return np.log(round(preco_final.iloc[0],3)/ round(preco_inicial.iloc[0],3)) * 100"
   ]
  },
  {
   "cell_type": "code",
   "execution_count": 11,
   "metadata": {},
   "outputs": [],
   "source": [
    "# cvc_2015 = retorno_anual_logaritmico(dataset, 'CVC', '2015-01-02', '2015-12-30')\n",
    "# print('2015 - CVC: ', cvc_2015)\n",
    "\n",
    "# mglu_2015 = retorno_anual_logaritmico(dataset, 'MGLU', '2015-01-02', '2015-12-30')\n",
    "# print('2015 - MGLU: ', mglu_2015)"
   ]
  },
  {
   "cell_type": "markdown",
   "metadata": {
    "id": "6KClzeKHEIcs"
   },
   "source": [
    "### 2016"
   ]
  },
  {
   "cell_type": "code",
   "execution_count": 13,
   "metadata": {},
   "outputs": [
    {
     "data": {
      "text/plain": [
       "(245    12.53\n",
       " Name: CVC, dtype: float64,\n",
       " 493    23.700001\n",
       " Name: CVC, dtype: float64)"
      ]
     },
     "execution_count": 13,
     "metadata": {},
     "output_type": "execute_result"
    }
   ],
   "source": [
    "dataset['CVC'][dataset['Date'] == '2016-01-04'], dataset['CVC'][dataset['Date'] == '2016-12-29']"
   ]
  },
  {
   "cell_type": "code",
   "execution_count": 14,
   "metadata": {},
   "outputs": [
    {
     "data": {
      "text/plain": [
       "63.73492792331087"
      ]
     },
     "execution_count": 14,
     "metadata": {},
     "output_type": "execute_result"
    }
   ],
   "source": [
    "np.log(23.70 / 12.53) * 100"
   ]
  },
  {
   "cell_type": "code",
   "execution_count": 15,
   "metadata": {},
   "outputs": [
    {
     "data": {
      "text/plain": [
       "(245    0.070117\n",
       " Name: MGLU, dtype: float64,\n",
       " 493    0.414726\n",
       " Name: MGLU, dtype: float64)"
      ]
     },
     "execution_count": 15,
     "metadata": {},
     "output_type": "execute_result"
    }
   ],
   "source": [
    "dataset['MGLU'][dataset['Date'] == '2016-01-04'], dataset['MGLU'][dataset['Date'] == '2016-12-29']"
   ]
  },
  {
   "cell_type": "code",
   "execution_count": 16,
   "metadata": {},
   "outputs": [
    {
     "data": {
      "text/plain": [
       "176.76619176489942"
      ]
     },
     "execution_count": 16,
     "metadata": {},
     "output_type": "execute_result"
    }
   ],
   "source": [
    "np.log(0.41 / 0.07) * 100"
   ]
  },
  {
   "cell_type": "markdown",
   "metadata": {
    "id": "leM7iEWiEkn1"
   },
   "source": [
    "### 2017"
   ]
  },
  {
   "cell_type": "code",
   "execution_count": 18,
   "metadata": {
    "colab": {
     "base_uri": "https://localhost:8080/"
    },
    "id": "rH5pyrgGEoOZ",
    "outputId": "ce624332-4cec-4bb4-d312-2f79ac1a7a89"
   },
   "outputs": [
    {
     "data": {
      "text/plain": [
       "(494    23.02\n",
       " Name: CVC, dtype: float64,\n",
       " Series([], Name: CVC, dtype: float64))"
      ]
     },
     "execution_count": 18,
     "metadata": {},
     "output_type": "execute_result"
    }
   ],
   "source": [
    "dataset['CVC'][dataset['Date'] == '2017-01-02'], dataset['CVC'][dataset['Date'] == '2017-12-29']"
   ]
  },
  {
   "cell_type": "code",
   "execution_count": 19,
   "metadata": {
    "colab": {
     "base_uri": "https://localhost:8080/"
    },
    "id": "EISOufnBE0Ov",
    "outputId": "a16c268b-5272-40b2-b19b-f370d5249ac1"
   },
   "outputs": [
    {
     "data": {
      "text/plain": [
       "74.5200394649701"
      ]
     },
     "execution_count": 19,
     "metadata": {},
     "output_type": "execute_result"
    }
   ],
   "source": [
    "np.log(48.50 / 23.02) * 100"
   ]
  },
  {
   "cell_type": "code",
   "execution_count": 20,
   "metadata": {
    "colab": {
     "base_uri": "https://localhost:8080/"
    },
    "id": "QNqG-w7kEmY7",
    "outputId": "1292dedb-236f-4c62-9294-f17ac2a9b0f6"
   },
   "outputs": [
    {
     "data": {
      "text/plain": [
       "(494    0.397304\n",
       " Name: MGLU, dtype: float64,\n",
       " Series([], Name: MGLU, dtype: float64))"
      ]
     },
     "execution_count": 20,
     "metadata": {},
     "output_type": "execute_result"
    }
   ],
   "source": [
    "dataset['MGLU'][dataset['Date'] == '2017-01-02'], dataset['MGLU'][dataset['Date'] == '2017-12-29']"
   ]
  },
  {
   "cell_type": "code",
   "execution_count": 21,
   "metadata": {
    "colab": {
     "base_uri": "https://localhost:8080/"
    },
    "id": "4ho7vtfcE8yJ",
    "outputId": "68864c4e-dace-44aa-c367-3b9c6e6f2eb6"
   },
   "outputs": [
    {
     "data": {
      "text/plain": [
       "185.78992717326"
      ]
     },
     "execution_count": 21,
     "metadata": {},
     "output_type": "execute_result"
    }
   ],
   "source": [
    "np.log(2.50 / 0.39) * 100"
   ]
  },
  {
   "cell_type": "markdown",
   "metadata": {
    "id": "kn5DDNoIFDFA"
   },
   "source": [
    "### 2018"
   ]
  },
  {
   "cell_type": "code",
   "execution_count": 22,
   "metadata": {
    "colab": {
     "base_uri": "https://localhost:8080/"
    },
    "id": "7igfkhKSFFXw",
    "outputId": "2d53f9c2-5d24-4bc5-9e76-385ac01da7d7"
   },
   "outputs": [
    {
     "data": {
      "text/plain": [
       "(740    49.880001\n",
       " Name: CVC, dtype: float64,\n",
       " 980    61.18\n",
       " Name: CVC, dtype: float64)"
      ]
     },
     "execution_count": 22,
     "metadata": {},
     "output_type": "execute_result"
    }
   ],
   "source": [
    "dataset['CVC'][dataset['Date'] == '2018-01-02'], dataset['CVC'][dataset['Date'] == '2018-12-28']"
   ]
  },
  {
   "cell_type": "code",
   "execution_count": 23,
   "metadata": {
    "colab": {
     "base_uri": "https://localhost:8080/"
    },
    "id": "FEMFFi5NFSbJ",
    "outputId": "8d0cac9a-d7e0-437e-9a79-cf9dc1f84d40"
   },
   "outputs": [
    {
     "data": {
      "text/plain": [
       "20.420021791092157"
      ]
     },
     "execution_count": 23,
     "metadata": {},
     "output_type": "execute_result"
    }
   ],
   "source": [
    "np.log(61.18 / 49.88) * 100"
   ]
  },
  {
   "cell_type": "code",
   "execution_count": 24,
   "metadata": {
    "colab": {
     "base_uri": "https://localhost:8080/"
    },
    "id": "8QjwGaq2FORp",
    "outputId": "fab02540-479c-4fb6-cc2b-ccae022e7bc5"
   },
   "outputs": [
    {
     "data": {
      "text/plain": [
       "(740    2.478125\n",
       " Name: MGLU, dtype: float64,\n",
       " 980    5.658437\n",
       " Name: MGLU, dtype: float64)"
      ]
     },
     "execution_count": 24,
     "metadata": {},
     "output_type": "execute_result"
    }
   ],
   "source": [
    "dataset['MGLU'][dataset['Date'] == '2018-01-02'], dataset['MGLU'][dataset['Date'] == '2018-12-28']"
   ]
  },
  {
   "cell_type": "code",
   "execution_count": 25,
   "metadata": {
    "colab": {
     "base_uri": "https://localhost:8080/"
    },
    "id": "mb3joDRUFXDi",
    "outputId": "b4dfe1a6-4827-4087-f280-d21a211888ab"
   },
   "outputs": [
    {
     "data": {
      "text/plain": [
       "82.74373945184638"
      ]
     },
     "execution_count": 25,
     "metadata": {},
     "output_type": "execute_result"
    }
   ],
   "source": [
    "np.log(5.65 / 2.47) * 100"
   ]
  },
  {
   "cell_type": "markdown",
   "metadata": {
    "id": "xUnpCyZqFERv"
   },
   "source": [
    "### 2019"
   ]
  },
  {
   "cell_type": "code",
   "execution_count": 26,
   "metadata": {
    "colab": {
     "base_uri": "https://localhost:8080/"
    },
    "id": "_z3YUXqgFcty",
    "outputId": "a2189ee7-5f20-441c-802e-6ccf775e2191"
   },
   "outputs": [
    {
     "data": {
      "text/plain": [
       "(981    61.099998\n",
       " Name: CVC, dtype: float64,\n",
       " 1215    43.799999\n",
       " Name: CVC, dtype: float64)"
      ]
     },
     "execution_count": 26,
     "metadata": {},
     "output_type": "execute_result"
    }
   ],
   "source": [
    "dataset['CVC'][dataset['Date'] == '2019-01-02'], dataset['CVC'][dataset['Date'] == '2019-12-30']"
   ]
  },
  {
   "cell_type": "code",
   "execution_count": 27,
   "metadata": {
    "colab": {
     "base_uri": "https://localhost:8080/"
    },
    "id": "8AEYO6coF2JQ",
    "outputId": "227ab843-7e7d-4f94-897e-553c423f7cd5"
   },
   "outputs": [
    {
     "data": {
      "text/plain": [
       "-33.29427058483686"
      ]
     },
     "execution_count": 27,
     "metadata": {},
     "output_type": "execute_result"
    }
   ],
   "source": [
    "np.log(43.79 / 61.09) * 100"
   ]
  },
  {
   "cell_type": "code",
   "execution_count": 28,
   "metadata": {
    "colab": {
     "base_uri": "https://localhost:8080/"
    },
    "id": "PWmjM76MFyTS",
    "outputId": "3d3bcf15-13dd-4f0e-9f31-413155f9e876"
   },
   "outputs": [
    {
     "data": {
      "text/plain": [
       "(981    5.812187\n",
       " Name: MGLU, dtype: float64,\n",
       " 1215    11.925\n",
       " Name: MGLU, dtype: float64)"
      ]
     },
     "execution_count": 28,
     "metadata": {},
     "output_type": "execute_result"
    }
   ],
   "source": [
    "dataset['MGLU'][dataset['Date'] == '2019-01-02'], dataset['MGLU'][dataset['Date'] == '2019-12-30']"
   ]
  },
  {
   "cell_type": "code",
   "execution_count": 29,
   "metadata": {
    "colab": {
     "base_uri": "https://localhost:8080/"
    },
    "id": "mdoutn8sGAu4",
    "outputId": "ba1a223a-3e79-476f-ae76-ae608a5a5b95"
   },
   "outputs": [
    {
     "data": {
      "text/plain": [
       "71.8637090773384"
      ]
     },
     "execution_count": 29,
     "metadata": {},
     "output_type": "execute_result"
    }
   ],
   "source": [
    "np.log(11.92 / 5.81) * 100"
   ]
  },
  {
   "cell_type": "markdown",
   "metadata": {
    "id": "RAAWBxf3GMKV"
   },
   "source": [
    "### 2020"
   ]
  },
  {
   "cell_type": "code",
   "execution_count": 30,
   "metadata": {
    "colab": {
     "base_uri": "https://localhost:8080/"
    },
    "id": "ljHHfqX2GNc8",
    "outputId": "382829b6-4d46-4fa3-9ca5-a30102892518"
   },
   "outputs": [
    {
     "data": {
      "text/plain": [
       "(1216    44.709999\n",
       " Name: CVC, dtype: float64,\n",
       " 1425    11.88\n",
       " Name: CVC, dtype: float64)"
      ]
     },
     "execution_count": 30,
     "metadata": {},
     "output_type": "execute_result"
    }
   ],
   "source": [
    "dataset['CVC'][dataset['Date'] == '2020-01-02'], dataset['CVC'][dataset['Date'] == '2020-11-03']"
   ]
  },
  {
   "cell_type": "code",
   "execution_count": 31,
   "metadata": {
    "colab": {
     "base_uri": "https://localhost:8080/"
    },
    "id": "NH8Z1n56GY9d",
    "outputId": "6e7fc95f-9354-4780-e63b-6b81a44f5a17"
   },
   "outputs": [
    {
     "data": {
      "text/plain": [
       "-128.06654251141904"
      ]
     },
     "execution_count": 31,
     "metadata": {},
     "output_type": "execute_result"
    }
   ],
   "source": [
    "np.log(12.42 / 44.70) * 100"
   ]
  },
  {
   "cell_type": "code",
   "execution_count": 32,
   "metadata": {
    "colab": {
     "base_uri": "https://localhost:8080/"
    },
    "id": "tmyWjDDUGVko",
    "outputId": "d6f7ceac-1d26-4878-a479-cca1e0ff978f"
   },
   "outputs": [
    {
     "data": {
      "text/plain": [
       "(1216    12.3325\n",
       " Name: MGLU, dtype: float64,\n",
       " 1425    24.99\n",
       " Name: MGLU, dtype: float64)"
      ]
     },
     "execution_count": 32,
     "metadata": {},
     "output_type": "execute_result"
    }
   ],
   "source": [
    "dataset['MGLU'][dataset['Date'] == '2020-01-02'], dataset['MGLU'][dataset['Date'] == '2020-11-03']"
   ]
  },
  {
   "cell_type": "code",
   "execution_count": 33,
   "metadata": {
    "colab": {
     "base_uri": "https://localhost:8080/"
    },
    "id": "vCCnup4OGest",
    "outputId": "7db404c8-ca1f-492a-8d28-7417b243537e"
   },
   "outputs": [
    {
     "data": {
      "text/plain": [
       "71.87690785572217"
      ]
     },
     "execution_count": 33,
     "metadata": {},
     "output_type": "execute_result"
    }
   ],
   "source": [
    "np.log(25.30 / 12.33) * 100"
   ]
  },
  {
   "cell_type": "markdown",
   "metadata": {
    "id": "RTnlua_dJVX1"
   },
   "source": [
    "## Variância"
   ]
  },
  {
   "attachments": {
    "87ac547d-5619-46b6-8660-6eb3c4f742a2.png": {
     "image/png": "[encoded data removed]"
    }
   },
   "cell_type": "markdown",
   "metadata": {},
   "source": [
    "A variância é útil para determinar o afastamento da média que os dados de um conjunto analisado apresentam. Para isso, determina-se o valor médio das diferenças quadradas da média\n",
    "\n",
    "**Utilizaremos a variância para identificar o quanto o preço varia em relação a média, com isso teremos uma ideia da volatilidade da ação, empresas muito volateis acarretam em mais risco. Empresas menos volateis tendem a ser mais conservadoras.**\n",
    "\n",
    "Primeiro, calculamos a média aritmética do conjunto\n",
    "\n",
    "![image.png](attachment:87ac547d-5619-46b6-8660-6eb3c4f742a2.png)"
   ]
  },
  {
   "attachments": {
    "b432785d-48d8-4be3-b00e-4548b30d3f78.png": {
     "image/png": "[encoded data removed]"
    }
   },
   "cell_type": "markdown",
   "metadata": {},
   "source": [
    "Agora calculamos a variância\n",
    "\n",
    "![image.png](attachment:b432785d-48d8-4be3-b00e-4548b30d3f78.png)"
   ]
  },
  {
   "attachments": {
    "7adc5b99-a60f-4915-bb2a-e6e3cc448185.png": {
     "image/png": "[encoded data removed]"
    }
   },
   "cell_type": "markdown",
   "metadata": {},
   "source": [
    "Onde,\n",
    "\n",
    "* sigma ao quadrado: variância\n",
    "* xi: valor analisado\n",
    "* ![image.png](attachment:7adc5b99-a60f-4915-bb2a-e6e3cc448185.png): média aritmética do conjunto\n",
    "* n: número de dados do conjunto\n",
    "\n"
   ]
  },
  {
   "cell_type": "code",
   "execution_count": 35,
   "metadata": {
    "id": "U0G1E5cekWqa"
   },
   "outputs": [],
   "source": [
    "taxas_cvc = np.array([-11.86, 63.73, 74.52, 20.42, -33.29, -128.06])"
   ]
  },
  {
   "cell_type": "code",
   "execution_count": 36,
   "metadata": {
    "colab": {
     "base_uri": "https://localhost:8080/"
    },
    "id": "O8EthADGkmXV",
    "outputId": "fcdbc57a-c844-4229-c6aa-4847fb0b8194"
   },
   "outputs": [
    {
     "data": {
      "text/plain": [
       "-2.423333333333332"
      ]
     },
     "execution_count": 36,
     "metadata": {},
     "output_type": "execute_result"
    }
   ],
   "source": [
    "# calculando a média\n",
    "media_cvc = taxas_cvc.sum() / len(taxas_cvc)\n",
    "media_cvc"
   ]
  },
  {
   "cell_type": "code",
   "execution_count": 37,
   "metadata": {
    "colab": {
     "base_uri": "https://localhost:8080/"
    },
    "id": "dKEGQBKClb08",
    "outputId": "7f89ffac-4efc-49af-c82b-fb689dd3ab25"
   },
   "outputs": [
    {
     "data": {
      "text/plain": [
       "-2.423333333333332"
      ]
     },
     "execution_count": 37,
     "metadata": {},
     "output_type": "execute_result"
    }
   ],
   "source": [
    "# podemos calcular a média utilizando a função mean()\n",
    "media_cvc = taxas_cvc.mean()\n",
    "media_cvc"
   ]
  },
  {
   "cell_type": "code",
   "execution_count": 38,
   "metadata": {
    "colab": {
     "base_uri": "https://localhost:8080/"
    },
    "id": "X08UuySUk9jM",
    "outputId": "83ce4c8c-1eb7-4990-dbc2-a900389bc52e"
   },
   "outputs": [
    {
     "data": {
      "text/plain": [
       "4607.455288888889"
      ]
     },
     "execution_count": 38,
     "metadata": {},
     "output_type": "execute_result"
    }
   ],
   "source": [
    "# calculando a variância\n",
    "((taxas_cvc - media_cvc) ** 2).sum() / len(taxas_cvc)"
   ]
  },
  {
   "cell_type": "code",
   "execution_count": 39,
   "metadata": {
    "colab": {
     "base_uri": "https://localhost:8080/"
    },
    "id": "on_y8OfwllYv",
    "outputId": "6e985fbf-f0e7-4c82-e923-5657ec851e0e"
   },
   "outputs": [
    {
     "data": {
      "text/plain": [
       "4607.455288888889"
      ]
     },
     "execution_count": 39,
     "metadata": {},
     "output_type": "execute_result"
    }
   ],
   "source": [
    "# podemos calcular a variância utilizando a função var()\n",
    "variancia_cvc = taxas_cvc.var()\n",
    "variancia_cvc"
   ]
  },
  {
   "cell_type": "code",
   "execution_count": 40,
   "metadata": {
    "id": "CV3xn9sLluXg"
   },
   "outputs": [],
   "source": [
    "taxas_mglu = np.array([-134.37, 176.76, 185.78, 82.74, 71.86, 71.87])"
   ]
  },
  {
   "cell_type": "code",
   "execution_count": 41,
   "metadata": {},
   "outputs": [
    {
     "data": {
      "text/plain": [
       "75.77333333333333"
      ]
     },
     "execution_count": 41,
     "metadata": {},
     "output_type": "execute_result"
    }
   ],
   "source": [
    "media_mglu = taxas_mglu.mean()\n",
    "media_mglu"
   ]
  },
  {
   "cell_type": "code",
   "execution_count": 42,
   "metadata": {
    "colab": {
     "base_uri": "https://localhost:8080/"
    },
    "id": "Vmfzmj57l7qQ",
    "outputId": "48632cf2-1ee9-41e2-9dfc-94df9b220b62"
   },
   "outputs": [
    {
     "data": {
      "text/plain": [
       "11089.846455555555"
      ]
     },
     "execution_count": 42,
     "metadata": {},
     "output_type": "execute_result"
    }
   ],
   "source": [
    "variancia_mglu = taxas_mglu.var()\n",
    "variancia_mglu"
   ]
  },
  {
   "cell_type": "markdown",
   "metadata": {},
   "source": [
    "Também podemos calcular a variação de outros valores, como o preço:"
   ]
  },
  {
   "cell_type": "code",
   "execution_count": 47,
   "metadata": {
    "colab": {
     "base_uri": "https://localhost:8080/"
    },
    "id": "UVzOde3NmQbH",
    "outputId": "9d4509c4-7e51-4cf9-8667-682e2f6cd548"
   },
   "outputs": [
    {
     "data": {
      "text/plain": [
       "(0.053551731833100275, 0.04272747796661966)"
      ]
     },
     "execution_count": 47,
     "metadata": {},
     "output_type": "execute_result"
    }
   ],
   "source": [
    "dataset['CVC'].tail(30).var(), dataset['MGLU'].tail(30).var()"
   ]
  },
  {
   "cell_type": "markdown",
   "metadata": {
    "id": "3yOrHmZJZZj2"
   },
   "source": [
    "## Desvio padrão"
   ]
  },
  {
   "attachments": {
    "8ccd40d3-26b8-4504-99c3-5afa0b6a6093.png": {
     "image/png": "[encoded data removed]"
    }
   },
   "cell_type": "markdown",
   "metadata": {},
   "source": [
    "O desvio padrão é uma medida que expressa o **grau de dispersão de um conjunto de dados**. Ou seja, o desvio padrão indica o **quanto um conjunto de dados é uniforme**. Quanto mais próximo de 0 for o desvio padrão, mais homogêneo são os dados.\n",
    "\n",
    "Para calcular o desvio padrão, basta tirar a raiz quadrada da variância conforme a figura abaixo:\n",
    "\n",
    "![image.png](attachment:8ccd40d3-26b8-4504-99c3-5afa0b6a6093.png)\n",
    "\n",
    "O desvio padrão nos mostra de forma mais simples a volatilidade das ações."
   ]
  },
  {
   "cell_type": "code",
   "execution_count": 48,
   "metadata": {
    "colab": {
     "base_uri": "https://localhost:8080/"
    },
    "id": "JRzvlIDRoJYW",
    "outputId": "bd044c64-37e7-48f8-8402-46b3b66706b1"
   },
   "outputs": [
    {
     "data": {
      "text/plain": [
       "67.87823869907712"
      ]
     },
     "execution_count": 48,
     "metadata": {},
     "output_type": "execute_result"
    }
   ],
   "source": [
    "desvio_padrao_cvc = math.sqrt(variancia_cvc)\n",
    "desvio_padrao_cvc"
   ]
  },
  {
   "cell_type": "code",
   "execution_count": 51,
   "metadata": {
    "colab": {
     "base_uri": "https://localhost:8080/"
    },
    "id": "YrlsXCMtowhU",
    "outputId": "b1364a59-0957-48ed-ee57-67a19db0185b"
   },
   "outputs": [
    {
     "data": {
      "text/plain": [
       "67.87823869907712"
      ]
     },
     "execution_count": 51,
     "metadata": {},
     "output_type": "execute_result"
    }
   ],
   "source": [
    "# podemos realizar o mesmo calculo utilizando a função .std()\n",
    "taxas_cvc.std()"
   ]
  },
  {
   "cell_type": "code",
   "execution_count": 49,
   "metadata": {
    "colab": {
     "base_uri": "https://localhost:8080/"
    },
    "id": "En-ACTmloSz4",
    "outputId": "9da787f5-04b6-4d09-88fb-c702e6f6d454"
   },
   "outputs": [
    {
     "data": {
      "text/plain": [
       "105.30833991453648"
      ]
     },
     "execution_count": 49,
     "metadata": {},
     "output_type": "execute_result"
    }
   ],
   "source": [
    "desvio_padrao_mglu = math.sqrt(variancia_mglu)\n",
    "desvio_padrao_mglu"
   ]
  },
  {
   "cell_type": "code",
   "execution_count": 50,
   "metadata": {
    "colab": {
     "base_uri": "https://localhost:8080/"
    },
    "id": "m8iLutBAo15L",
    "outputId": "ac1e07a5-a2aa-47a1-d1c8-6536c62f5b0b"
   },
   "outputs": [
    {
     "data": {
      "text/plain": [
       "105.30833991453648"
      ]
     },
     "execution_count": 50,
     "metadata": {},
     "output_type": "execute_result"
    }
   ],
   "source": [
    "taxas_mglu.std()"
   ]
  },
  {
   "cell_type": "markdown",
   "metadata": {},
   "source": [
    "Também podemos calcular o desvio padrão de outros valores, como o preço:"
   ]
  },
  {
   "cell_type": "code",
   "execution_count": 52,
   "metadata": {
    "colab": {
     "base_uri": "https://localhost:8080/"
    },
    "id": "KyptJCb4onvh",
    "outputId": "185cdd71-23eb-46fe-f687-d8665bb3632f"
   },
   "outputs": [
    {
     "data": {
      "text/plain": [
       "(2.264893979038608, 0.6716284542351961)"
      ]
     },
     "execution_count": 52,
     "metadata": {},
     "output_type": "execute_result"
    }
   ],
   "source": [
    "dataset['CVC'].tail(330).std(), dataset['MGLU'].tail(330).std()"
   ]
  },
  {
   "cell_type": "markdown",
   "metadata": {
    "id": "KKuX4112bw_4"
   },
   "source": [
    "## Coeficiente de variação"
   ]
  },
  {
   "attachments": {
    "95dbeb3c-eada-4230-a307-4815cf84716e.png": {
     "image/png": "[encoded data removed]"
    }
   },
   "cell_type": "markdown",
   "metadata": {},
   "source": [
    "O coeficiente de variação (CV) é uma medida de dispersão utilizada na área da Estatística para relacionar o desvio-padrão e a média aritmética de um conjunto de dados. Como essa medida é expressa em porcentagem, é possível utilizá-la para comparar a variabilidade de conjuntos de dados distintos que envolvam grandezas diferentes.\n",
    "\n",
    "Podemos calcular o coeficiente de variação dividindo o desvio padrão pela média e multiplicando por 100 conforme imagem a seguir: \n",
    "\n",
    "![image.png](attachment:95dbeb3c-eada-4230-a307-4815cf84716e.png)"
   ]
  },
  {
   "cell_type": "code",
   "execution_count": 53,
   "metadata": {
    "colab": {
     "base_uri": "https://localhost:8080/"
    },
    "id": "eYUnVoLAqTEl",
    "outputId": "f3eb8fa6-21fe-451b-8a45-0754c07741be"
   },
   "outputs": [
    {
     "data": {
      "text/plain": [
       "(67.87823869907712, -2.423333333333332)"
      ]
     },
     "execution_count": 53,
     "metadata": {},
     "output_type": "execute_result"
    }
   ],
   "source": [
    "desvio_padrao_cvc, media_cvc"
   ]
  },
  {
   "cell_type": "code",
   "execution_count": 54,
   "metadata": {
    "colab": {
     "base_uri": "https://localhost:8080/"
    },
    "id": "C0YfW0G7qXxL",
    "outputId": "263b5a7c-0f50-4846-f83d-473d1728b917"
   },
   "outputs": [
    {
     "data": {
      "text/plain": [
       "-2801.0277317363334"
      ]
     },
     "execution_count": 54,
     "metadata": {},
     "output_type": "execute_result"
    }
   ],
   "source": [
    "coeficiente_variacao_cvc = (desvio_padrao_cvc / media_cvc) * 100\n",
    "coeficiente_variacao_cvc"
   ]
  },
  {
   "cell_type": "code",
   "execution_count": 55,
   "metadata": {
    "colab": {
     "base_uri": "https://localhost:8080/"
    },
    "id": "VL4yfsy_qgf9",
    "outputId": "9d3a332f-269d-4cec-efeb-7cc06ee50b39"
   },
   "outputs": [
    {
     "data": {
      "text/plain": [
       "-2801.0277317363334"
      ]
     },
     "execution_count": 55,
     "metadata": {},
     "output_type": "execute_result"
    }
   ],
   "source": [
    "# Podemos calcular o coeficiente de variação utilizando a função variation() do módulo stats da biblioteca scipy.\n",
    "stats.variation(taxas_cvc) * 100"
   ]
  },
  {
   "cell_type": "code",
   "execution_count": 56,
   "metadata": {
    "colab": {
     "base_uri": "https://localhost:8080/"
    },
    "id": "KUvU-pXLqpAI",
    "outputId": "a2ab04d5-d149-4a49-a0fd-e22af02176ae"
   },
   "outputs": [
    {
     "data": {
      "text/plain": [
       "138.97810124212978"
      ]
     },
     "execution_count": 56,
     "metadata": {},
     "output_type": "execute_result"
    }
   ],
   "source": [
    "stats.variation(taxas_mglu) * 100"
   ]
  },
  {
   "cell_type": "markdown",
   "metadata": {
    "id": "whH8oHumdpei"
   },
   "source": [
    "## Cálculos com todas as ações - risco médio anual"
   ]
  },
  {
   "cell_type": "code",
   "execution_count": 57,
   "metadata": {
    "colab": {
     "base_uri": "https://localhost:8080/",
     "height": 447
    },
    "id": "-xoNpHbrsVYg",
    "outputId": "39c7e00d-9c5a-4720-d382-303f30001936"
   },
   "outputs": [
    {
     "data": {
      "text/html": [
       "<div>\n",
       "<style scoped>\n",
       "    .dataframe tbody tr th:only-of-type {\n",
       "        vertical-align: middle;\n",
       "    }\n",
       "\n",
       "    .dataframe tbody tr th {\n",
       "        vertical-align: top;\n",
       "    }\n",
       "\n",
       "    .dataframe thead th {\n",
       "        text-align: right;\n",
       "    }\n",
       "</style>\n",
       "<table border=\"1\" class=\"dataframe\">\n",
       "  <thead>\n",
       "    <tr style=\"text-align: right;\">\n",
       "      <th></th>\n",
       "      <th>GOL</th>\n",
       "      <th>CVC</th>\n",
       "      <th>WEGE</th>\n",
       "      <th>MGLU</th>\n",
       "      <th>TOTS</th>\n",
       "      <th>BOVA</th>\n",
       "    </tr>\n",
       "  </thead>\n",
       "  <tbody>\n",
       "    <tr>\n",
       "      <th>0</th>\n",
       "      <td>14.99</td>\n",
       "      <td>15.20</td>\n",
       "      <td>5.923076</td>\n",
       "      <td>0.232812</td>\n",
       "      <td>11.910702</td>\n",
       "      <td>47.259998</td>\n",
       "    </tr>\n",
       "    <tr>\n",
       "      <th>1</th>\n",
       "      <td>14.85</td>\n",
       "      <td>15.00</td>\n",
       "      <td>5.963461</td>\n",
       "      <td>0.237187</td>\n",
       "      <td>11.544731</td>\n",
       "      <td>46.320000</td>\n",
       "    </tr>\n",
       "    <tr>\n",
       "      <th>2</th>\n",
       "      <td>15.21</td>\n",
       "      <td>14.80</td>\n",
       "      <td>5.875000</td>\n",
       "      <td>0.234062</td>\n",
       "      <td>10.822770</td>\n",
       "      <td>46.580002</td>\n",
       "    </tr>\n",
       "    <tr>\n",
       "      <th>3</th>\n",
       "      <td>14.55</td>\n",
       "      <td>14.67</td>\n",
       "      <td>5.807692</td>\n",
       "      <td>0.241875</td>\n",
       "      <td>10.746248</td>\n",
       "      <td>48.150002</td>\n",
       "    </tr>\n",
       "    <tr>\n",
       "      <th>4</th>\n",
       "      <td>14.27</td>\n",
       "      <td>14.15</td>\n",
       "      <td>5.905769</td>\n",
       "      <td>0.240000</td>\n",
       "      <td>10.995774</td>\n",
       "      <td>48.509998</td>\n",
       "    </tr>\n",
       "    <tr>\n",
       "      <th>...</th>\n",
       "      <td>...</td>\n",
       "      <td>...</td>\n",
       "      <td>...</td>\n",
       "      <td>...</td>\n",
       "      <td>...</td>\n",
       "      <td>...</td>\n",
       "    </tr>\n",
       "    <tr>\n",
       "      <th>2131</th>\n",
       "      <td>6.89</td>\n",
       "      <td>2.43</td>\n",
       "      <td>35.910000</td>\n",
       "      <td>2.690000</td>\n",
       "      <td>27.730000</td>\n",
       "      <td>113.620003</td>\n",
       "    </tr>\n",
       "    <tr>\n",
       "      <th>2132</th>\n",
       "      <td>6.70</td>\n",
       "      <td>2.31</td>\n",
       "      <td>35.549999</td>\n",
       "      <td>2.590000</td>\n",
       "      <td>27.760000</td>\n",
       "      <td>112.250000</td>\n",
       "    </tr>\n",
       "    <tr>\n",
       "      <th>2133</th>\n",
       "      <td>6.69</td>\n",
       "      <td>2.34</td>\n",
       "      <td>35.400002</td>\n",
       "      <td>2.510000</td>\n",
       "      <td>27.700001</td>\n",
       "      <td>111.660004</td>\n",
       "    </tr>\n",
       "    <tr>\n",
       "      <th>2134</th>\n",
       "      <td>6.68</td>\n",
       "      <td>2.37</td>\n",
       "      <td>35.279999</td>\n",
       "      <td>2.550000</td>\n",
       "      <td>28.030001</td>\n",
       "      <td>113.480003</td>\n",
       "    </tr>\n",
       "    <tr>\n",
       "      <th>2135</th>\n",
       "      <td>6.71</td>\n",
       "      <td>2.46</td>\n",
       "      <td>35.650002</td>\n",
       "      <td>2.620000</td>\n",
       "      <td>28.620001</td>\n",
       "      <td>114.220001</td>\n",
       "    </tr>\n",
       "  </tbody>\n",
       "</table>\n",
       "<p>2136 rows × 6 columns</p>\n",
       "</div>"
      ],
      "text/plain": [
       "        GOL    CVC       WEGE      MGLU       TOTS        BOVA\n",
       "0     14.99  15.20   5.923076  0.232812  11.910702   47.259998\n",
       "1     14.85  15.00   5.963461  0.237187  11.544731   46.320000\n",
       "2     15.21  14.80   5.875000  0.234062  10.822770   46.580002\n",
       "3     14.55  14.67   5.807692  0.241875  10.746248   48.150002\n",
       "4     14.27  14.15   5.905769  0.240000  10.995774   48.509998\n",
       "...     ...    ...        ...       ...        ...         ...\n",
       "2131   6.89   2.43  35.910000  2.690000  27.730000  113.620003\n",
       "2132   6.70   2.31  35.549999  2.590000  27.760000  112.250000\n",
       "2133   6.69   2.34  35.400002  2.510000  27.700001  111.660004\n",
       "2134   6.68   2.37  35.279999  2.550000  28.030001  113.480003\n",
       "2135   6.71   2.46  35.650002  2.620000  28.620001  114.220001\n",
       "\n",
       "[2136 rows x 6 columns]"
      ]
     },
     "execution_count": 57,
     "metadata": {},
     "output_type": "execute_result"
    }
   ],
   "source": [
    "dataset.drop(labels = ['Date'], axis=1, inplace=True)\n",
    "dataset"
   ]
  },
  {
   "cell_type": "code",
   "execution_count": 58,
   "metadata": {
    "colab": {
     "base_uri": "https://localhost:8080/",
     "height": 447
    },
    "id": "ltZbzHMmsuYL",
    "outputId": "70670153-756a-4c26-fa72-64b813c2e645"
   },
   "outputs": [
    {
     "data": {
      "text/html": [
       "<div>\n",
       "<style scoped>\n",
       "    .dataframe tbody tr th:only-of-type {\n",
       "        vertical-align: middle;\n",
       "    }\n",
       "\n",
       "    .dataframe tbody tr th {\n",
       "        vertical-align: top;\n",
       "    }\n",
       "\n",
       "    .dataframe thead th {\n",
       "        text-align: right;\n",
       "    }\n",
       "</style>\n",
       "<table border=\"1\" class=\"dataframe\">\n",
       "  <thead>\n",
       "    <tr style=\"text-align: right;\">\n",
       "      <th></th>\n",
       "      <th>GOL</th>\n",
       "      <th>CVC</th>\n",
       "      <th>WEGE</th>\n",
       "      <th>MGLU</th>\n",
       "      <th>TOTS</th>\n",
       "      <th>BOVA</th>\n",
       "    </tr>\n",
       "  </thead>\n",
       "  <tbody>\n",
       "    <tr>\n",
       "      <th>0</th>\n",
       "      <td>NaN</td>\n",
       "      <td>NaN</td>\n",
       "      <td>NaN</td>\n",
       "      <td>NaN</td>\n",
       "      <td>NaN</td>\n",
       "      <td>NaN</td>\n",
       "    </tr>\n",
       "    <tr>\n",
       "      <th>1</th>\n",
       "      <td>-0.009340</td>\n",
       "      <td>-0.013158</td>\n",
       "      <td>0.006818</td>\n",
       "      <td>0.018792</td>\n",
       "      <td>-0.030726</td>\n",
       "      <td>-0.019890</td>\n",
       "    </tr>\n",
       "    <tr>\n",
       "      <th>2</th>\n",
       "      <td>0.024242</td>\n",
       "      <td>-0.013333</td>\n",
       "      <td>-0.014834</td>\n",
       "      <td>-0.013175</td>\n",
       "      <td>-0.062536</td>\n",
       "      <td>0.005613</td>\n",
       "    </tr>\n",
       "    <tr>\n",
       "      <th>3</th>\n",
       "      <td>-0.043392</td>\n",
       "      <td>-0.008784</td>\n",
       "      <td>-0.011457</td>\n",
       "      <td>0.033380</td>\n",
       "      <td>-0.007070</td>\n",
       "      <td>0.033705</td>\n",
       "    </tr>\n",
       "    <tr>\n",
       "      <th>4</th>\n",
       "      <td>-0.019244</td>\n",
       "      <td>-0.035447</td>\n",
       "      <td>0.016887</td>\n",
       "      <td>-0.007752</td>\n",
       "      <td>0.023220</td>\n",
       "      <td>0.007477</td>\n",
       "    </tr>\n",
       "    <tr>\n",
       "      <th>...</th>\n",
       "      <td>...</td>\n",
       "      <td>...</td>\n",
       "      <td>...</td>\n",
       "      <td>...</td>\n",
       "      <td>...</td>\n",
       "      <td>...</td>\n",
       "    </tr>\n",
       "    <tr>\n",
       "      <th>2131</th>\n",
       "      <td>-0.047026</td>\n",
       "      <td>-0.058139</td>\n",
       "      <td>-0.006089</td>\n",
       "      <td>-0.032374</td>\n",
       "      <td>-0.007516</td>\n",
       "      <td>-0.004556</td>\n",
       "    </tr>\n",
       "    <tr>\n",
       "      <th>2132</th>\n",
       "      <td>-0.027576</td>\n",
       "      <td>-0.049383</td>\n",
       "      <td>-0.010025</td>\n",
       "      <td>-0.037175</td>\n",
       "      <td>0.001082</td>\n",
       "      <td>-0.012058</td>\n",
       "    </tr>\n",
       "    <tr>\n",
       "      <th>2133</th>\n",
       "      <td>-0.001493</td>\n",
       "      <td>0.012987</td>\n",
       "      <td>-0.004219</td>\n",
       "      <td>-0.030888</td>\n",
       "      <td>-0.002161</td>\n",
       "      <td>-0.005256</td>\n",
       "    </tr>\n",
       "    <tr>\n",
       "      <th>2134</th>\n",
       "      <td>-0.001495</td>\n",
       "      <td>0.012821</td>\n",
       "      <td>-0.003390</td>\n",
       "      <td>0.015936</td>\n",
       "      <td>0.011913</td>\n",
       "      <td>0.016299</td>\n",
       "    </tr>\n",
       "    <tr>\n",
       "      <th>2135</th>\n",
       "      <td>0.004491</td>\n",
       "      <td>0.037975</td>\n",
       "      <td>0.010488</td>\n",
       "      <td>0.027451</td>\n",
       "      <td>0.021049</td>\n",
       "      <td>0.006521</td>\n",
       "    </tr>\n",
       "  </tbody>\n",
       "</table>\n",
       "<p>2136 rows × 6 columns</p>\n",
       "</div>"
      ],
      "text/plain": [
       "           GOL       CVC      WEGE      MGLU      TOTS      BOVA\n",
       "0          NaN       NaN       NaN       NaN       NaN       NaN\n",
       "1    -0.009340 -0.013158  0.006818  0.018792 -0.030726 -0.019890\n",
       "2     0.024242 -0.013333 -0.014834 -0.013175 -0.062536  0.005613\n",
       "3    -0.043392 -0.008784 -0.011457  0.033380 -0.007070  0.033705\n",
       "4    -0.019244 -0.035447  0.016887 -0.007752  0.023220  0.007477\n",
       "...        ...       ...       ...       ...       ...       ...\n",
       "2131 -0.047026 -0.058139 -0.006089 -0.032374 -0.007516 -0.004556\n",
       "2132 -0.027576 -0.049383 -0.010025 -0.037175  0.001082 -0.012058\n",
       "2133 -0.001493  0.012987 -0.004219 -0.030888 -0.002161 -0.005256\n",
       "2134 -0.001495  0.012821 -0.003390  0.015936  0.011913  0.016299\n",
       "2135  0.004491  0.037975  0.010488  0.027451  0.021049  0.006521\n",
       "\n",
       "[2136 rows x 6 columns]"
      ]
     },
     "execution_count": 58,
     "metadata": {},
     "output_type": "execute_result"
    }
   ],
   "source": [
    "taxas_retorno = (dataset / dataset.shift(1)) - 1\n",
    "taxas_retorno"
   ]
  },
  {
   "cell_type": "code",
   "execution_count": 61,
   "metadata": {
    "colab": {
     "base_uri": "https://localhost:8080/"
    },
    "id": "vC7pN4JJtNcS",
    "outputId": "a1839704-2b09-42bf-9a08-bb5e4fc16953"
   },
   "outputs": [
    {
     "data": {
      "text/plain": [
       "GOL     4.854106\n",
       "CVC     3.870506\n",
       "WEGE    2.179789\n",
       "MGLU    4.276082\n",
       "TOTS    2.459624\n",
       "BOVA    1.613259\n",
       "dtype: float64"
      ]
     },
     "execution_count": 61,
     "metadata": {},
     "output_type": "execute_result"
    }
   ],
   "source": [
    "taxas_retorno.std() * 100"
   ]
  },
  {
   "cell_type": "code",
   "execution_count": 64,
   "metadata": {
    "colab": {
     "base_uri": "https://localhost:8080/"
    },
    "id": "BZ35FuAzt4DO",
    "outputId": "04dc0f4a-4cb7-44df-a453-3364ab14cd72"
   },
   "outputs": [
    {
     "data": {
      "text/plain": [
       "GOL     11.941101\n",
       "CVC      9.521445\n",
       "WEGE     5.362282\n",
       "MGLU    10.519162\n",
       "TOTS     6.050674\n",
       "BOVA     3.968618\n",
       "dtype: float64"
      ]
     },
     "execution_count": 64,
     "metadata": {},
     "output_type": "execute_result"
    }
   ],
   "source": [
    "taxas_retorno.std() * 246"
   ]
  },
  {
   "cell_type": "code",
   "execution_count": 65,
   "metadata": {
    "colab": {
     "base_uri": "https://localhost:8080/"
    },
    "id": "K62-NewLuiEx",
    "outputId": "4b8d6e29-bf2e-44dd-f66d-e674ffbdcfad"
   },
   "outputs": [
    {
     "data": {
      "text/plain": [
       "15.684387141358123"
      ]
     },
     "execution_count": 65,
     "metadata": {},
     "output_type": "execute_result"
    }
   ],
   "source": [
    "math.sqrt(246) # Anualizar"
   ]
  },
  {
   "cell_type": "code",
   "execution_count": 68,
   "metadata": {
    "colab": {
     "base_uri": "https://localhost:8080/"
    },
    "id": "6XdhwPG6uZER",
    "outputId": "685b1168-d949-4801-a2ed-0938a8be475e"
   },
   "outputs": [
    {
     "data": {
      "text/plain": [
       "GOL     0.761337\n",
       "CVC     0.607065\n",
       "WEGE    0.341887\n",
       "MGLU    0.670677\n",
       "TOTS    0.385777\n",
       "BOVA    0.253030\n",
       "dtype: float64"
      ]
     },
     "execution_count": 68,
     "metadata": {},
     "output_type": "execute_result"
    }
   ],
   "source": [
    "taxas_retorno.std() * math.sqrt(246)"
   ]
  },
  {
   "cell_type": "markdown",
   "metadata": {
    "id": "t5-77djrvtGz"
   },
   "source": [
    "## Correlação entre ações"
   ]
  },
  {
   "cell_type": "code",
   "execution_count": 69,
   "metadata": {
    "colab": {
     "base_uri": "https://localhost:8080/",
     "height": 447
    },
    "id": "UwMtgThGwg6Q",
    "outputId": "cee10428-e688-46c9-c393-8de475ed2c4a"
   },
   "outputs": [
    {
     "data": {
      "text/html": [
       "<div>\n",
       "<style scoped>\n",
       "    .dataframe tbody tr th:only-of-type {\n",
       "        vertical-align: middle;\n",
       "    }\n",
       "\n",
       "    .dataframe tbody tr th {\n",
       "        vertical-align: top;\n",
       "    }\n",
       "\n",
       "    .dataframe thead th {\n",
       "        text-align: right;\n",
       "    }\n",
       "</style>\n",
       "<table border=\"1\" class=\"dataframe\">\n",
       "  <thead>\n",
       "    <tr style=\"text-align: right;\">\n",
       "      <th></th>\n",
       "      <th>GOL</th>\n",
       "      <th>CVC</th>\n",
       "      <th>WEGE</th>\n",
       "      <th>MGLU</th>\n",
       "      <th>TOTS</th>\n",
       "      <th>BOVA</th>\n",
       "    </tr>\n",
       "  </thead>\n",
       "  <tbody>\n",
       "    <tr>\n",
       "      <th>0</th>\n",
       "      <td>14.99</td>\n",
       "      <td>15.20</td>\n",
       "      <td>5.923076</td>\n",
       "      <td>0.232812</td>\n",
       "      <td>11.910702</td>\n",
       "      <td>47.259998</td>\n",
       "    </tr>\n",
       "    <tr>\n",
       "      <th>1</th>\n",
       "      <td>14.85</td>\n",
       "      <td>15.00</td>\n",
       "      <td>5.963461</td>\n",
       "      <td>0.237187</td>\n",
       "      <td>11.544731</td>\n",
       "      <td>46.320000</td>\n",
       "    </tr>\n",
       "    <tr>\n",
       "      <th>2</th>\n",
       "      <td>15.21</td>\n",
       "      <td>14.80</td>\n",
       "      <td>5.875000</td>\n",
       "      <td>0.234062</td>\n",
       "      <td>10.822770</td>\n",
       "      <td>46.580002</td>\n",
       "    </tr>\n",
       "    <tr>\n",
       "      <th>3</th>\n",
       "      <td>14.55</td>\n",
       "      <td>14.67</td>\n",
       "      <td>5.807692</td>\n",
       "      <td>0.241875</td>\n",
       "      <td>10.746248</td>\n",
       "      <td>48.150002</td>\n",
       "    </tr>\n",
       "    <tr>\n",
       "      <th>4</th>\n",
       "      <td>14.27</td>\n",
       "      <td>14.15</td>\n",
       "      <td>5.905769</td>\n",
       "      <td>0.240000</td>\n",
       "      <td>10.995774</td>\n",
       "      <td>48.509998</td>\n",
       "    </tr>\n",
       "    <tr>\n",
       "      <th>...</th>\n",
       "      <td>...</td>\n",
       "      <td>...</td>\n",
       "      <td>...</td>\n",
       "      <td>...</td>\n",
       "      <td>...</td>\n",
       "      <td>...</td>\n",
       "    </tr>\n",
       "    <tr>\n",
       "      <th>2131</th>\n",
       "      <td>6.89</td>\n",
       "      <td>2.43</td>\n",
       "      <td>35.910000</td>\n",
       "      <td>2.690000</td>\n",
       "      <td>27.730000</td>\n",
       "      <td>113.620003</td>\n",
       "    </tr>\n",
       "    <tr>\n",
       "      <th>2132</th>\n",
       "      <td>6.70</td>\n",
       "      <td>2.31</td>\n",
       "      <td>35.549999</td>\n",
       "      <td>2.590000</td>\n",
       "      <td>27.760000</td>\n",
       "      <td>112.250000</td>\n",
       "    </tr>\n",
       "    <tr>\n",
       "      <th>2133</th>\n",
       "      <td>6.69</td>\n",
       "      <td>2.34</td>\n",
       "      <td>35.400002</td>\n",
       "      <td>2.510000</td>\n",
       "      <td>27.700001</td>\n",
       "      <td>111.660004</td>\n",
       "    </tr>\n",
       "    <tr>\n",
       "      <th>2134</th>\n",
       "      <td>6.68</td>\n",
       "      <td>2.37</td>\n",
       "      <td>35.279999</td>\n",
       "      <td>2.550000</td>\n",
       "      <td>28.030001</td>\n",
       "      <td>113.480003</td>\n",
       "    </tr>\n",
       "    <tr>\n",
       "      <th>2135</th>\n",
       "      <td>6.71</td>\n",
       "      <td>2.46</td>\n",
       "      <td>35.650002</td>\n",
       "      <td>2.620000</td>\n",
       "      <td>28.620001</td>\n",
       "      <td>114.220001</td>\n",
       "    </tr>\n",
       "  </tbody>\n",
       "</table>\n",
       "<p>2136 rows × 6 columns</p>\n",
       "</div>"
      ],
      "text/plain": [
       "        GOL    CVC       WEGE      MGLU       TOTS        BOVA\n",
       "0     14.99  15.20   5.923076  0.232812  11.910702   47.259998\n",
       "1     14.85  15.00   5.963461  0.237187  11.544731   46.320000\n",
       "2     15.21  14.80   5.875000  0.234062  10.822770   46.580002\n",
       "3     14.55  14.67   5.807692  0.241875  10.746248   48.150002\n",
       "4     14.27  14.15   5.905769  0.240000  10.995774   48.509998\n",
       "...     ...    ...        ...       ...        ...         ...\n",
       "2131   6.89   2.43  35.910000  2.690000  27.730000  113.620003\n",
       "2132   6.70   2.31  35.549999  2.590000  27.760000  112.250000\n",
       "2133   6.69   2.34  35.400002  2.510000  27.700001  111.660004\n",
       "2134   6.68   2.37  35.279999  2.550000  28.030001  113.480003\n",
       "2135   6.71   2.46  35.650002  2.620000  28.620001  114.220001\n",
       "\n",
       "[2136 rows x 6 columns]"
      ]
     },
     "execution_count": 69,
     "metadata": {},
     "output_type": "execute_result"
    }
   ],
   "source": [
    "dataset"
   ]
  },
  {
   "cell_type": "code",
   "execution_count": 70,
   "metadata": {
    "colab": {
     "base_uri": "https://localhost:8080/",
     "height": 447
    },
    "id": "gbv8-fu4wUq5",
    "outputId": "be9fff25-d355-41a8-bc08-04f1ee410c9c"
   },
   "outputs": [
    {
     "data": {
      "text/html": [
       "<div>\n",
       "<style scoped>\n",
       "    .dataframe tbody tr th:only-of-type {\n",
       "        vertical-align: middle;\n",
       "    }\n",
       "\n",
       "    .dataframe tbody tr th {\n",
       "        vertical-align: top;\n",
       "    }\n",
       "\n",
       "    .dataframe thead th {\n",
       "        text-align: right;\n",
       "    }\n",
       "</style>\n",
       "<table border=\"1\" class=\"dataframe\">\n",
       "  <thead>\n",
       "    <tr style=\"text-align: right;\">\n",
       "      <th></th>\n",
       "      <th>GOL</th>\n",
       "      <th>CVC</th>\n",
       "      <th>WEGE</th>\n",
       "      <th>MGLU</th>\n",
       "      <th>TOTS</th>\n",
       "      <th>BOVA</th>\n",
       "    </tr>\n",
       "  </thead>\n",
       "  <tbody>\n",
       "    <tr>\n",
       "      <th>0</th>\n",
       "      <td>NaN</td>\n",
       "      <td>NaN</td>\n",
       "      <td>NaN</td>\n",
       "      <td>NaN</td>\n",
       "      <td>NaN</td>\n",
       "      <td>NaN</td>\n",
       "    </tr>\n",
       "    <tr>\n",
       "      <th>1</th>\n",
       "      <td>-0.009340</td>\n",
       "      <td>-0.013158</td>\n",
       "      <td>0.006818</td>\n",
       "      <td>0.018792</td>\n",
       "      <td>-0.030726</td>\n",
       "      <td>-0.019890</td>\n",
       "    </tr>\n",
       "    <tr>\n",
       "      <th>2</th>\n",
       "      <td>0.024242</td>\n",
       "      <td>-0.013333</td>\n",
       "      <td>-0.014834</td>\n",
       "      <td>-0.013175</td>\n",
       "      <td>-0.062536</td>\n",
       "      <td>0.005613</td>\n",
       "    </tr>\n",
       "    <tr>\n",
       "      <th>3</th>\n",
       "      <td>-0.043392</td>\n",
       "      <td>-0.008784</td>\n",
       "      <td>-0.011457</td>\n",
       "      <td>0.033380</td>\n",
       "      <td>-0.007070</td>\n",
       "      <td>0.033705</td>\n",
       "    </tr>\n",
       "    <tr>\n",
       "      <th>4</th>\n",
       "      <td>-0.019244</td>\n",
       "      <td>-0.035447</td>\n",
       "      <td>0.016887</td>\n",
       "      <td>-0.007752</td>\n",
       "      <td>0.023220</td>\n",
       "      <td>0.007477</td>\n",
       "    </tr>\n",
       "    <tr>\n",
       "      <th>...</th>\n",
       "      <td>...</td>\n",
       "      <td>...</td>\n",
       "      <td>...</td>\n",
       "      <td>...</td>\n",
       "      <td>...</td>\n",
       "      <td>...</td>\n",
       "    </tr>\n",
       "    <tr>\n",
       "      <th>2131</th>\n",
       "      <td>-0.047026</td>\n",
       "      <td>-0.058139</td>\n",
       "      <td>-0.006089</td>\n",
       "      <td>-0.032374</td>\n",
       "      <td>-0.007516</td>\n",
       "      <td>-0.004556</td>\n",
       "    </tr>\n",
       "    <tr>\n",
       "      <th>2132</th>\n",
       "      <td>-0.027576</td>\n",
       "      <td>-0.049383</td>\n",
       "      <td>-0.010025</td>\n",
       "      <td>-0.037175</td>\n",
       "      <td>0.001082</td>\n",
       "      <td>-0.012058</td>\n",
       "    </tr>\n",
       "    <tr>\n",
       "      <th>2133</th>\n",
       "      <td>-0.001493</td>\n",
       "      <td>0.012987</td>\n",
       "      <td>-0.004219</td>\n",
       "      <td>-0.030888</td>\n",
       "      <td>-0.002161</td>\n",
       "      <td>-0.005256</td>\n",
       "    </tr>\n",
       "    <tr>\n",
       "      <th>2134</th>\n",
       "      <td>-0.001495</td>\n",
       "      <td>0.012821</td>\n",
       "      <td>-0.003390</td>\n",
       "      <td>0.015936</td>\n",
       "      <td>0.011913</td>\n",
       "      <td>0.016299</td>\n",
       "    </tr>\n",
       "    <tr>\n",
       "      <th>2135</th>\n",
       "      <td>0.004491</td>\n",
       "      <td>0.037975</td>\n",
       "      <td>0.010488</td>\n",
       "      <td>0.027451</td>\n",
       "      <td>0.021049</td>\n",
       "      <td>0.006521</td>\n",
       "    </tr>\n",
       "  </tbody>\n",
       "</table>\n",
       "<p>2136 rows × 6 columns</p>\n",
       "</div>"
      ],
      "text/plain": [
       "           GOL       CVC      WEGE      MGLU      TOTS      BOVA\n",
       "0          NaN       NaN       NaN       NaN       NaN       NaN\n",
       "1    -0.009340 -0.013158  0.006818  0.018792 -0.030726 -0.019890\n",
       "2     0.024242 -0.013333 -0.014834 -0.013175 -0.062536  0.005613\n",
       "3    -0.043392 -0.008784 -0.011457  0.033380 -0.007070  0.033705\n",
       "4    -0.019244 -0.035447  0.016887 -0.007752  0.023220  0.007477\n",
       "...        ...       ...       ...       ...       ...       ...\n",
       "2131 -0.047026 -0.058139 -0.006089 -0.032374 -0.007516 -0.004556\n",
       "2132 -0.027576 -0.049383 -0.010025 -0.037175  0.001082 -0.012058\n",
       "2133 -0.001493  0.012987 -0.004219 -0.030888 -0.002161 -0.005256\n",
       "2134 -0.001495  0.012821 -0.003390  0.015936  0.011913  0.016299\n",
       "2135  0.004491  0.037975  0.010488  0.027451  0.021049  0.006521\n",
       "\n",
       "[2136 rows x 6 columns]"
      ]
     },
     "execution_count": 70,
     "metadata": {},
     "output_type": "execute_result"
    }
   ],
   "source": [
    "taxas_retorno"
   ]
  },
  {
   "cell_type": "markdown",
   "metadata": {},
   "source": [
    "A **covariância** é uma medida estatística onde é possível comparar duas variáveis, permitindo **entender como elas se relacionam entre si**\n",
    "\n",
    "Se o sinal for **negativo**, significa que as variáveis têm **relação oposta** (enquanto uma aumenta, a outra diminui). \n",
    "Já se o sinal for **positivo**, significa que a **relação também é positiva** (enquanto uma aumenta, a outra também aumenta)."
   ]
  },
  {
   "cell_type": "code",
   "execution_count": 71,
   "metadata": {
    "colab": {
     "base_uri": "https://localhost:8080/",
     "height": 260
    },
    "id": "A2dHlyuOw_wM",
    "outputId": "2e365218-6b9e-4657-ab41-7b301c8d2ba8"
   },
   "outputs": [
    {
     "data": {
      "text/html": [
       "<div>\n",
       "<style scoped>\n",
       "    .dataframe tbody tr th:only-of-type {\n",
       "        vertical-align: middle;\n",
       "    }\n",
       "\n",
       "    .dataframe tbody tr th {\n",
       "        vertical-align: top;\n",
       "    }\n",
       "\n",
       "    .dataframe thead th {\n",
       "        text-align: right;\n",
       "    }\n",
       "</style>\n",
       "<table border=\"1\" class=\"dataframe\">\n",
       "  <thead>\n",
       "    <tr style=\"text-align: right;\">\n",
       "      <th></th>\n",
       "      <th>GOL</th>\n",
       "      <th>CVC</th>\n",
       "      <th>WEGE</th>\n",
       "      <th>MGLU</th>\n",
       "      <th>TOTS</th>\n",
       "      <th>BOVA</th>\n",
       "    </tr>\n",
       "  </thead>\n",
       "  <tbody>\n",
       "    <tr>\n",
       "      <th>GOL</th>\n",
       "      <td>0.002356</td>\n",
       "      <td>0.001027</td>\n",
       "      <td>0.000326</td>\n",
       "      <td>0.000734</td>\n",
       "      <td>0.000412</td>\n",
       "      <td>0.000458</td>\n",
       "    </tr>\n",
       "    <tr>\n",
       "      <th>CVC</th>\n",
       "      <td>0.001027</td>\n",
       "      <td>0.001498</td>\n",
       "      <td>0.000236</td>\n",
       "      <td>0.000619</td>\n",
       "      <td>0.000327</td>\n",
       "      <td>0.000333</td>\n",
       "    </tr>\n",
       "    <tr>\n",
       "      <th>WEGE</th>\n",
       "      <td>0.000326</td>\n",
       "      <td>0.000236</td>\n",
       "      <td>0.000475</td>\n",
       "      <td>0.000269</td>\n",
       "      <td>0.000211</td>\n",
       "      <td>0.000182</td>\n",
       "    </tr>\n",
       "    <tr>\n",
       "      <th>MGLU</th>\n",
       "      <td>0.000734</td>\n",
       "      <td>0.000619</td>\n",
       "      <td>0.000269</td>\n",
       "      <td>0.001828</td>\n",
       "      <td>0.000356</td>\n",
       "      <td>0.000317</td>\n",
       "    </tr>\n",
       "    <tr>\n",
       "      <th>TOTS</th>\n",
       "      <td>0.000412</td>\n",
       "      <td>0.000327</td>\n",
       "      <td>0.000211</td>\n",
       "      <td>0.000356</td>\n",
       "      <td>0.000605</td>\n",
       "      <td>0.000199</td>\n",
       "    </tr>\n",
       "    <tr>\n",
       "      <th>BOVA</th>\n",
       "      <td>0.000458</td>\n",
       "      <td>0.000333</td>\n",
       "      <td>0.000182</td>\n",
       "      <td>0.000317</td>\n",
       "      <td>0.000199</td>\n",
       "      <td>0.000260</td>\n",
       "    </tr>\n",
       "  </tbody>\n",
       "</table>\n",
       "</div>"
      ],
      "text/plain": [
       "           GOL       CVC      WEGE      MGLU      TOTS      BOVA\n",
       "GOL   0.002356  0.001027  0.000326  0.000734  0.000412  0.000458\n",
       "CVC   0.001027  0.001498  0.000236  0.000619  0.000327  0.000333\n",
       "WEGE  0.000326  0.000236  0.000475  0.000269  0.000211  0.000182\n",
       "MGLU  0.000734  0.000619  0.000269  0.001828  0.000356  0.000317\n",
       "TOTS  0.000412  0.000327  0.000211  0.000356  0.000605  0.000199\n",
       "BOVA  0.000458  0.000333  0.000182  0.000317  0.000199  0.000260"
      ]
     },
     "execution_count": 71,
     "metadata": {},
     "output_type": "execute_result"
    }
   ],
   "source": [
    "taxas_retorno.cov()"
   ]
  },
  {
   "cell_type": "code",
   "execution_count": 77,
   "metadata": {
    "colab": {
     "base_uri": "https://localhost:8080/",
     "height": 260
    },
    "id": "WsaMv-JzyBB8",
    "outputId": "0e39c84e-3a98-4b69-eb4c-1660170ff8cb"
   },
   "outputs": [
    {
     "data": {
      "text/html": [
       "<div>\n",
       "<style scoped>\n",
       "    .dataframe tbody tr th:only-of-type {\n",
       "        vertical-align: middle;\n",
       "    }\n",
       "\n",
       "    .dataframe tbody tr th {\n",
       "        vertical-align: top;\n",
       "    }\n",
       "\n",
       "    .dataframe thead th {\n",
       "        text-align: right;\n",
       "    }\n",
       "</style>\n",
       "<table border=\"1\" class=\"dataframe\">\n",
       "  <thead>\n",
       "    <tr style=\"text-align: right;\">\n",
       "      <th></th>\n",
       "      <th>GOL</th>\n",
       "      <th>CVC</th>\n",
       "      <th>WEGE</th>\n",
       "      <th>MGLU</th>\n",
       "      <th>TOTS</th>\n",
       "      <th>BOVA</th>\n",
       "    </tr>\n",
       "  </thead>\n",
       "  <tbody>\n",
       "    <tr>\n",
       "      <th>GOL</th>\n",
       "      <td>1.000000</td>\n",
       "      <td>0.546455</td>\n",
       "      <td>0.308228</td>\n",
       "      <td>0.353521</td>\n",
       "      <td>0.345389</td>\n",
       "      <td>0.584609</td>\n",
       "    </tr>\n",
       "    <tr>\n",
       "      <th>CVC</th>\n",
       "      <td>0.546455</td>\n",
       "      <td>1.000000</td>\n",
       "      <td>0.279242</td>\n",
       "      <td>0.374270</td>\n",
       "      <td>0.343813</td>\n",
       "      <td>0.533207</td>\n",
       "    </tr>\n",
       "    <tr>\n",
       "      <th>WEGE</th>\n",
       "      <td>0.308228</td>\n",
       "      <td>0.279242</td>\n",
       "      <td>1.000000</td>\n",
       "      <td>0.288411</td>\n",
       "      <td>0.394450</td>\n",
       "      <td>0.518872</td>\n",
       "    </tr>\n",
       "    <tr>\n",
       "      <th>MGLU</th>\n",
       "      <td>0.353521</td>\n",
       "      <td>0.374270</td>\n",
       "      <td>0.288411</td>\n",
       "      <td>1.000000</td>\n",
       "      <td>0.338859</td>\n",
       "      <td>0.460052</td>\n",
       "    </tr>\n",
       "    <tr>\n",
       "      <th>TOTS</th>\n",
       "      <td>0.345389</td>\n",
       "      <td>0.343813</td>\n",
       "      <td>0.394450</td>\n",
       "      <td>0.338859</td>\n",
       "      <td>1.000000</td>\n",
       "      <td>0.500251</td>\n",
       "    </tr>\n",
       "    <tr>\n",
       "      <th>BOVA</th>\n",
       "      <td>0.584609</td>\n",
       "      <td>0.533207</td>\n",
       "      <td>0.518872</td>\n",
       "      <td>0.460052</td>\n",
       "      <td>0.500251</td>\n",
       "      <td>1.000000</td>\n",
       "    </tr>\n",
       "  </tbody>\n",
       "</table>\n",
       "</div>"
      ],
      "text/plain": [
       "           GOL       CVC      WEGE      MGLU      TOTS      BOVA\n",
       "GOL   1.000000  0.546455  0.308228  0.353521  0.345389  0.584609\n",
       "CVC   0.546455  1.000000  0.279242  0.374270  0.343813  0.533207\n",
       "WEGE  0.308228  0.279242  1.000000  0.288411  0.394450  0.518872\n",
       "MGLU  0.353521  0.374270  0.288411  1.000000  0.338859  0.460052\n",
       "TOTS  0.345389  0.343813  0.394450  0.338859  1.000000  0.500251\n",
       "BOVA  0.584609  0.533207  0.518872  0.460052  0.500251  1.000000"
      ]
     },
     "execution_count": 77,
     "metadata": {},
     "output_type": "execute_result"
    }
   ],
   "source": [
    "# Empresas BOVA: http://bvmf.bmfbovespa.com.br/indices/ResumoCarteiraQuadrimestre.aspx?Indice=IBOV&idioma=pt-br\n",
    "taxas_retorno.corr()"
   ]
  },
  {
   "attachments": {
    "43a5d1fa-31e6-4e30-929d-65b48156bafa.png": {
     "image/png": "[encoded data removed]"
    }
   },
   "cell_type": "markdown",
   "metadata": {},
   "source": [
    "A tabela abaixo indica como devemos interpretar os valores do coeficiente de correlação \n",
    "![image.png](attachment:43a5d1fa-31e6-4e30-929d-65b48156bafa.png)"
   ]
  },
  {
   "cell_type": "code",
   "execution_count": 73,
   "metadata": {
    "colab": {
     "base_uri": "https://localhost:8080/",
     "height": 507
    },
    "id": "LGkZkuG8zfcT",
    "outputId": "10d98031-585e-4c27-eb26-12b71772abfb"
   },
   "outputs": [
    {
     "data": {
      "image/png": "[encoded data removed]",
      "text/plain": [
       "<Figure size 800x800 with 2 Axes>"
      ]
     },
     "metadata": {},
     "output_type": "display_data"
    }
   ],
   "source": [
    "plt.figure(figsize=(8,8))\n",
    "sns.heatmap(taxas_retorno.corr(), annot=True);"
   ]
  },
  {
   "cell_type": "markdown",
   "metadata": {
    "id": "_leJrS3iJCWQ"
   },
   "source": [
    "## Risco de um portfólio"
   ]
  },
  {
   "attachments": {
    "3d85142c-802c-477c-a259-4d9520fecbb3.png": {
     "image/png": "[encoded data removed]"
    }
   },
   "cell_type": "markdown",
   "metadata": {},
   "source": [
    "![image.png](attachment:3d85142c-802c-477c-a259-4d9520fecbb3.png)"
   ]
  },
  {
   "cell_type": "markdown",
   "metadata": {
    "id": "OaQ_6HmNYXTX"
   },
   "source": [
    "### Somente duas ações"
   ]
  },
  {
   "cell_type": "code",
   "execution_count": 74,
   "metadata": {
    "colab": {
     "base_uri": "https://localhost:8080/",
     "height": 447
    },
    "id": "Rl0_pBxZ1iKy",
    "outputId": "90619b73-cbdc-4f2d-8f9a-0540ef7d5b0d"
   },
   "outputs": [
    {
     "data": {
      "text/html": [
       "<div>\n",
       "<style scoped>\n",
       "    .dataframe tbody tr th:only-of-type {\n",
       "        vertical-align: middle;\n",
       "    }\n",
       "\n",
       "    .dataframe tbody tr th {\n",
       "        vertical-align: top;\n",
       "    }\n",
       "\n",
       "    .dataframe thead th {\n",
       "        text-align: right;\n",
       "    }\n",
       "</style>\n",
       "<table border=\"1\" class=\"dataframe\">\n",
       "  <thead>\n",
       "    <tr style=\"text-align: right;\">\n",
       "      <th></th>\n",
       "      <th>GOL</th>\n",
       "      <th>CVC</th>\n",
       "      <th>WEGE</th>\n",
       "      <th>MGLU</th>\n",
       "      <th>TOTS</th>\n",
       "      <th>BOVA</th>\n",
       "    </tr>\n",
       "  </thead>\n",
       "  <tbody>\n",
       "    <tr>\n",
       "      <th>0</th>\n",
       "      <td>NaN</td>\n",
       "      <td>NaN</td>\n",
       "      <td>NaN</td>\n",
       "      <td>NaN</td>\n",
       "      <td>NaN</td>\n",
       "      <td>NaN</td>\n",
       "    </tr>\n",
       "    <tr>\n",
       "      <th>1</th>\n",
       "      <td>-0.009340</td>\n",
       "      <td>-0.013158</td>\n",
       "      <td>0.006818</td>\n",
       "      <td>0.018792</td>\n",
       "      <td>-0.030726</td>\n",
       "      <td>-0.019890</td>\n",
       "    </tr>\n",
       "    <tr>\n",
       "      <th>2</th>\n",
       "      <td>0.024242</td>\n",
       "      <td>-0.013333</td>\n",
       "      <td>-0.014834</td>\n",
       "      <td>-0.013175</td>\n",
       "      <td>-0.062536</td>\n",
       "      <td>0.005613</td>\n",
       "    </tr>\n",
       "    <tr>\n",
       "      <th>3</th>\n",
       "      <td>-0.043392</td>\n",
       "      <td>-0.008784</td>\n",
       "      <td>-0.011457</td>\n",
       "      <td>0.033380</td>\n",
       "      <td>-0.007070</td>\n",
       "      <td>0.033705</td>\n",
       "    </tr>\n",
       "    <tr>\n",
       "      <th>4</th>\n",
       "      <td>-0.019244</td>\n",
       "      <td>-0.035447</td>\n",
       "      <td>0.016887</td>\n",
       "      <td>-0.007752</td>\n",
       "      <td>0.023220</td>\n",
       "      <td>0.007477</td>\n",
       "    </tr>\n",
       "    <tr>\n",
       "      <th>...</th>\n",
       "      <td>...</td>\n",
       "      <td>...</td>\n",
       "      <td>...</td>\n",
       "      <td>...</td>\n",
       "      <td>...</td>\n",
       "      <td>...</td>\n",
       "    </tr>\n",
       "    <tr>\n",
       "      <th>2131</th>\n",
       "      <td>-0.047026</td>\n",
       "      <td>-0.058139</td>\n",
       "      <td>-0.006089</td>\n",
       "      <td>-0.032374</td>\n",
       "      <td>-0.007516</td>\n",
       "      <td>-0.004556</td>\n",
       "    </tr>\n",
       "    <tr>\n",
       "      <th>2132</th>\n",
       "      <td>-0.027576</td>\n",
       "      <td>-0.049383</td>\n",
       "      <td>-0.010025</td>\n",
       "      <td>-0.037175</td>\n",
       "      <td>0.001082</td>\n",
       "      <td>-0.012058</td>\n",
       "    </tr>\n",
       "    <tr>\n",
       "      <th>2133</th>\n",
       "      <td>-0.001493</td>\n",
       "      <td>0.012987</td>\n",
       "      <td>-0.004219</td>\n",
       "      <td>-0.030888</td>\n",
       "      <td>-0.002161</td>\n",
       "      <td>-0.005256</td>\n",
       "    </tr>\n",
       "    <tr>\n",
       "      <th>2134</th>\n",
       "      <td>-0.001495</td>\n",
       "      <td>0.012821</td>\n",
       "      <td>-0.003390</td>\n",
       "      <td>0.015936</td>\n",
       "      <td>0.011913</td>\n",
       "      <td>0.016299</td>\n",
       "    </tr>\n",
       "    <tr>\n",
       "      <th>2135</th>\n",
       "      <td>0.004491</td>\n",
       "      <td>0.037975</td>\n",
       "      <td>0.010488</td>\n",
       "      <td>0.027451</td>\n",
       "      <td>0.021049</td>\n",
       "      <td>0.006521</td>\n",
       "    </tr>\n",
       "  </tbody>\n",
       "</table>\n",
       "<p>2136 rows × 6 columns</p>\n",
       "</div>"
      ],
      "text/plain": [
       "           GOL       CVC      WEGE      MGLU      TOTS      BOVA\n",
       "0          NaN       NaN       NaN       NaN       NaN       NaN\n",
       "1    -0.009340 -0.013158  0.006818  0.018792 -0.030726 -0.019890\n",
       "2     0.024242 -0.013333 -0.014834 -0.013175 -0.062536  0.005613\n",
       "3    -0.043392 -0.008784 -0.011457  0.033380 -0.007070  0.033705\n",
       "4    -0.019244 -0.035447  0.016887 -0.007752  0.023220  0.007477\n",
       "...        ...       ...       ...       ...       ...       ...\n",
       "2131 -0.047026 -0.058139 -0.006089 -0.032374 -0.007516 -0.004556\n",
       "2132 -0.027576 -0.049383 -0.010025 -0.037175  0.001082 -0.012058\n",
       "2133 -0.001493  0.012987 -0.004219 -0.030888 -0.002161 -0.005256\n",
       "2134 -0.001495  0.012821 -0.003390  0.015936  0.011913  0.016299\n",
       "2135  0.004491  0.037975  0.010488  0.027451  0.021049  0.006521\n",
       "\n",
       "[2136 rows x 6 columns]"
      ]
     },
     "execution_count": 74,
     "metadata": {},
     "output_type": "execute_result"
    }
   ],
   "source": [
    "taxas_retorno"
   ]
  },
  {
   "cell_type": "code",
   "execution_count": 75,
   "metadata": {
    "colab": {
     "base_uri": "https://localhost:8080/",
     "height": 447
    },
    "id": "8zzZJquB1p1P",
    "outputId": "254495b6-0edb-4569-90dc-42d229a479ca"
   },
   "outputs": [
    {
     "data": {
      "text/html": [
       "<div>\n",
       "<style scoped>\n",
       "    .dataframe tbody tr th:only-of-type {\n",
       "        vertical-align: middle;\n",
       "    }\n",
       "\n",
       "    .dataframe tbody tr th {\n",
       "        vertical-align: top;\n",
       "    }\n",
       "\n",
       "    .dataframe thead th {\n",
       "        text-align: right;\n",
       "    }\n",
       "</style>\n",
       "<table border=\"1\" class=\"dataframe\">\n",
       "  <thead>\n",
       "    <tr style=\"text-align: right;\">\n",
       "      <th></th>\n",
       "      <th>GOL</th>\n",
       "      <th>CVC</th>\n",
       "    </tr>\n",
       "  </thead>\n",
       "  <tbody>\n",
       "    <tr>\n",
       "      <th>0</th>\n",
       "      <td>NaN</td>\n",
       "      <td>NaN</td>\n",
       "    </tr>\n",
       "    <tr>\n",
       "      <th>1</th>\n",
       "      <td>-0.009340</td>\n",
       "      <td>-0.013158</td>\n",
       "    </tr>\n",
       "    <tr>\n",
       "      <th>2</th>\n",
       "      <td>0.024242</td>\n",
       "      <td>-0.013333</td>\n",
       "    </tr>\n",
       "    <tr>\n",
       "      <th>3</th>\n",
       "      <td>-0.043392</td>\n",
       "      <td>-0.008784</td>\n",
       "    </tr>\n",
       "    <tr>\n",
       "      <th>4</th>\n",
       "      <td>-0.019244</td>\n",
       "      <td>-0.035447</td>\n",
       "    </tr>\n",
       "    <tr>\n",
       "      <th>...</th>\n",
       "      <td>...</td>\n",
       "      <td>...</td>\n",
       "    </tr>\n",
       "    <tr>\n",
       "      <th>2131</th>\n",
       "      <td>-0.047026</td>\n",
       "      <td>-0.058139</td>\n",
       "    </tr>\n",
       "    <tr>\n",
       "      <th>2132</th>\n",
       "      <td>-0.027576</td>\n",
       "      <td>-0.049383</td>\n",
       "    </tr>\n",
       "    <tr>\n",
       "      <th>2133</th>\n",
       "      <td>-0.001493</td>\n",
       "      <td>0.012987</td>\n",
       "    </tr>\n",
       "    <tr>\n",
       "      <th>2134</th>\n",
       "      <td>-0.001495</td>\n",
       "      <td>0.012821</td>\n",
       "    </tr>\n",
       "    <tr>\n",
       "      <th>2135</th>\n",
       "      <td>0.004491</td>\n",
       "      <td>0.037975</td>\n",
       "    </tr>\n",
       "  </tbody>\n",
       "</table>\n",
       "<p>2136 rows × 2 columns</p>\n",
       "</div>"
      ],
      "text/plain": [
       "           GOL       CVC\n",
       "0          NaN       NaN\n",
       "1    -0.009340 -0.013158\n",
       "2     0.024242 -0.013333\n",
       "3    -0.043392 -0.008784\n",
       "4    -0.019244 -0.035447\n",
       "...        ...       ...\n",
       "2131 -0.047026 -0.058139\n",
       "2132 -0.027576 -0.049383\n",
       "2133 -0.001493  0.012987\n",
       "2134 -0.001495  0.012821\n",
       "2135  0.004491  0.037975\n",
       "\n",
       "[2136 rows x 2 columns]"
      ]
     },
     "execution_count": 75,
     "metadata": {},
     "output_type": "execute_result"
    }
   ],
   "source": [
    "taxas_retorno_gol_cvc = taxas_retorno.drop(columns = ['WEGE', 'MGLU', 'TOTS', 'BOVA'])\n",
    "taxas_retorno_gol_cvc"
   ]
  },
  {
   "cell_type": "code",
   "execution_count": 78,
   "metadata": {
    "colab": {
     "base_uri": "https://localhost:8080/",
     "height": 133
    },
    "id": "pCjrtLl_2FbJ",
    "outputId": "37a47b32-e820-4996-b99c-da26232a4a10"
   },
   "outputs": [
    {
     "data": {
      "text/html": [
       "<div>\n",
       "<style scoped>\n",
       "    .dataframe tbody tr th:only-of-type {\n",
       "        vertical-align: middle;\n",
       "    }\n",
       "\n",
       "    .dataframe tbody tr th {\n",
       "        vertical-align: top;\n",
       "    }\n",
       "\n",
       "    .dataframe thead th {\n",
       "        text-align: right;\n",
       "    }\n",
       "</style>\n",
       "<table border=\"1\" class=\"dataframe\">\n",
       "  <thead>\n",
       "    <tr style=\"text-align: right;\">\n",
       "      <th></th>\n",
       "      <th>GOL</th>\n",
       "      <th>CVC</th>\n",
       "    </tr>\n",
       "  </thead>\n",
       "  <tbody>\n",
       "    <tr>\n",
       "      <th>GOL</th>\n",
       "      <td>0.002356</td>\n",
       "      <td>0.001027</td>\n",
       "    </tr>\n",
       "    <tr>\n",
       "      <th>CVC</th>\n",
       "      <td>0.001027</td>\n",
       "      <td>0.001498</td>\n",
       "    </tr>\n",
       "  </tbody>\n",
       "</table>\n",
       "</div>"
      ],
      "text/plain": [
       "          GOL       CVC\n",
       "GOL  0.002356  0.001027\n",
       "CVC  0.001027  0.001498"
      ]
     },
     "execution_count": 78,
     "metadata": {},
     "output_type": "execute_result"
    }
   ],
   "source": [
    "taxas_retorno_gol_cvc.cov()"
   ]
  },
  {
   "cell_type": "code",
   "execution_count": 79,
   "metadata": {
    "colab": {
     "base_uri": "https://localhost:8080/",
     "height": 133
    },
    "id": "G_N-BvVk2UQv",
    "outputId": "b012ad19-bc43-418f-d339-39b734f29ce3"
   },
   "outputs": [
    {
     "data": {
      "text/html": [
       "<div>\n",
       "<style scoped>\n",
       "    .dataframe tbody tr th:only-of-type {\n",
       "        vertical-align: middle;\n",
       "    }\n",
       "\n",
       "    .dataframe tbody tr th {\n",
       "        vertical-align: top;\n",
       "    }\n",
       "\n",
       "    .dataframe thead th {\n",
       "        text-align: right;\n",
       "    }\n",
       "</style>\n",
       "<table border=\"1\" class=\"dataframe\">\n",
       "  <thead>\n",
       "    <tr style=\"text-align: right;\">\n",
       "      <th></th>\n",
       "      <th>GOL</th>\n",
       "      <th>CVC</th>\n",
       "    </tr>\n",
       "  </thead>\n",
       "  <tbody>\n",
       "    <tr>\n",
       "      <th>GOL</th>\n",
       "      <td>0.579634</td>\n",
       "      <td>0.252561</td>\n",
       "    </tr>\n",
       "    <tr>\n",
       "      <th>CVC</th>\n",
       "      <td>0.252561</td>\n",
       "      <td>0.368528</td>\n",
       "    </tr>\n",
       "  </tbody>\n",
       "</table>\n",
       "</div>"
      ],
      "text/plain": [
       "          GOL       CVC\n",
       "GOL  0.579634  0.252561\n",
       "CVC  0.252561  0.368528"
      ]
     },
     "execution_count": 79,
     "metadata": {},
     "output_type": "execute_result"
    }
   ],
   "source": [
    "taxas_retorno_gol_cvc.cov() * 246"
   ]
  },
  {
   "cell_type": "code",
   "execution_count": 80,
   "metadata": {
    "id": "BNzJdylB2gUx"
   },
   "outputs": [],
   "source": [
    "pesos = np.array([0.5, 0.5])"
   ]
  },
  {
   "cell_type": "code",
   "execution_count": 81,
   "metadata": {
    "colab": {
     "base_uri": "https://localhost:8080/"
    },
    "id": "SOYUEJdg5AZu",
    "outputId": "d6896ba8-f69a-41e2-80b7-3af79cd5014a"
   },
   "outputs": [
    {
     "data": {
      "text/plain": [
       "array([0.41609746, 0.31054467])"
      ]
     },
     "execution_count": 81,
     "metadata": {},
     "output_type": "execute_result"
    }
   ],
   "source": [
    "np.dot(taxas_retorno_gol_cvc.cov() * 246, pesos)"
   ]
  },
  {
   "cell_type": "code",
   "execution_count": 82,
   "metadata": {
    "colab": {
     "base_uri": "https://localhost:8080/"
    },
    "id": "_kMUpXQf5YdV",
    "outputId": "d48cb10b-111d-4dbf-e95b-792b05a564ce"
   },
   "outputs": [
    {
     "data": {
      "text/plain": [
       "0.3633210627907876"
      ]
     },
     "execution_count": 82,
     "metadata": {},
     "output_type": "execute_result"
    }
   ],
   "source": [
    "np.dot(pesos, np.dot(taxas_retorno_gol_cvc.cov() * 246, pesos))"
   ]
  },
  {
   "cell_type": "code",
   "execution_count": 83,
   "metadata": {
    "colab": {
     "base_uri": "https://localhost:8080/"
    },
    "id": "FVUlcRa25olE",
    "outputId": "aee89f02-2964-4ee3-ce6b-edf7a2d8cdd8"
   },
   "outputs": [
    {
     "data": {
      "text/plain": [
       "60.27611988099329"
      ]
     },
     "execution_count": 83,
     "metadata": {},
     "output_type": "execute_result"
    }
   ],
   "source": [
    "math.sqrt(np.dot(pesos, np.dot(taxas_retorno_gol_cvc.cov() * 246, pesos))) * 100"
   ]
  },
  {
   "cell_type": "markdown",
   "metadata": {
    "id": "c1wTpHntY717"
   },
   "source": [
    "### Todas as ações"
   ]
  },
  {
   "cell_type": "code",
   "execution_count": 84,
   "metadata": {
    "colab": {
     "base_uri": "https://localhost:8080/"
    },
    "id": "_gGk8djnGW85",
    "outputId": "5b6ffe6a-8630-4a25-a611-0550df74a943"
   },
   "outputs": [
    {
     "data": {
      "text/plain": [
       "Index(['GOL', 'CVC', 'WEGE', 'MGLU', 'TOTS', 'BOVA'], dtype='object')"
      ]
     },
     "execution_count": 84,
     "metadata": {},
     "output_type": "execute_result"
    }
   ],
   "source": [
    "dataset.columns"
   ]
  },
  {
   "cell_type": "code",
   "execution_count": 85,
   "metadata": {
    "id": "wl9N5jK1GQCO"
   },
   "outputs": [],
   "source": [
    "pesos1 = np.array([0.2, 0.2, 0.2, 0.2, 0.2, 0.0])"
   ]
  },
  {
   "cell_type": "code",
   "execution_count": 86,
   "metadata": {
    "colab": {
     "base_uri": "https://localhost:8080/"
    },
    "id": "sLrPy70XGkaT",
    "outputId": "aa180e5d-0016-48c7-f6fd-f5ec51bdaa0a"
   },
   "outputs": [
    {
     "data": {
      "text/plain": [
       "1.0"
      ]
     },
     "execution_count": 86,
     "metadata": {},
     "output_type": "execute_result"
    }
   ],
   "source": [
    "pesos1.sum()"
   ]
  },
  {
   "cell_type": "code",
   "execution_count": 87,
   "metadata": {
    "colab": {
     "base_uri": "https://localhost:8080/",
     "height": 260
    },
    "id": "V-KXY8uyGmoV",
    "outputId": "128de9c8-0021-4d21-de58-a43a538833d9"
   },
   "outputs": [
    {
     "data": {
      "text/html": [
       "<div>\n",
       "<style scoped>\n",
       "    .dataframe tbody tr th:only-of-type {\n",
       "        vertical-align: middle;\n",
       "    }\n",
       "\n",
       "    .dataframe tbody tr th {\n",
       "        vertical-align: top;\n",
       "    }\n",
       "\n",
       "    .dataframe thead th {\n",
       "        text-align: right;\n",
       "    }\n",
       "</style>\n",
       "<table border=\"1\" class=\"dataframe\">\n",
       "  <thead>\n",
       "    <tr style=\"text-align: right;\">\n",
       "      <th></th>\n",
       "      <th>GOL</th>\n",
       "      <th>CVC</th>\n",
       "      <th>WEGE</th>\n",
       "      <th>MGLU</th>\n",
       "      <th>TOTS</th>\n",
       "      <th>BOVA</th>\n",
       "    </tr>\n",
       "  </thead>\n",
       "  <tbody>\n",
       "    <tr>\n",
       "      <th>GOL</th>\n",
       "      <td>0.579634</td>\n",
       "      <td>0.252561</td>\n",
       "      <td>0.080229</td>\n",
       "      <td>0.180512</td>\n",
       "      <td>0.101443</td>\n",
       "      <td>0.112620</td>\n",
       "    </tr>\n",
       "    <tr>\n",
       "      <th>CVC</th>\n",
       "      <td>0.252561</td>\n",
       "      <td>0.368528</td>\n",
       "      <td>0.057956</td>\n",
       "      <td>0.152382</td>\n",
       "      <td>0.080518</td>\n",
       "      <td>0.081904</td>\n",
       "    </tr>\n",
       "    <tr>\n",
       "      <th>WEGE</th>\n",
       "      <td>0.080229</td>\n",
       "      <td>0.057956</td>\n",
       "      <td>0.116886</td>\n",
       "      <td>0.066131</td>\n",
       "      <td>0.052025</td>\n",
       "      <td>0.044886</td>\n",
       "    </tr>\n",
       "    <tr>\n",
       "      <th>MGLU</th>\n",
       "      <td>0.180512</td>\n",
       "      <td>0.152382</td>\n",
       "      <td>0.066131</td>\n",
       "      <td>0.449808</td>\n",
       "      <td>0.087673</td>\n",
       "      <td>0.078071</td>\n",
       "    </tr>\n",
       "    <tr>\n",
       "      <th>TOTS</th>\n",
       "      <td>0.101443</td>\n",
       "      <td>0.080518</td>\n",
       "      <td>0.052025</td>\n",
       "      <td>0.087673</td>\n",
       "      <td>0.148824</td>\n",
       "      <td>0.048831</td>\n",
       "    </tr>\n",
       "    <tr>\n",
       "      <th>BOVA</th>\n",
       "      <td>0.112620</td>\n",
       "      <td>0.081904</td>\n",
       "      <td>0.044886</td>\n",
       "      <td>0.078071</td>\n",
       "      <td>0.048831</td>\n",
       "      <td>0.064024</td>\n",
       "    </tr>\n",
       "  </tbody>\n",
       "</table>\n",
       "</div>"
      ],
      "text/plain": [
       "           GOL       CVC      WEGE      MGLU      TOTS      BOVA\n",
       "GOL   0.579634  0.252561  0.080229  0.180512  0.101443  0.112620\n",
       "CVC   0.252561  0.368528  0.057956  0.152382  0.080518  0.081904\n",
       "WEGE  0.080229  0.057956  0.116886  0.066131  0.052025  0.044886\n",
       "MGLU  0.180512  0.152382  0.066131  0.449808  0.087673  0.078071\n",
       "TOTS  0.101443  0.080518  0.052025  0.087673  0.148824  0.048831\n",
       "BOVA  0.112620  0.081904  0.044886  0.078071  0.048831  0.064024"
      ]
     },
     "execution_count": 87,
     "metadata": {},
     "output_type": "execute_result"
    }
   ],
   "source": [
    "taxas_retorno.cov() * 246"
   ]
  },
  {
   "cell_type": "code",
   "execution_count": 88,
   "metadata": {
    "colab": {
     "base_uri": "https://localhost:8080/"
    },
    "id": "h-C4Z_fXG2q2",
    "outputId": "c8a10126-97c3-4e19-8397-dc2f11e753f4"
   },
   "outputs": [
    {
     "data": {
      "text/plain": [
       "array([0.23887575, 0.1823891 , 0.07464545, 0.18730133, 0.09409666,\n",
       "       0.07326238])"
      ]
     },
     "execution_count": 88,
     "metadata": {},
     "output_type": "execute_result"
    }
   ],
   "source": [
    "np.dot(taxas_retorno.cov() * 246, pesos1)"
   ]
  },
  {
   "cell_type": "code",
   "execution_count": 89,
   "metadata": {
    "colab": {
     "base_uri": "https://localhost:8080/"
    },
    "id": "Rh8Q5vVLHFDe",
    "outputId": "1d6c76d5-739f-4b8c-89f1-3f7c64ffda69"
   },
   "outputs": [
    {
     "data": {
      "text/plain": [
       "0.15546165839209175"
      ]
     },
     "execution_count": 89,
     "metadata": {},
     "output_type": "execute_result"
    }
   ],
   "source": [
    "variancia_portfolio1 = np.dot(pesos1, np.dot(taxas_retorno.cov() * 246, pesos1))\n",
    "variancia_portfolio1"
   ]
  },
  {
   "cell_type": "code",
   "execution_count": 92,
   "metadata": {
    "colab": {
     "base_uri": "https://localhost:8080/"
    },
    "id": "q-u0ph4HHP1L",
    "outputId": "54b968ba-f28f-495d-e87a-aee79967dc49"
   },
   "outputs": [
    {
     "data": {
      "text/plain": [
       "0.394286264523749"
      ]
     },
     "execution_count": 92,
     "metadata": {},
     "output_type": "execute_result"
    }
   ],
   "source": [
    "volatilidade_portfolio1 = math.sqrt(variancia_portfolio1)\n",
    "volatilidade_portfolio1"
   ]
  },
  {
   "cell_type": "code",
   "execution_count": 93,
   "metadata": {
    "id": "Bz5n1c6VHzwg"
   },
   "outputs": [],
   "source": [
    "pesos2 = np.array([0.0, 0.0, 0.0, 0.0, 0.0, 1.0])"
   ]
  },
  {
   "cell_type": "code",
   "execution_count": 94,
   "metadata": {
    "colab": {
     "base_uri": "https://localhost:8080/"
    },
    "id": "otEgx6tgH9li",
    "outputId": "2c358f58-8d64-476e-dce0-e7721b4d4763"
   },
   "outputs": [
    {
     "data": {
      "text/plain": [
       "0.06402408918933901"
      ]
     },
     "execution_count": 94,
     "metadata": {},
     "output_type": "execute_result"
    }
   ],
   "source": [
    "variancia_portfolio2 = np.dot(pesos2, np.dot(taxas_retorno.cov() * 246, pesos2))\n",
    "variancia_portfolio2"
   ]
  },
  {
   "cell_type": "code",
   "execution_count": 95,
   "metadata": {
    "colab": {
     "base_uri": "https://localhost:8080/"
    },
    "id": "76SNhDpMIqZs",
    "outputId": "c5d0b0b8-5879-40f0-cb8d-258af0691004"
   },
   "outputs": [
    {
     "data": {
      "text/plain": [
       "0.25302981877505865"
      ]
     },
     "execution_count": 95,
     "metadata": {},
     "output_type": "execute_result"
    }
   ],
   "source": [
    "volatilidade_portfolio2 = math.sqrt(variancia_portfolio2)\n",
    "volatilidade_portfolio2"
   ]
  },
  {
   "cell_type": "markdown",
   "metadata": {
    "id": "n7kDc5w4cRK6"
   },
   "source": [
    "## Risco sistemático e não sistemático\n",
    "\n",
    "- Risco sistemático: mudança diária no preço das ações, devido a eventos como recessão da economia, comportamento do cliente (eventos externos). Não pode ser eliminado e pode afetar todas as empresas\n",
    "- Risco não sistemático: Eventos específicos na empresa (depende do tipo de empresa)"
   ]
  },
  {
   "cell_type": "code",
   "execution_count": 96,
   "metadata": {
    "colab": {
     "base_uri": "https://localhost:8080/",
     "height": 447
    },
    "id": "MSRjmyHqKoHO",
    "outputId": "310815c0-10bc-4f0c-8951-d8b2045ea091"
   },
   "outputs": [
    {
     "data": {
      "text/html": [
       "<div>\n",
       "<style scoped>\n",
       "    .dataframe tbody tr th:only-of-type {\n",
       "        vertical-align: middle;\n",
       "    }\n",
       "\n",
       "    .dataframe tbody tr th {\n",
       "        vertical-align: top;\n",
       "    }\n",
       "\n",
       "    .dataframe thead th {\n",
       "        text-align: right;\n",
       "    }\n",
       "</style>\n",
       "<table border=\"1\" class=\"dataframe\">\n",
       "  <thead>\n",
       "    <tr style=\"text-align: right;\">\n",
       "      <th></th>\n",
       "      <th>GOL</th>\n",
       "      <th>CVC</th>\n",
       "      <th>WEGE</th>\n",
       "      <th>MGLU</th>\n",
       "      <th>TOTS</th>\n",
       "      <th>BOVA</th>\n",
       "    </tr>\n",
       "  </thead>\n",
       "  <tbody>\n",
       "    <tr>\n",
       "      <th>0</th>\n",
       "      <td>NaN</td>\n",
       "      <td>NaN</td>\n",
       "      <td>NaN</td>\n",
       "      <td>NaN</td>\n",
       "      <td>NaN</td>\n",
       "      <td>NaN</td>\n",
       "    </tr>\n",
       "    <tr>\n",
       "      <th>1</th>\n",
       "      <td>-0.009340</td>\n",
       "      <td>-0.013158</td>\n",
       "      <td>0.006818</td>\n",
       "      <td>0.018792</td>\n",
       "      <td>-0.030726</td>\n",
       "      <td>-0.019890</td>\n",
       "    </tr>\n",
       "    <tr>\n",
       "      <th>2</th>\n",
       "      <td>0.024242</td>\n",
       "      <td>-0.013333</td>\n",
       "      <td>-0.014834</td>\n",
       "      <td>-0.013175</td>\n",
       "      <td>-0.062536</td>\n",
       "      <td>0.005613</td>\n",
       "    </tr>\n",
       "    <tr>\n",
       "      <th>3</th>\n",
       "      <td>-0.043392</td>\n",
       "      <td>-0.008784</td>\n",
       "      <td>-0.011457</td>\n",
       "      <td>0.033380</td>\n",
       "      <td>-0.007070</td>\n",
       "      <td>0.033705</td>\n",
       "    </tr>\n",
       "    <tr>\n",
       "      <th>4</th>\n",
       "      <td>-0.019244</td>\n",
       "      <td>-0.035447</td>\n",
       "      <td>0.016887</td>\n",
       "      <td>-0.007752</td>\n",
       "      <td>0.023220</td>\n",
       "      <td>0.007477</td>\n",
       "    </tr>\n",
       "    <tr>\n",
       "      <th>...</th>\n",
       "      <td>...</td>\n",
       "      <td>...</td>\n",
       "      <td>...</td>\n",
       "      <td>...</td>\n",
       "      <td>...</td>\n",
       "      <td>...</td>\n",
       "    </tr>\n",
       "    <tr>\n",
       "      <th>2131</th>\n",
       "      <td>-0.047026</td>\n",
       "      <td>-0.058139</td>\n",
       "      <td>-0.006089</td>\n",
       "      <td>-0.032374</td>\n",
       "      <td>-0.007516</td>\n",
       "      <td>-0.004556</td>\n",
       "    </tr>\n",
       "    <tr>\n",
       "      <th>2132</th>\n",
       "      <td>-0.027576</td>\n",
       "      <td>-0.049383</td>\n",
       "      <td>-0.010025</td>\n",
       "      <td>-0.037175</td>\n",
       "      <td>0.001082</td>\n",
       "      <td>-0.012058</td>\n",
       "    </tr>\n",
       "    <tr>\n",
       "      <th>2133</th>\n",
       "      <td>-0.001493</td>\n",
       "      <td>0.012987</td>\n",
       "      <td>-0.004219</td>\n",
       "      <td>-0.030888</td>\n",
       "      <td>-0.002161</td>\n",
       "      <td>-0.005256</td>\n",
       "    </tr>\n",
       "    <tr>\n",
       "      <th>2134</th>\n",
       "      <td>-0.001495</td>\n",
       "      <td>0.012821</td>\n",
       "      <td>-0.003390</td>\n",
       "      <td>0.015936</td>\n",
       "      <td>0.011913</td>\n",
       "      <td>0.016299</td>\n",
       "    </tr>\n",
       "    <tr>\n",
       "      <th>2135</th>\n",
       "      <td>0.004491</td>\n",
       "      <td>0.037975</td>\n",
       "      <td>0.010488</td>\n",
       "      <td>0.027451</td>\n",
       "      <td>0.021049</td>\n",
       "      <td>0.006521</td>\n",
       "    </tr>\n",
       "  </tbody>\n",
       "</table>\n",
       "<p>2136 rows × 6 columns</p>\n",
       "</div>"
      ],
      "text/plain": [
       "           GOL       CVC      WEGE      MGLU      TOTS      BOVA\n",
       "0          NaN       NaN       NaN       NaN       NaN       NaN\n",
       "1    -0.009340 -0.013158  0.006818  0.018792 -0.030726 -0.019890\n",
       "2     0.024242 -0.013333 -0.014834 -0.013175 -0.062536  0.005613\n",
       "3    -0.043392 -0.008784 -0.011457  0.033380 -0.007070  0.033705\n",
       "4    -0.019244 -0.035447  0.016887 -0.007752  0.023220  0.007477\n",
       "...        ...       ...       ...       ...       ...       ...\n",
       "2131 -0.047026 -0.058139 -0.006089 -0.032374 -0.007516 -0.004556\n",
       "2132 -0.027576 -0.049383 -0.010025 -0.037175  0.001082 -0.012058\n",
       "2133 -0.001493  0.012987 -0.004219 -0.030888 -0.002161 -0.005256\n",
       "2134 -0.001495  0.012821 -0.003390  0.015936  0.011913  0.016299\n",
       "2135  0.004491  0.037975  0.010488  0.027451  0.021049  0.006521\n",
       "\n",
       "[2136 rows x 6 columns]"
      ]
     },
     "execution_count": 96,
     "metadata": {},
     "output_type": "execute_result"
    }
   ],
   "source": [
    "taxas_retorno"
   ]
  },
  {
   "cell_type": "code",
   "execution_count": 97,
   "metadata": {
    "colab": {
     "base_uri": "https://localhost:8080/"
    },
    "id": "FCDxowKVKsfS",
    "outputId": "2a2a5329-588b-4688-f526-c7064b36118b"
   },
   "outputs": [
    {
     "data": {
      "text/plain": [
       "array([0.2, 0.2, 0.2, 0.2, 0.2, 0. ])"
      ]
     },
     "execution_count": 97,
     "metadata": {},
     "output_type": "execute_result"
    }
   ],
   "source": [
    "pesos1"
   ]
  },
  {
   "cell_type": "code",
   "execution_count": 98,
   "metadata": {
    "colab": {
     "base_uri": "https://localhost:8080/"
    },
    "id": "cZUl4RjJK408",
    "outputId": "5a9e548a-2dfc-452c-a66b-e396b7bbf53c"
   },
   "outputs": [
    {
     "data": {
      "text/plain": [
       "array([0., 0., 0., 0., 0., 1.])"
      ]
     },
     "execution_count": 98,
     "metadata": {},
     "output_type": "execute_result"
    }
   ],
   "source": [
    "pesos2"
   ]
  },
  {
   "cell_type": "code",
   "execution_count": 104,
   "metadata": {
    "colab": {
     "base_uri": "https://localhost:8080/"
    },
    "id": "RBSTwW0qK8rf",
    "outputId": "a53ea383-4644-49c4-cdc0-0366317b08db"
   },
   "outputs": [
    {
     "data": {
      "text/plain": [
       "GOL     0.579634\n",
       "CVC     0.368528\n",
       "WEGE    0.116886\n",
       "MGLU    0.449808\n",
       "TOTS    0.148824\n",
       "BOVA    0.064024\n",
       "dtype: float64"
      ]
     },
     "execution_count": 104,
     "metadata": {},
     "output_type": "execute_result"
    }
   ],
   "source": [
    "taxas_retorno.var() * 246"
   ]
  },
  {
   "cell_type": "code",
   "execution_count": 105,
   "metadata": {
    "colab": {
     "base_uri": "https://localhost:8080/"
    },
    "id": "ANESMtW1LcSA",
    "outputId": "1cf5d9ff-b8a7-4c52-b479-8927e1c9c986"
   },
   "outputs": [
    {
     "data": {
      "text/plain": [
       "GOL     0.115927\n",
       "CVC     0.073706\n",
       "WEGE    0.023377\n",
       "MGLU    0.089962\n",
       "TOTS    0.029765\n",
       "BOVA    0.000000\n",
       "dtype: float64"
      ]
     },
     "execution_count": 105,
     "metadata": {},
     "output_type": "execute_result"
    }
   ],
   "source": [
    "variancia_pesos1 = (taxas_retorno.var() * 246) * pesos1\n",
    "variancia_pesos1"
   ]
  },
  {
   "cell_type": "code",
   "execution_count": 106,
   "metadata": {
    "colab": {
     "base_uri": "https://localhost:8080/"
    },
    "id": "nONXZUzyLzfD",
    "outputId": "14b7efa4-323e-4abf-d4c0-f16c65ea3b8a"
   },
   "outputs": [
    {
     "data": {
      "text/plain": [
       "-0.3327360182542241"
      ]
     },
     "execution_count": 106,
     "metadata": {},
     "output_type": "execute_result"
    }
   ],
   "source": [
    "sub1 = - variancia_pesos1[0] - variancia_pesos1[1] - variancia_pesos1[2] - variancia_pesos1[3] - variancia_pesos1[4] - variancia_pesos1[5] #Atualizado: 02/05/2021\n",
    "sub1"
   ]
  },
  {
   "cell_type": "code",
   "execution_count": 107,
   "metadata": {
    "colab": {
     "base_uri": "https://localhost:8080/"
    },
    "id": "34Q_JMRMMIUT",
    "outputId": "2d5af47b-7988-4760-884f-2355c1e42ddd"
   },
   "outputs": [
    {
     "data": {
      "text/plain": [
       "0.15546165839209175"
      ]
     },
     "execution_count": 107,
     "metadata": {},
     "output_type": "execute_result"
    }
   ],
   "source": [
    "variancia_portfolio1"
   ]
  },
  {
   "cell_type": "code",
   "execution_count": 103,
   "metadata": {
    "colab": {
     "base_uri": "https://localhost:8080/"
    },
    "id": "L4q3AgcvMP0h",
    "outputId": "1ea4a3c9-5163-411c-8c0d-a6b2c854859f"
   },
   "outputs": [
    {
     "data": {
      "text/plain": [
       "0.48819767664631586"
      ]
     },
     "execution_count": 103,
     "metadata": {},
     "output_type": "execute_result"
    }
   ],
   "source": [
    "risco_nao_sistematico1 = (variancia_portfolio1 - sub1)\n",
    "risco_nao_sistematico1"
   ]
  },
  {
   "cell_type": "code",
   "execution_count": 108,
   "metadata": {
    "colab": {
     "base_uri": "https://localhost:8080/"
    },
    "id": "Wak9fBVoMqL7",
    "outputId": "b954ddaf-c410-44f5-9007-75a5076f14a9"
   },
   "outputs": [
    {
     "data": {
      "text/plain": [
       "GOL     0.000000\n",
       "CVC     0.000000\n",
       "WEGE    0.000000\n",
       "MGLU    0.000000\n",
       "TOTS    0.000000\n",
       "BOVA    0.064024\n",
       "dtype: float64"
      ]
     },
     "execution_count": 108,
     "metadata": {},
     "output_type": "execute_result"
    }
   ],
   "source": [
    "variancia_pesos2 = (taxas_retorno.var() * 246) * pesos2\n",
    "variancia_pesos2"
   ]
  },
  {
   "cell_type": "code",
   "execution_count": 109,
   "metadata": {
    "colab": {
     "base_uri": "https://localhost:8080/"
    },
    "id": "xWv0vjrAM1Kv",
    "outputId": "aed77908-ca32-444a-bfc8-76a568a1c3f8"
   },
   "outputs": [
    {
     "data": {
      "text/plain": [
       "-0.0640240891893391"
      ]
     },
     "execution_count": 109,
     "metadata": {},
     "output_type": "execute_result"
    }
   ],
   "source": [
    "sub2 = variancia_pesos2[0] - variancia_pesos2[1] - variancia_pesos2[2] - variancia_pesos2[3] - variancia_pesos2[4] - variancia_pesos2[5]\n",
    "sub2"
   ]
  },
  {
   "cell_type": "code",
   "execution_count": 110,
   "metadata": {
    "colab": {
     "base_uri": "https://localhost:8080/"
    },
    "id": "eS3DGJgAM76q",
    "outputId": "1c690654-4681-4455-9a75-e87640a2615b"
   },
   "outputs": [
    {
     "data": {
      "text/plain": [
       "0.06402408918933901"
      ]
     },
     "execution_count": 110,
     "metadata": {},
     "output_type": "execute_result"
    }
   ],
   "source": [
    "variancia_portfolio2"
   ]
  },
  {
   "cell_type": "code",
   "execution_count": 111,
   "metadata": {
    "colab": {
     "base_uri": "https://localhost:8080/"
    },
    "id": "9Aq29L-VNAJ0",
    "outputId": "420e4555-6b96-4497-e2de-09fa254fb6ca"
   },
   "outputs": [
    {
     "data": {
      "text/plain": [
       "0.1280481783786781"
      ]
     },
     "execution_count": 111,
     "metadata": {},
     "output_type": "execute_result"
    }
   ],
   "source": [
    "risco_nao_sistematico2 = (variancia_portfolio2 - sub2)\n",
    "risco_nao_sistematico2"
   ]
  },
  {
   "cell_type": "markdown",
   "metadata": {},
   "source": [
    "Com isso, concluimos que para calcular o risco de uma carteira podemos utilizar os calculos da variancia e volatilidade do portfolio junto com o risco não sistemático."
   ]
  }
 ],
 "metadata": {
  "colab": {
   "collapsed_sections": [
    "xUnpCyZqFERv",
    "RAAWBxf3GMKV",
    "MAEA6W5lqAeu"
   ],
   "provenance": []
  },
  "kernelspec": {
   "display_name": "Python 3 (ipykernel)",
   "language": "python",
   "name": "python3"
  },
  "language_info": {
   "codemirror_mode": {
    "name": "ipython",
    "version": 3
   },
   "file_extension": ".py",
   "mimetype": "text/x-python",
   "name": "python",
   "nbconvert_exporter": "python",
   "pygments_lexer": "ipython3",
   "version": "3.8.10"
  }
 },
 "nbformat": 4,
 "nbformat_minor": 4
}
