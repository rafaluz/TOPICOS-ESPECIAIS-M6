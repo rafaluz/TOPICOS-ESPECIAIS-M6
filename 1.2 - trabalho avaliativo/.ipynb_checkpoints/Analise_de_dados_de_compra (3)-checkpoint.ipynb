{
 "cells": [
  {
   "cell_type": "markdown",
   "metadata": {},
   "source": [
    "## Tarefa: Analisar o Comportamento de Compra de Consumidores."
   ]
  },
  {
   "cell_type": "markdown",
   "metadata": {},
   "source": [
    "Você recebeu a tarefa de analisar os dados de compras de um web site! Os dados estão no formato JSON.\n",
    "\n",
    "No site, cada usuário efetua login usando sua conta pessoal e pode adquirir produtos à medida que navega pela lista de produtos oferecidos. Cada produto possui um valor de venda. Dados de idade e sexo de cada usuário foram coletados e estão fornecidos no arquivo JSON.\n",
    "\n",
    "Seu trabalho é entregar uma análise de comportamento de compra dos consumidores. Esse é um tipo de atividade comum realizado por Cientistas de Dados e o resultado deste trabalho pode ser usado, por exemplo, para alimentar um modelo de Machine Learning e fazer previsões sobre comportamentos futuros.\n",
    "\n",
    "Mas nesta missão você vai analisar o comportamento de compra dos consumidores na linguagem Python e seu relatório final deve incluir cada um dos seguintes itens:\n",
    "\n",
    "** Contagem de Compradores **\n",
    "\n",
    "* Número total de compradores\n",
    "\n",
    "\n",
    "** Análise Geral de Compras **\n",
    "\n",
    "* Número de itens exclusivos\n",
    "* Preço médio de compra\n",
    "* Número total de compras\n",
    "* Rendimento total\n",
    "\n",
    "\n",
    "** Informações Demográficas Por Gênero **\n",
    "\n",
    "* Porcentagem e contagem de compradores masculinos\n",
    "* Porcentagem e contagem de compradores do sexo feminino\n",
    "* Porcentagem e contagem de outros / não divulgados\n",
    "\n",
    "\n",
    "** Análise de Compras Por Gênero **\n",
    "\n",
    "* Número de compras\n",
    "* Preço médio de compra\n",
    "* Valor Total de Compra\n",
    "* Compras for faixa etária\n",
    "\n",
    "\n",
    "** Identifique os 5 principais compradores pelo valor total de compra e, em seguida, liste: **\n",
    "\n",
    "* Login\n",
    "* Número de compras\n",
    "* Preço médio de compra\n",
    "* Valor Total de Compra\n",
    "* Itens mais populares\n",
    "\n",
    "\n",
    "** Identifique os 5 itens mais populares por contagem de compras e, em seguida, liste: **\n",
    "\n",
    "* ID do item\n",
    "* Nome do item\n",
    "* Número de compras\n",
    "* Preço do item\n",
    "* Valor Total de Compra\n",
    "\n",
    "\n",
    "** Identifique os 5 itens mais lucrativos pelo valor total de compra e, em seguida, liste: **\n",
    "\n",
    "* ID do item\n",
    "* Nome do item\n",
    "* Número de compras\n",
    "* Preço do item\n",
    "* Valor Total de Compra\n",
    "\n",
    "\n",
    "** Como considerações finais: **\n",
    "\n",
    "* Seu script deve funcionar para o conjunto de dados fornecido.\n",
    "* Eu sugiro o uso dos pacotes numpy e pandas, porém serão aceitos quaisquer outros pacotes utilizados.\n",
    "* A biblioteca pandas possui funções implementadas que permitem a realização de quase todas as tarefas desse exercício sem necessidade de utilizar comandos de repetição (for ou while). Portanto procurem as funções desse pacote que melhor auxiliem na resolução dessa atividade.  \n"
   ]
  },
  {
   "cell_type": "markdown",
   "metadata": {},
   "source": [
    "## Informações Sobre os Consumidores"
   ]
  },
  {
   "cell_type": "code",
   "execution_count": 246,
   "metadata": {
    "collapsed": true
   },
   "outputs": [],
   "source": [
    "# Imports\n",
    "import pandas as pd\n",
    "import numpy as np\n"
   ]
  },
  {
   "cell_type": "code",
   "execution_count": 212,
   "metadata": {},
   "outputs": [
    {
     "data": {
      "text/html": [
       "<div>\n",
       "<table border=\"1\" class=\"dataframe\">\n",
       "  <thead>\n",
       "    <tr style=\"text-align: right;\">\n",
       "      <th></th>\n",
       "      <th>Idade</th>\n",
       "      <th>Item ID</th>\n",
       "      <th>Login</th>\n",
       "      <th>Nome do Item</th>\n",
       "      <th>Sexo</th>\n",
       "      <th>Valor</th>\n",
       "    </tr>\n",
       "  </thead>\n",
       "  <tbody>\n",
       "    <tr>\n",
       "      <th>0</th>\n",
       "      <td>38</td>\n",
       "      <td>165</td>\n",
       "      <td>Aelalis34</td>\n",
       "      <td>Bone Crushing Silver Skewer</td>\n",
       "      <td>Masculino</td>\n",
       "      <td>3.37</td>\n",
       "    </tr>\n",
       "    <tr>\n",
       "      <th>1</th>\n",
       "      <td>21</td>\n",
       "      <td>119</td>\n",
       "      <td>Eolo46</td>\n",
       "      <td>Stormbringer, Dark Blade of Ending Misery</td>\n",
       "      <td>Masculino</td>\n",
       "      <td>2.32</td>\n",
       "    </tr>\n",
       "    <tr>\n",
       "      <th>2</th>\n",
       "      <td>34</td>\n",
       "      <td>174</td>\n",
       "      <td>Assastnya25</td>\n",
       "      <td>Primitive Blade</td>\n",
       "      <td>Masculino</td>\n",
       "      <td>2.46</td>\n",
       "    </tr>\n",
       "    <tr>\n",
       "      <th>3</th>\n",
       "      <td>21</td>\n",
       "      <td>92</td>\n",
       "      <td>Pheusrical25</td>\n",
       "      <td>Final Critic</td>\n",
       "      <td>Masculino</td>\n",
       "      <td>1.36</td>\n",
       "    </tr>\n",
       "    <tr>\n",
       "      <th>4</th>\n",
       "      <td>23</td>\n",
       "      <td>63</td>\n",
       "      <td>Aela59</td>\n",
       "      <td>Stormfury Mace</td>\n",
       "      <td>Masculino</td>\n",
       "      <td>1.27</td>\n",
       "    </tr>\n",
       "  </tbody>\n",
       "</table>\n",
       "</div>"
      ],
      "text/plain": [
       "   Idade  Item ID         Login                               Nome do Item  \\\n",
       "0     38      165     Aelalis34                Bone Crushing Silver Skewer   \n",
       "1     21      119        Eolo46  Stormbringer, Dark Blade of Ending Misery   \n",
       "2     34      174   Assastnya25                            Primitive Blade   \n",
       "3     21       92  Pheusrical25                               Final Critic   \n",
       "4     23       63        Aela59                             Stormfury Mace   \n",
       "\n",
       "        Sexo  Valor  \n",
       "0  Masculino   3.37  \n",
       "1  Masculino   2.32  \n",
       "2  Masculino   2.46  \n",
       "3  Masculino   1.36  \n",
       "4  Masculino   1.27  "
      ]
     },
     "execution_count": 212,
     "metadata": {},
     "output_type": "execute_result"
    }
   ],
   "source": [
    "# Endereco do arquivo\n",
    "endereco = 'dados_compras.json'\n",
    "\n",
    "dados_compras = pd.read_json(endereco, orient = \"values\")\n",
    "dados_compras.head()#Para ver toda a tabela de valores basta remover o head()"
   ]
  },
  {
   "cell_type": "code",
   "execution_count": 213,
   "metadata": {},
   "outputs": [
    {
     "data": {
      "text/plain": [
       "u'Aelalis34'"
      ]
     },
     "execution_count": 213,
     "metadata": {},
     "output_type": "execute_result"
    }
   ],
   "source": [
    "#Para acessar as posições da variavel\n",
    "dados_compras['Login'][0]"
   ]
  },
  {
   "cell_type": "markdown",
   "metadata": {},
   "source": [
    "## Análise Geral de Compras"
   ]
  },
  {
   "cell_type": "code",
   "execution_count": 214,
   "metadata": {
    "collapsed": true
   },
   "outputs": [],
   "source": [
    "#Total Exclusivos "
   ]
  },
  {
   "cell_type": "code",
   "execution_count": 215,
   "metadata": {},
   "outputs": [
    {
     "data": {
      "text/plain": [
       "84     11\n",
       "39     11\n",
       "31      9\n",
       "34      9\n",
       "175     9\n",
       "13      9\n",
       "106     8\n",
       "44      8\n",
       "92      8\n",
       "65      8\n",
       "152     8\n",
       "107     8\n",
       "172     7\n",
       "179     7\n",
       "115     7\n",
       "154     7\n",
       "79      7\n",
       "158     7\n",
       "108     7\n",
       "66      7\n",
       "11      7\n",
       "130     7\n",
       "18      7\n",
       "124     6\n",
       "103     6\n",
       "101     6\n",
       "121     6\n",
       "102     6\n",
       "73      6\n",
       "145     6\n",
       "       ..\n",
       "116     2\n",
       "89      2\n",
       "64      2\n",
       "9       2\n",
       "167     2\n",
       "80      2\n",
       "74      2\n",
       "72      2\n",
       "146     2\n",
       "149     2\n",
       "150     2\n",
       "178     2\n",
       "62      2\n",
       "58      2\n",
       "56      2\n",
       "55      2\n",
       "4       1\n",
       "2       1\n",
       "3       1\n",
       "59      1\n",
       "28      1\n",
       "168     1\n",
       "164     1\n",
       "43      1\n",
       "156     1\n",
       "147     1\n",
       "136     1\n",
       "126     1\n",
       "109     1\n",
       "0       1\n",
       "Name: Item ID, dtype: int64"
      ]
     },
     "execution_count": 215,
     "metadata": {},
     "output_type": "execute_result"
    }
   ],
   "source": [
    "dados_compras['Item ID'].value_counts()"
   ]
  },
  {
   "cell_type": "code",
   "execution_count": 216,
   "metadata": {},
   "outputs": [],
   "source": [
    "total_exclusivos = pd.DataFrame(dados_compras['Item ID'].unique())"
   ]
  },
  {
   "cell_type": "code",
   "execution_count": 217,
   "metadata": {},
   "outputs": [
    {
     "data": {
      "text/plain": [
       "183"
      ]
     },
     "execution_count": 217,
     "metadata": {},
     "output_type": "execute_result"
    }
   ],
   "source": [
    "len(total_exclusivos )"
   ]
  },
  {
   "cell_type": "code",
   "execution_count": 218,
   "metadata": {},
   "outputs": [],
   "source": [
    "#Preço Medio de Compra "
   ]
  },
  {
   "cell_type": "code",
   "execution_count": 219,
   "metadata": {},
   "outputs": [],
   "source": [
    "total_vendas= dados_compras['Valor'].count()"
   ]
  },
  {
   "cell_type": "code",
   "execution_count": 220,
   "metadata": {},
   "outputs": [],
   "source": [
    "total_tabela = round(dados_compras['Valor'].sum(),2)"
   ]
  },
  {
   "cell_type": "code",
   "execution_count": 221,
   "metadata": {},
   "outputs": [],
   "source": [
    "Preco_Medio = round(total_tabela/total_vendas, 2)"
   ]
  },
  {
   "cell_type": "code",
   "execution_count": 222,
   "metadata": {},
   "outputs": [
    {
     "name": "stdout",
     "output_type": "stream",
     "text": [
      "2.93\n"
     ]
    }
   ],
   "source": [
    "print(Preco_Medio)"
   ]
  },
  {
   "cell_type": "code",
   "execution_count": 223,
   "metadata": {
    "collapsed": true
   },
   "outputs": [],
   "source": [
    "#Numero Total de Compras "
   ]
  },
  {
   "cell_type": "code",
   "execution_count": 224,
   "metadata": {},
   "outputs": [
    {
     "name": "stdout",
     "output_type": "stream",
     "text": [
      "780\n"
     ]
    }
   ],
   "source": [
    "print(total_vendas)"
   ]
  },
  {
   "cell_type": "code",
   "execution_count": 225,
   "metadata": {},
   "outputs": [
    {
     "name": "stdout",
     "output_type": "stream",
     "text": [
      "2286.33\n"
     ]
    }
   ],
   "source": [
    "#Rendimento Total\n",
    "print(total_tabela)"
   ]
  },
  {
   "cell_type": "code",
   "execution_count": 226,
   "metadata": {
    "collapsed": true
   },
   "outputs": [],
   "source": [
    "# Implemente aqui sua solução"
   ]
  },
  {
   "cell_type": "markdown",
   "metadata": {},
   "source": [
    "## Análise Demográfica"
   ]
  },
  {
   "cell_type": "markdown",
   "metadata": {},
   "source": [
    "## Informações Demográficas Por Gênero"
   ]
  },
  {
   "cell_type": "code",
   "execution_count": 578,
   "metadata": {
    "collapsed": true
   },
   "outputs": [],
   "source": [
    "duplicados_pessoas = dados_compras.drop_duplicates(['Login'], keep ='last')"
   ]
  },
  {
   "cell_type": "code",
   "execution_count": 579,
   "metadata": {},
   "outputs": [],
   "source": [
    "login_contador = len(dados_compras['Login'].unique())"
   ]
  },
  {
   "cell_type": "code",
   "execution_count": 580,
   "metadata": {},
   "outputs": [],
   "source": [
    "contar_generos = duplicados_pessoas['Sexo'].value_counts().reset_index()"
   ]
  },
  {
   "cell_type": "code",
   "execution_count": 581,
   "metadata": {},
   "outputs": [],
   "source": [
    "contar_generos['% De Generos'] = contar_generos['Sexo']/login_contador* 100"
   ]
  },
  {
   "cell_type": "code",
   "execution_count": 582,
   "metadata": {
    "collapsed": true
   },
   "outputs": [],
   "source": [
    "contar_generos.rename(columns = {'index': 'Sexo', 'Sexo': 'Quantidade de Pessoas '}, inplace = True)"
   ]
  },
  {
   "cell_type": "code",
   "execution_count": 583,
   "metadata": {},
   "outputs": [],
   "source": [
    "contar_generos.set_index(['Sexo'], inplace = True)"
   ]
  },
  {
   "cell_type": "code",
   "execution_count": 584,
   "metadata": {},
   "outputs": [
    {
     "data": {
      "text/html": [
       "\n",
       "        <style  type=\"text/css\" >\n",
       "        \n",
       "        \n",
       "        </style>\n",
       "\n",
       "        <table id=\"T_cb6b7470_b4fe_11e8_8580_18fb7bffa25d\" None>\n",
       "        \n",
       "\n",
       "        <thead>\n",
       "            \n",
       "            <tr>\n",
       "                \n",
       "                <th class=\"blank\">\n",
       "                \n",
       "                <th class=\"col_heading level0 col0\">Quantidade de Pessoas \n",
       "                \n",
       "                <th class=\"col_heading level0 col1\">% De Generos\n",
       "                \n",
       "            </tr>\n",
       "            \n",
       "            <tr>\n",
       "                \n",
       "                <th class=\"col_heading level2 col0\">Sexo\n",
       "                \n",
       "                <th class=\"blank\">\n",
       "                \n",
       "                <th class=\"blank\">\n",
       "                \n",
       "            </tr>\n",
       "            \n",
       "        </thead>\n",
       "        <tbody>\n",
       "            \n",
       "            <tr>\n",
       "                \n",
       "                <th id=\"T_cb6b7470_b4fe_11e8_8580_18fb7bffa25d\" class=\"row_heading level0 row0\">\n",
       "                    Masculino\n",
       "                \n",
       "                <td id=\"T_cb6b7470_b4fe_11e8_8580_18fb7bffa25drow0_col0\" class=\"data row0 col0\">\n",
       "                    465\n",
       "                \n",
       "                <td id=\"T_cb6b7470_b4fe_11e8_8580_18fb7bffa25drow0_col1\" class=\"data row0 col1\">\n",
       "                    81.1518\n",
       "                \n",
       "            </tr>\n",
       "            \n",
       "            <tr>\n",
       "                \n",
       "                <th id=\"T_cb6b7470_b4fe_11e8_8580_18fb7bffa25d\" class=\"row_heading level1 row1\">\n",
       "                    Feminino\n",
       "                \n",
       "                <td id=\"T_cb6b7470_b4fe_11e8_8580_18fb7bffa25drow1_col0\" class=\"data row1 col0\">\n",
       "                    100\n",
       "                \n",
       "                <td id=\"T_cb6b7470_b4fe_11e8_8580_18fb7bffa25drow1_col1\" class=\"data row1 col1\">\n",
       "                    17.452\n",
       "                \n",
       "            </tr>\n",
       "            \n",
       "            <tr>\n",
       "                \n",
       "                <th id=\"T_cb6b7470_b4fe_11e8_8580_18fb7bffa25d\" class=\"row_heading level1 row2\">\n",
       "                    Outro / Não Divulgado\n",
       "                \n",
       "                <td id=\"T_cb6b7470_b4fe_11e8_8580_18fb7bffa25drow2_col0\" class=\"data row2 col0\">\n",
       "                    8\n",
       "                \n",
       "                <td id=\"T_cb6b7470_b4fe_11e8_8580_18fb7bffa25drow2_col1\" class=\"data row2 col1\">\n",
       "                    1.39616\n",
       "                \n",
       "            </tr>\n",
       "            \n",
       "        </tbody>\n",
       "        </table>\n",
       "        "
      ],
      "text/plain": [
       "<pandas.core.style.Styler at 0x99ad9e8>"
      ]
     },
     "execution_count": 584,
     "metadata": {},
     "output_type": "execute_result"
    }
   ],
   "source": [
    "contar_generos.style.format({\"% Logins\": \"{:.1f}%\"})"
   ]
  },
  {
   "cell_type": "code",
   "execution_count": 585,
   "metadata": {
    "collapsed": true
   },
   "outputs": [],
   "source": [
    "# Implemente aqui sua solução"
   ]
  },
  {
   "cell_type": "code",
   "execution_count": null,
   "metadata": {},
   "outputs": [],
   "source": []
  },
  {
   "cell_type": "code",
   "execution_count": 586,
   "metadata": {
    "collapsed": true
   },
   "outputs": [],
   "source": [
    "# Implemente aqui sua solução"
   ]
  },
  {
   "cell_type": "markdown",
   "metadata": {},
   "source": [
    "## Análise de Compras Por Gênero"
   ]
  },
  {
   "cell_type": "code",
   "execution_count": 587,
   "metadata": {
    "collapsed": true
   },
   "outputs": [],
   "source": [
    "# Implemente aqui sua solução"
   ]
  },
  {
   "cell_type": "code",
   "execution_count": 588,
   "metadata": {
    "collapsed": true
   },
   "outputs": [],
   "source": [
    "contar_compra_genero = pd.DataFrame(dados_compras.groupby('Sexo')['Sexo'].count())"
   ]
  },
  {
   "cell_type": "code",
   "execution_count": 589,
   "metadata": {
    "collapsed": true
   },
   "outputs": [],
   "source": [
    "total_compra_genero = pd.DataFrame(dados_compras.groupby('Sexo')['Valor'].sum())"
   ]
  },
  {
   "cell_type": "code",
   "execution_count": 590,
   "metadata": {
    "collapsed": true
   },
   "outputs": [],
   "source": [
    "analise_por_Genero = pd.merge(contar_compra_genero, total_compra_genero, left_index = True, right_index = True)"
   ]
  },
  {
   "cell_type": "code",
   "execution_count": 591,
   "metadata": {
    "collapsed": true
   },
   "outputs": [],
   "source": [
    "analise_por_Genero.rename(columns = {'Sexo': 'QTD de Compras', 'Valor':'Valor Total de Compra'}, inplace=True)"
   ]
  },
  {
   "cell_type": "code",
   "execution_count": 592,
   "metadata": {
    "collapsed": true
   },
   "outputs": [],
   "source": [
    "analise_por_Genero['Preco medio de compra'] = analise_por_Genero['Valor Total de Compra']/analise_por_Genero['QTD de Compras']"
   ]
  },
  {
   "cell_type": "code",
   "execution_count": 593,
   "metadata": {},
   "outputs": [],
   "source": [
    "analise_por_Genero = analise_por_Genero.merge(contar_generos, left_index = True, right_index = True)"
   ]
  },
  {
   "cell_type": "code",
   "execution_count": null,
   "metadata": {},
   "outputs": [],
   "source": []
  },
  {
   "cell_type": "code",
   "execution_count": 594,
   "metadata": {},
   "outputs": [
    {
     "data": {
      "text/html": [
       "<div>\n",
       "<table border=\"1\" class=\"dataframe\">\n",
       "  <thead>\n",
       "    <tr style=\"text-align: right;\">\n",
       "      <th></th>\n",
       "      <th>QTD de Compras</th>\n",
       "      <th>Valor Total de Compra</th>\n",
       "      <th>Preco medio de compra</th>\n",
       "      <th>Quantidade de Pessoas</th>\n",
       "      <th>% De Generos</th>\n",
       "    </tr>\n",
       "    <tr>\n",
       "      <th>Sexo</th>\n",
       "      <th></th>\n",
       "      <th></th>\n",
       "      <th></th>\n",
       "      <th></th>\n",
       "      <th></th>\n",
       "    </tr>\n",
       "  </thead>\n",
       "  <tbody>\n",
       "    <tr>\n",
       "      <th>Masculino</th>\n",
       "      <td>633</td>\n",
       "      <td>1867.68</td>\n",
       "      <td>2.950521</td>\n",
       "      <td>465</td>\n",
       "      <td>81.151832</td>\n",
       "    </tr>\n",
       "    <tr>\n",
       "      <th>Feminino</th>\n",
       "      <td>136</td>\n",
       "      <td>382.91</td>\n",
       "      <td>2.815515</td>\n",
       "      <td>100</td>\n",
       "      <td>17.452007</td>\n",
       "    </tr>\n",
       "    <tr>\n",
       "      <th>Outro / Não Divulgado</th>\n",
       "      <td>11</td>\n",
       "      <td>35.74</td>\n",
       "      <td>3.249091</td>\n",
       "      <td>8</td>\n",
       "      <td>1.396161</td>\n",
       "    </tr>\n",
       "  </tbody>\n",
       "</table>\n",
       "</div>"
      ],
      "text/plain": [
       "                       QTD de Compras  Valor Total de Compra  \\\n",
       "Sexo                                                           \n",
       "Masculino                         633                1867.68   \n",
       "Feminino                          136                 382.91   \n",
       "Outro / Não Divulgado              11                  35.74   \n",
       "\n",
       "                       Preco medio de compra  Quantidade de Pessoas   \\\n",
       "Sexo                                                                   \n",
       "Masculino                           2.950521                     465   \n",
       "Feminino                            2.815515                     100   \n",
       "Outro / Não Divulgado               3.249091                       8   \n",
       "\n",
       "                       % De Generos  \n",
       "Sexo                                 \n",
       "Masculino                 81.151832  \n",
       "Feminino                  17.452007  \n",
       "Outro / Não Divulgado      1.396161  "
      ]
     },
     "execution_count": 594,
     "metadata": {},
     "output_type": "execute_result"
    }
   ],
   "source": [
    "analise_por_Genero"
   ]
  },
  {
   "cell_type": "code",
   "execution_count": 595,
   "metadata": {
    "collapsed": true
   },
   "outputs": [],
   "source": [
    "del analise_por_Genero['% De Generos']"
   ]
  },
  {
   "cell_type": "code",
   "execution_count": 596,
   "metadata": {
    "collapsed": true
   },
   "outputs": [],
   "source": [
    "del analise_por_Genero['QTD de Compras']"
   ]
  },
  {
   "cell_type": "code",
   "execution_count": 597,
   "metadata": {},
   "outputs": [
    {
     "data": {
      "text/html": [
       "\n",
       "        <style  type=\"text/css\" >\n",
       "        \n",
       "        \n",
       "        </style>\n",
       "\n",
       "        <table id=\"T_da3ec600_b4fe_11e8_bbc0_18fb7bffa25d\" None>\n",
       "        \n",
       "\n",
       "        <thead>\n",
       "            \n",
       "            <tr>\n",
       "                \n",
       "                <th class=\"blank\">\n",
       "                \n",
       "                <th class=\"col_heading level0 col0\">Valor Total de Compra\n",
       "                \n",
       "                <th class=\"col_heading level0 col1\">Preco medio de compra\n",
       "                \n",
       "                <th class=\"col_heading level0 col2\">Quantidade de Pessoas \n",
       "                \n",
       "            </tr>\n",
       "            \n",
       "            <tr>\n",
       "                \n",
       "                <th class=\"col_heading level2 col0\">Sexo\n",
       "                \n",
       "                <th class=\"blank\">\n",
       "                \n",
       "                <th class=\"blank\">\n",
       "                \n",
       "                <th class=\"blank\">\n",
       "                \n",
       "            </tr>\n",
       "            \n",
       "        </thead>\n",
       "        <tbody>\n",
       "            \n",
       "            <tr>\n",
       "                \n",
       "                <th id=\"T_da3ec600_b4fe_11e8_bbc0_18fb7bffa25d\" class=\"row_heading level0 row0\">\n",
       "                    Masculino\n",
       "                \n",
       "                <td id=\"T_da3ec600_b4fe_11e8_bbc0_18fb7bffa25drow0_col0\" class=\"data row0 col0\">\n",
       "                    1867.68\n",
       "                \n",
       "                <td id=\"T_da3ec600_b4fe_11e8_bbc0_18fb7bffa25drow0_col1\" class=\"data row0 col1\">\n",
       "                    $2.95\n",
       "                \n",
       "                <td id=\"T_da3ec600_b4fe_11e8_bbc0_18fb7bffa25drow0_col2\" class=\"data row0 col2\">\n",
       "                    465\n",
       "                \n",
       "            </tr>\n",
       "            \n",
       "            <tr>\n",
       "                \n",
       "                <th id=\"T_da3ec600_b4fe_11e8_bbc0_18fb7bffa25d\" class=\"row_heading level2 row1\">\n",
       "                    Feminino\n",
       "                \n",
       "                <td id=\"T_da3ec600_b4fe_11e8_bbc0_18fb7bffa25drow1_col0\" class=\"data row1 col0\">\n",
       "                    382.91\n",
       "                \n",
       "                <td id=\"T_da3ec600_b4fe_11e8_bbc0_18fb7bffa25drow1_col1\" class=\"data row1 col1\">\n",
       "                    $2.82\n",
       "                \n",
       "                <td id=\"T_da3ec600_b4fe_11e8_bbc0_18fb7bffa25drow1_col2\" class=\"data row1 col2\">\n",
       "                    100\n",
       "                \n",
       "            </tr>\n",
       "            \n",
       "            <tr>\n",
       "                \n",
       "                <th id=\"T_da3ec600_b4fe_11e8_bbc0_18fb7bffa25d\" class=\"row_heading level2 row2\">\n",
       "                    Outro / Não Divulgado\n",
       "                \n",
       "                <td id=\"T_da3ec600_b4fe_11e8_bbc0_18fb7bffa25drow2_col0\" class=\"data row2 col0\">\n",
       "                    35.74\n",
       "                \n",
       "                <td id=\"T_da3ec600_b4fe_11e8_bbc0_18fb7bffa25drow2_col1\" class=\"data row2 col1\">\n",
       "                    $3.25\n",
       "                \n",
       "                <td id=\"T_da3ec600_b4fe_11e8_bbc0_18fb7bffa25drow2_col2\" class=\"data row2 col2\">\n",
       "                    8\n",
       "                \n",
       "            </tr>\n",
       "            \n",
       "        </tbody>\n",
       "        </table>\n",
       "        "
      ],
      "text/plain": [
       "<pandas.core.style.Styler at 0x99adfd0>"
      ]
     },
     "execution_count": 597,
     "metadata": {},
     "output_type": "execute_result"
    }
   ],
   "source": [
    "analise_por_Genero.style.format({'Valor Total de Compra ': '${:.2f}', 'Preco medio de compra': '${:.2f}', 'Totais normalizados': '${:.2f}'})"
   ]
  },
  {
   "cell_type": "code",
   "execution_count": null,
   "metadata": {
    "collapsed": true
   },
   "outputs": [],
   "source": []
  },
  {
   "cell_type": "code",
   "execution_count": 598,
   "metadata": {
    "collapsed": true
   },
   "outputs": [],
   "source": [
    "#FAIXA ETARIA "
   ]
  },
  {
   "cell_type": "code",
   "execution_count": 599,
   "metadata": {},
   "outputs": [],
   "source": [
    "\n",
    "dados_compras.loc[(dados_compras['Idade'] < 10), 'Idade_bin'] = \"< 10\"\n",
    "dados_compras.loc[(dados_compras['Idade'] >= 10) & (dados_compras['Idade'] <= 14), 'Idade_bin'] = \"10 - 14\"\n",
    "dados_compras.loc[(dados_compras['Idade'] >= 15) & (dados_compras['Idade'] <= 19), 'Idade_bin'] = \"15 - 19\"\n",
    "dados_compras.loc[(dados_compras['Idade'] >= 20) & (dados_compras['Idade'] <= 24), 'Idade_bin'] = \"20 - 24\"\n",
    "dados_compras.loc[(dados_compras['Idade'] >= 25) & (dados_compras['Idade'] <= 29), 'Idade_bin'] = \"25 - 29\"\n",
    "dados_compras.loc[(dados_compras['Idade'] >= 30) & (dados_compras['Idade'] <= 34), 'Idade_bin'] = \"30 - 34\"\n",
    "dados_compras.loc[(dados_compras['Idade'] >= 35) & (dados_compras['Idade'] <= 39), 'Idade_bin'] = \"35 - 39\"\n",
    "dados_compras.loc[(dados_compras['Idade'] >= 40), 'Idade_bin'] = \">= 40\"\n"
   ]
  },
  {
   "cell_type": "code",
   "execution_count": null,
   "metadata": {},
   "outputs": [],
   "source": []
  },
  {
   "cell_type": "code",
   "execution_count": 600,
   "metadata": {},
   "outputs": [],
   "source": [
    "contar_idade = pd.DataFrame(dados_compras.groupby('Idade_bin')['Login'].count())"
   ]
  },
  {
   "cell_type": "code",
   "execution_count": 601,
   "metadata": {
    "collapsed": true
   },
   "outputs": [],
   "source": [
    "media_Preco_idade = pd.DataFrame(dados_compras.groupby('Idade_bin')['Valor'].mean())"
   ]
  },
  {
   "cell_type": "code",
   "execution_count": 602,
   "metadata": {
    "collapsed": true
   },
   "outputs": [],
   "source": [
    "Total_idade = pd.DataFrame(dados_compras.groupby('Idade_bin')['Valor'].sum())"
   ]
  },
  {
   "cell_type": "code",
   "execution_count": 603,
   "metadata": {
    "collapsed": true
   },
   "outputs": [],
   "source": [
    "delete_multi_idade = pd.DataFrame(dados_compras.drop_duplicates('Login', keep = 'last').groupby('Idade_bin')['Login'].count())"
   ]
  },
  {
   "cell_type": "code",
   "execution_count": 604,
   "metadata": {},
   "outputs": [],
   "source": [
    "mesclar_idade = pd.merge(contar_idade , media_Preco_idade, left_index = True, right_index = True).merge(Total_idade, \n",
    "left_index = True, right_index = True).merge(delete_multi_idade, left_index = True, right_index = True)\n"
   ]
  },
  {
   "cell_type": "code",
   "execution_count": 605,
   "metadata": {
    "collapsed": true
   },
   "outputs": [],
   "source": [
    "mesclar_idade.rename(columns = {\"Login_x\": \"QTD de Compras\", \"Valor_x\": \"Preco medio de compra\", \"Valor_y\": \"Valor Total de Compra\", \"Sexo_y\":\n",
    "    \"QTD de Compras\"}, inplace = True)\n"
   ]
  },
  {
   "cell_type": "code",
   "execution_count": null,
   "metadata": {},
   "outputs": [],
   "source": []
  },
  {
   "cell_type": "code",
   "execution_count": 606,
   "metadata": {
    "collapsed": true
   },
   "outputs": [],
   "source": [
    "mesclar_idade.index.rename(\"Idade\", inplace = True)"
   ]
  },
  {
   "cell_type": "code",
   "execution_count": 607,
   "metadata": {},
   "outputs": [
    {
     "data": {
      "text/html": [
       "\n",
       "        <style  type=\"text/css\" >\n",
       "        \n",
       "        \n",
       "        </style>\n",
       "\n",
       "        <table id=\"T_dea7021e_b4fe_11e8_9e71_18fb7bffa25d\" None>\n",
       "        \n",
       "\n",
       "        <thead>\n",
       "            \n",
       "            <tr>\n",
       "                \n",
       "                <th class=\"blank\">\n",
       "                \n",
       "                <th class=\"col_heading level0 col0\">QTD de Compras\n",
       "                \n",
       "                <th class=\"col_heading level0 col1\">Preco medio de compra\n",
       "                \n",
       "                <th class=\"col_heading level0 col2\">Valor Total de Compra\n",
       "                \n",
       "                <th class=\"col_heading level0 col3\">Login_y\n",
       "                \n",
       "            </tr>\n",
       "            \n",
       "            <tr>\n",
       "                \n",
       "                <th class=\"col_heading level2 col0\">Idade\n",
       "                \n",
       "                <th class=\"blank\">\n",
       "                \n",
       "                <th class=\"blank\">\n",
       "                \n",
       "                <th class=\"blank\">\n",
       "                \n",
       "                <th class=\"blank\">\n",
       "                \n",
       "            </tr>\n",
       "            \n",
       "        </thead>\n",
       "        <tbody>\n",
       "            \n",
       "            <tr>\n",
       "                \n",
       "                <th id=\"T_dea7021e_b4fe_11e8_9e71_18fb7bffa25d\" class=\"row_heading level0 row0\">\n",
       "                    10 - 14\n",
       "                \n",
       "                <td id=\"T_dea7021e_b4fe_11e8_9e71_18fb7bffa25drow0_col0\" class=\"data row0 col0\">\n",
       "                    35\n",
       "                \n",
       "                <td id=\"T_dea7021e_b4fe_11e8_9e71_18fb7bffa25drow0_col1\" class=\"data row0 col1\">\n",
       "                    2.77\n",
       "                \n",
       "                <td id=\"T_dea7021e_b4fe_11e8_9e71_18fb7bffa25drow0_col2\" class=\"data row0 col2\">\n",
       "                    $96.95\n",
       "                \n",
       "                <td id=\"T_dea7021e_b4fe_11e8_9e71_18fb7bffa25drow0_col3\" class=\"data row0 col3\">\n",
       "                    23\n",
       "                \n",
       "            </tr>\n",
       "            \n",
       "            <tr>\n",
       "                \n",
       "                <th id=\"T_dea7021e_b4fe_11e8_9e71_18fb7bffa25d\" class=\"row_heading level3 row1\">\n",
       "                    15 - 19\n",
       "                \n",
       "                <td id=\"T_dea7021e_b4fe_11e8_9e71_18fb7bffa25drow1_col0\" class=\"data row1 col0\">\n",
       "                    133\n",
       "                \n",
       "                <td id=\"T_dea7021e_b4fe_11e8_9e71_18fb7bffa25drow1_col1\" class=\"data row1 col1\">\n",
       "                    2.90541\n",
       "                \n",
       "                <td id=\"T_dea7021e_b4fe_11e8_9e71_18fb7bffa25drow1_col2\" class=\"data row1 col2\">\n",
       "                    $386.42\n",
       "                \n",
       "                <td id=\"T_dea7021e_b4fe_11e8_9e71_18fb7bffa25drow1_col3\" class=\"data row1 col3\">\n",
       "                    100\n",
       "                \n",
       "            </tr>\n",
       "            \n",
       "            <tr>\n",
       "                \n",
       "                <th id=\"T_dea7021e_b4fe_11e8_9e71_18fb7bffa25d\" class=\"row_heading level3 row2\">\n",
       "                    20 - 24\n",
       "                \n",
       "                <td id=\"T_dea7021e_b4fe_11e8_9e71_18fb7bffa25drow2_col0\" class=\"data row2 col0\">\n",
       "                    336\n",
       "                \n",
       "                <td id=\"T_dea7021e_b4fe_11e8_9e71_18fb7bffa25drow2_col1\" class=\"data row2 col1\">\n",
       "                    2.91301\n",
       "                \n",
       "                <td id=\"T_dea7021e_b4fe_11e8_9e71_18fb7bffa25drow2_col2\" class=\"data row2 col2\">\n",
       "                    $978.77\n",
       "                \n",
       "                <td id=\"T_dea7021e_b4fe_11e8_9e71_18fb7bffa25drow2_col3\" class=\"data row2 col3\">\n",
       "                    259\n",
       "                \n",
       "            </tr>\n",
       "            \n",
       "            <tr>\n",
       "                \n",
       "                <th id=\"T_dea7021e_b4fe_11e8_9e71_18fb7bffa25d\" class=\"row_heading level3 row3\">\n",
       "                    25 - 29\n",
       "                \n",
       "                <td id=\"T_dea7021e_b4fe_11e8_9e71_18fb7bffa25drow3_col0\" class=\"data row3 col0\">\n",
       "                    125\n",
       "                \n",
       "                <td id=\"T_dea7021e_b4fe_11e8_9e71_18fb7bffa25drow3_col1\" class=\"data row3 col1\">\n",
       "                    2.96264\n",
       "                \n",
       "                <td id=\"T_dea7021e_b4fe_11e8_9e71_18fb7bffa25drow3_col2\" class=\"data row3 col2\">\n",
       "                    $370.33\n",
       "                \n",
       "                <td id=\"T_dea7021e_b4fe_11e8_9e71_18fb7bffa25drow3_col3\" class=\"data row3 col3\">\n",
       "                    87\n",
       "                \n",
       "            </tr>\n",
       "            \n",
       "            <tr>\n",
       "                \n",
       "                <th id=\"T_dea7021e_b4fe_11e8_9e71_18fb7bffa25d\" class=\"row_heading level3 row4\">\n",
       "                    30 - 34\n",
       "                \n",
       "                <td id=\"T_dea7021e_b4fe_11e8_9e71_18fb7bffa25drow4_col0\" class=\"data row4 col0\">\n",
       "                    64\n",
       "                \n",
       "                <td id=\"T_dea7021e_b4fe_11e8_9e71_18fb7bffa25drow4_col1\" class=\"data row4 col1\">\n",
       "                    3.08203\n",
       "                \n",
       "                <td id=\"T_dea7021e_b4fe_11e8_9e71_18fb7bffa25drow4_col2\" class=\"data row4 col2\">\n",
       "                    $197.25\n",
       "                \n",
       "                <td id=\"T_dea7021e_b4fe_11e8_9e71_18fb7bffa25drow4_col3\" class=\"data row4 col3\">\n",
       "                    47\n",
       "                \n",
       "            </tr>\n",
       "            \n",
       "            <tr>\n",
       "                \n",
       "                <th id=\"T_dea7021e_b4fe_11e8_9e71_18fb7bffa25d\" class=\"row_heading level3 row5\">\n",
       "                    35 - 39\n",
       "                \n",
       "                <td id=\"T_dea7021e_b4fe_11e8_9e71_18fb7bffa25drow5_col0\" class=\"data row5 col0\">\n",
       "                    42\n",
       "                \n",
       "                <td id=\"T_dea7021e_b4fe_11e8_9e71_18fb7bffa25drow5_col1\" class=\"data row5 col1\">\n",
       "                    2.84286\n",
       "                \n",
       "                <td id=\"T_dea7021e_b4fe_11e8_9e71_18fb7bffa25drow5_col2\" class=\"data row5 col2\">\n",
       "                    $119.40\n",
       "                \n",
       "                <td id=\"T_dea7021e_b4fe_11e8_9e71_18fb7bffa25drow5_col3\" class=\"data row5 col3\">\n",
       "                    27\n",
       "                \n",
       "            </tr>\n",
       "            \n",
       "            <tr>\n",
       "                \n",
       "                <th id=\"T_dea7021e_b4fe_11e8_9e71_18fb7bffa25d\" class=\"row_heading level3 row6\">\n",
       "                    < 10\n",
       "                \n",
       "                <td id=\"T_dea7021e_b4fe_11e8_9e71_18fb7bffa25drow6_col0\" class=\"data row6 col0\">\n",
       "                    28\n",
       "                \n",
       "                <td id=\"T_dea7021e_b4fe_11e8_9e71_18fb7bffa25drow6_col1\" class=\"data row6 col1\">\n",
       "                    2.98071\n",
       "                \n",
       "                <td id=\"T_dea7021e_b4fe_11e8_9e71_18fb7bffa25drow6_col2\" class=\"data row6 col2\">\n",
       "                    $83.46\n",
       "                \n",
       "                <td id=\"T_dea7021e_b4fe_11e8_9e71_18fb7bffa25drow6_col3\" class=\"data row6 col3\">\n",
       "                    19\n",
       "                \n",
       "            </tr>\n",
       "            \n",
       "            <tr>\n",
       "                \n",
       "                <th id=\"T_dea7021e_b4fe_11e8_9e71_18fb7bffa25d\" class=\"row_heading level3 row7\">\n",
       "                    >= 40\n",
       "                \n",
       "                <td id=\"T_dea7021e_b4fe_11e8_9e71_18fb7bffa25drow7_col0\" class=\"data row7 col0\">\n",
       "                    17\n",
       "                \n",
       "                <td id=\"T_dea7021e_b4fe_11e8_9e71_18fb7bffa25drow7_col1\" class=\"data row7 col1\">\n",
       "                    3.16176\n",
       "                \n",
       "                <td id=\"T_dea7021e_b4fe_11e8_9e71_18fb7bffa25drow7_col2\" class=\"data row7 col2\">\n",
       "                    $53.75\n",
       "                \n",
       "                <td id=\"T_dea7021e_b4fe_11e8_9e71_18fb7bffa25drow7_col3\" class=\"data row7 col3\">\n",
       "                    11\n",
       "                \n",
       "            </tr>\n",
       "            \n",
       "        </tbody>\n",
       "        </table>\n",
       "        "
      ],
      "text/plain": [
       "<pandas.core.style.Styler at 0x9728828>"
      ]
     },
     "execution_count": 607,
     "metadata": {},
     "output_type": "execute_result"
    }
   ],
   "source": [
    "mesclar_idade.style.format({'Preço medio de compra': '${:.2f}', 'Valor Total de Compra': '${:.2f}'})"
   ]
  },
  {
   "cell_type": "code",
   "execution_count": null,
   "metadata": {
    "collapsed": true
   },
   "outputs": [],
   "source": []
  },
  {
   "cell_type": "markdown",
   "metadata": {},
   "source": [
    "## Consumidores Mais Populares (Top 5)"
   ]
  },
  {
   "cell_type": "code",
   "execution_count": 608,
   "metadata": {
    "collapsed": true
   },
   "outputs": [],
   "source": [
    "compra_login = pd.DataFrame(dados_compras.groupby('Login')['Valor'].sum())\n",
    "numero_compra = pd.DataFrame(dados_compras.groupby('Login')['Valor'].count())\n",
    "media_compra = pd.DataFrame(dados_compras.groupby('Login')['Valor'].mean())"
   ]
  },
  {
   "cell_type": "code",
   "execution_count": 609,
   "metadata": {},
   "outputs": [],
   "source": [
    "top5 = pd.merge(compra_login , numero_compra, left_index = True, right_index = True).merge(media_compra, left_index=True, right_index=True)"
   ]
  },
  {
   "cell_type": "code",
   "execution_count": 610,
   "metadata": {
    "collapsed": true
   },
   "outputs": [],
   "source": [
    "top5.rename(columns = {'Valor_x': 'Valor Total de Compra', 'Valor_y':'Contagem de compras', 'Valor':'Preco Media Compra'}, inplace = True)"
   ]
  },
  {
   "cell_type": "code",
   "execution_count": 611,
   "metadata": {
    "collapsed": true
   },
   "outputs": [],
   "source": [
    "top5.sort_values('Valor Total de Compra', ascending = False, inplace=True)"
   ]
  },
  {
   "cell_type": "code",
   "execution_count": 612,
   "metadata": {
    "collapsed": true
   },
   "outputs": [],
   "source": [
    "top5 = top5.head()"
   ]
  },
  {
   "cell_type": "code",
   "execution_count": 613,
   "metadata": {},
   "outputs": [
    {
     "data": {
      "text/html": [
       "\n",
       "        <style  type=\"text/css\" >\n",
       "        \n",
       "        \n",
       "        </style>\n",
       "\n",
       "        <table id=\"T_e1b5efcf_b4fe_11e8_bf76_18fb7bffa25d\" None>\n",
       "        \n",
       "\n",
       "        <thead>\n",
       "            \n",
       "            <tr>\n",
       "                \n",
       "                <th class=\"blank\">\n",
       "                \n",
       "                <th class=\"col_heading level0 col0\">Valor Total de Compra\n",
       "                \n",
       "                <th class=\"col_heading level0 col1\">Contagem de compras\n",
       "                \n",
       "                <th class=\"col_heading level0 col2\">Preco Media Compra\n",
       "                \n",
       "            </tr>\n",
       "            \n",
       "            <tr>\n",
       "                \n",
       "                <th class=\"col_heading level2 col0\">Login\n",
       "                \n",
       "                <th class=\"blank\">\n",
       "                \n",
       "                <th class=\"blank\">\n",
       "                \n",
       "                <th class=\"blank\">\n",
       "                \n",
       "            </tr>\n",
       "            \n",
       "        </thead>\n",
       "        <tbody>\n",
       "            \n",
       "            <tr>\n",
       "                \n",
       "                <th id=\"T_e1b5efcf_b4fe_11e8_bf76_18fb7bffa25d\" class=\"row_heading level0 row0\">\n",
       "                    Undirrala66\n",
       "                \n",
       "                <td id=\"T_e1b5efcf_b4fe_11e8_bf76_18fb7bffa25drow0_col0\" class=\"data row0 col0\">\n",
       "                    $17.06\n",
       "                \n",
       "                <td id=\"T_e1b5efcf_b4fe_11e8_bf76_18fb7bffa25drow0_col1\" class=\"data row0 col1\">\n",
       "                    5\n",
       "                \n",
       "                <td id=\"T_e1b5efcf_b4fe_11e8_bf76_18fb7bffa25drow0_col2\" class=\"data row0 col2\">\n",
       "                    $3.41\n",
       "                \n",
       "            </tr>\n",
       "            \n",
       "            <tr>\n",
       "                \n",
       "                <th id=\"T_e1b5efcf_b4fe_11e8_bf76_18fb7bffa25d\" class=\"row_heading level2 row1\">\n",
       "                    Saedue76\n",
       "                \n",
       "                <td id=\"T_e1b5efcf_b4fe_11e8_bf76_18fb7bffa25drow1_col0\" class=\"data row1 col0\">\n",
       "                    $13.56\n",
       "                \n",
       "                <td id=\"T_e1b5efcf_b4fe_11e8_bf76_18fb7bffa25drow1_col1\" class=\"data row1 col1\">\n",
       "                    4\n",
       "                \n",
       "                <td id=\"T_e1b5efcf_b4fe_11e8_bf76_18fb7bffa25drow1_col2\" class=\"data row1 col2\">\n",
       "                    $3.39\n",
       "                \n",
       "            </tr>\n",
       "            \n",
       "            <tr>\n",
       "                \n",
       "                <th id=\"T_e1b5efcf_b4fe_11e8_bf76_18fb7bffa25d\" class=\"row_heading level2 row2\">\n",
       "                    Mindimnya67\n",
       "                \n",
       "                <td id=\"T_e1b5efcf_b4fe_11e8_bf76_18fb7bffa25drow2_col0\" class=\"data row2 col0\">\n",
       "                    $12.74\n",
       "                \n",
       "                <td id=\"T_e1b5efcf_b4fe_11e8_bf76_18fb7bffa25drow2_col1\" class=\"data row2 col1\">\n",
       "                    4\n",
       "                \n",
       "                <td id=\"T_e1b5efcf_b4fe_11e8_bf76_18fb7bffa25drow2_col2\" class=\"data row2 col2\">\n",
       "                    $3.18\n",
       "                \n",
       "            </tr>\n",
       "            \n",
       "            <tr>\n",
       "                \n",
       "                <th id=\"T_e1b5efcf_b4fe_11e8_bf76_18fb7bffa25d\" class=\"row_heading level2 row3\">\n",
       "                    Haellysu29\n",
       "                \n",
       "                <td id=\"T_e1b5efcf_b4fe_11e8_bf76_18fb7bffa25drow3_col0\" class=\"data row3 col0\">\n",
       "                    $12.73\n",
       "                \n",
       "                <td id=\"T_e1b5efcf_b4fe_11e8_bf76_18fb7bffa25drow3_col1\" class=\"data row3 col1\">\n",
       "                    3\n",
       "                \n",
       "                <td id=\"T_e1b5efcf_b4fe_11e8_bf76_18fb7bffa25drow3_col2\" class=\"data row3 col2\">\n",
       "                    $4.24\n",
       "                \n",
       "            </tr>\n",
       "            \n",
       "            <tr>\n",
       "                \n",
       "                <th id=\"T_e1b5efcf_b4fe_11e8_bf76_18fb7bffa25d\" class=\"row_heading level2 row4\">\n",
       "                    Eoda93\n",
       "                \n",
       "                <td id=\"T_e1b5efcf_b4fe_11e8_bf76_18fb7bffa25drow4_col0\" class=\"data row4 col0\">\n",
       "                    $11.58\n",
       "                \n",
       "                <td id=\"T_e1b5efcf_b4fe_11e8_bf76_18fb7bffa25drow4_col1\" class=\"data row4 col1\">\n",
       "                    3\n",
       "                \n",
       "                <td id=\"T_e1b5efcf_b4fe_11e8_bf76_18fb7bffa25drow4_col2\" class=\"data row4 col2\">\n",
       "                    $3.86\n",
       "                \n",
       "            </tr>\n",
       "            \n",
       "        </tbody>\n",
       "        </table>\n",
       "        "
      ],
      "text/plain": [
       "<pandas.core.style.Styler at 0x9903198>"
      ]
     },
     "execution_count": 613,
     "metadata": {},
     "output_type": "execute_result"
    }
   ],
   "source": [
    "top5.style.format({'Valor Total de Compra': '${:.2f}', 'Preco Media Compra': '${:.2f}'})"
   ]
  },
  {
   "cell_type": "markdown",
   "metadata": {},
   "source": [
    "## Itens Mais Populares"
   ]
  },
  {
   "cell_type": "code",
   "execution_count": 614,
   "metadata": {
    "collapsed": true
   },
   "outputs": [],
   "source": [
    "#Itens Mais Populares "
   ]
  },
  {
   "cell_type": "code",
   "execution_count": 615,
   "metadata": {},
   "outputs": [],
   "source": [
    "top5_items_ID = pd.DataFrame(dados_compras.groupby('Item ID')['Item ID'].count())"
   ]
  },
  {
   "cell_type": "code",
   "execution_count": 616,
   "metadata": {
    "collapsed": true
   },
   "outputs": [],
   "source": [
    "top5_items_ID.sort_values('Item ID', ascending = False, inplace = True)"
   ]
  },
  {
   "cell_type": "code",
   "execution_count": 617,
   "metadata": {
    "collapsed": true
   },
   "outputs": [],
   "source": [
    "top5_items_ID = top5_items_ID.iloc[0:6][:]"
   ]
  },
  {
   "cell_type": "code",
   "execution_count": 618,
   "metadata": {},
   "outputs": [],
   "source": [
    "top5_items_total = pd.DataFrame(dados_compras.groupby('Item ID')['Valor'].sum())"
   ]
  },
  {
   "cell_type": "code",
   "execution_count": 619,
   "metadata": {
    "collapsed": true
   },
   "outputs": [],
   "source": [
    "top5_items = pd.merge(top5_items_ID, top5_items_total, left_index = True, right_index = True)"
   ]
  },
  {
   "cell_type": "code",
   "execution_count": 620,
   "metadata": {
    "collapsed": true
   },
   "outputs": [],
   "source": [
    "no_dup_items = dados_compras.drop_duplicates(['Item ID'], keep = 'last')"
   ]
  },
  {
   "cell_type": "code",
   "execution_count": 621,
   "metadata": {
    "collapsed": true
   },
   "outputs": [],
   "source": [
    "top5_merge_ID = pd.merge(top5_items, no_dup_items, left_index = True, right_on = 'Item ID')"
   ]
  },
  {
   "cell_type": "code",
   "execution_count": 622,
   "metadata": {
    "collapsed": true
   },
   "outputs": [],
   "source": [
    "top5_merge_ID = top5_merge_ID[['Item ID', 'Nome do Item', 'Item ID_x', 'Valor_y', 'Valor_x']]"
   ]
  },
  {
   "cell_type": "code",
   "execution_count": 623,
   "metadata": {
    "collapsed": true
   },
   "outputs": [],
   "source": [
    "top5_merge_ID.set_index(['Item ID'], inplace = True)"
   ]
  },
  {
   "cell_type": "code",
   "execution_count": 624,
   "metadata": {
    "collapsed": true
   },
   "outputs": [],
   "source": [
    "top5_merge_ID.rename(columns =  {'Item ID_x': 'Contagem de compras', 'Valor_y': 'Valor do Item', 'Valor_x': 'Valor Total de Compra'}, inplace=True)"
   ]
  },
  {
   "cell_type": "code",
   "execution_count": 625,
   "metadata": {},
   "outputs": [
    {
     "data": {
      "text/html": [
       "\n",
       "        <style  type=\"text/css\" >\n",
       "        \n",
       "        \n",
       "        </style>\n",
       "\n",
       "        <table id=\"T_e5040961_b4fe_11e8_93c3_18fb7bffa25d\" None>\n",
       "        \n",
       "\n",
       "        <thead>\n",
       "            \n",
       "            <tr>\n",
       "                \n",
       "                <th class=\"blank\">\n",
       "                \n",
       "                <th class=\"col_heading level0 col0\">Nome do Item\n",
       "                \n",
       "                <th class=\"col_heading level0 col1\">Contagem de compras\n",
       "                \n",
       "                <th class=\"col_heading level0 col2\">Valor do Item\n",
       "                \n",
       "                <th class=\"col_heading level0 col3\">Valor Total de Compra\n",
       "                \n",
       "            </tr>\n",
       "            \n",
       "            <tr>\n",
       "                \n",
       "                <th class=\"col_heading level2 col0\">Item ID\n",
       "                \n",
       "                <th class=\"blank\">\n",
       "                \n",
       "                <th class=\"blank\">\n",
       "                \n",
       "                <th class=\"blank\">\n",
       "                \n",
       "                <th class=\"blank\">\n",
       "                \n",
       "            </tr>\n",
       "            \n",
       "        </thead>\n",
       "        <tbody>\n",
       "            \n",
       "            <tr>\n",
       "                \n",
       "                <th id=\"T_e5040961_b4fe_11e8_93c3_18fb7bffa25d\" class=\"row_heading level0 row0\">\n",
       "                    13\n",
       "                \n",
       "                <td id=\"T_e5040961_b4fe_11e8_93c3_18fb7bffa25drow0_col0\" class=\"data row0 col0\">\n",
       "                    Serenity\n",
       "                \n",
       "                <td id=\"T_e5040961_b4fe_11e8_93c3_18fb7bffa25drow0_col1\" class=\"data row0 col1\">\n",
       "                    9\n",
       "                \n",
       "                <td id=\"T_e5040961_b4fe_11e8_93c3_18fb7bffa25drow0_col2\" class=\"data row0 col2\">\n",
       "                    $1.49\n",
       "                \n",
       "                <td id=\"T_e5040961_b4fe_11e8_93c3_18fb7bffa25drow0_col3\" class=\"data row0 col3\">\n",
       "                    $13.41\n",
       "                \n",
       "            </tr>\n",
       "            \n",
       "            <tr>\n",
       "                \n",
       "                <th id=\"T_e5040961_b4fe_11e8_93c3_18fb7bffa25d\" class=\"row_heading level3 row1\">\n",
       "                    31\n",
       "                \n",
       "                <td id=\"T_e5040961_b4fe_11e8_93c3_18fb7bffa25drow1_col0\" class=\"data row1 col0\">\n",
       "                    Trickster\n",
       "                \n",
       "                <td id=\"T_e5040961_b4fe_11e8_93c3_18fb7bffa25drow1_col1\" class=\"data row1 col1\">\n",
       "                    9\n",
       "                \n",
       "                <td id=\"T_e5040961_b4fe_11e8_93c3_18fb7bffa25drow1_col2\" class=\"data row1 col2\">\n",
       "                    $2.07\n",
       "                \n",
       "                <td id=\"T_e5040961_b4fe_11e8_93c3_18fb7bffa25drow1_col3\" class=\"data row1 col3\">\n",
       "                    $18.63\n",
       "                \n",
       "            </tr>\n",
       "            \n",
       "            <tr>\n",
       "                \n",
       "                <th id=\"T_e5040961_b4fe_11e8_93c3_18fb7bffa25d\" class=\"row_heading level3 row2\">\n",
       "                    34\n",
       "                \n",
       "                <td id=\"T_e5040961_b4fe_11e8_93c3_18fb7bffa25drow2_col0\" class=\"data row2 col0\">\n",
       "                    Retribution Axe\n",
       "                \n",
       "                <td id=\"T_e5040961_b4fe_11e8_93c3_18fb7bffa25drow2_col1\" class=\"data row2 col1\">\n",
       "                    9\n",
       "                \n",
       "                <td id=\"T_e5040961_b4fe_11e8_93c3_18fb7bffa25drow2_col2\" class=\"data row2 col2\">\n",
       "                    $4.14\n",
       "                \n",
       "                <td id=\"T_e5040961_b4fe_11e8_93c3_18fb7bffa25drow2_col3\" class=\"data row2 col3\">\n",
       "                    $37.26\n",
       "                \n",
       "            </tr>\n",
       "            \n",
       "            <tr>\n",
       "                \n",
       "                <th id=\"T_e5040961_b4fe_11e8_93c3_18fb7bffa25d\" class=\"row_heading level3 row3\">\n",
       "                    39\n",
       "                \n",
       "                <td id=\"T_e5040961_b4fe_11e8_93c3_18fb7bffa25drow3_col0\" class=\"data row3 col0\">\n",
       "                    Betrayal, Whisper of Grieving Widows\n",
       "                \n",
       "                <td id=\"T_e5040961_b4fe_11e8_93c3_18fb7bffa25drow3_col1\" class=\"data row3 col1\">\n",
       "                    11\n",
       "                \n",
       "                <td id=\"T_e5040961_b4fe_11e8_93c3_18fb7bffa25drow3_col2\" class=\"data row3 col2\">\n",
       "                    $2.35\n",
       "                \n",
       "                <td id=\"T_e5040961_b4fe_11e8_93c3_18fb7bffa25drow3_col3\" class=\"data row3 col3\">\n",
       "                    $25.85\n",
       "                \n",
       "            </tr>\n",
       "            \n",
       "            <tr>\n",
       "                \n",
       "                <th id=\"T_e5040961_b4fe_11e8_93c3_18fb7bffa25d\" class=\"row_heading level3 row4\">\n",
       "                    84\n",
       "                \n",
       "                <td id=\"T_e5040961_b4fe_11e8_93c3_18fb7bffa25drow4_col0\" class=\"data row4 col0\">\n",
       "                    Arcane Gem\n",
       "                \n",
       "                <td id=\"T_e5040961_b4fe_11e8_93c3_18fb7bffa25drow4_col1\" class=\"data row4 col1\">\n",
       "                    11\n",
       "                \n",
       "                <td id=\"T_e5040961_b4fe_11e8_93c3_18fb7bffa25drow4_col2\" class=\"data row4 col2\">\n",
       "                    $2.23\n",
       "                \n",
       "                <td id=\"T_e5040961_b4fe_11e8_93c3_18fb7bffa25drow4_col3\" class=\"data row4 col3\">\n",
       "                    $24.53\n",
       "                \n",
       "            </tr>\n",
       "            \n",
       "            <tr>\n",
       "                \n",
       "                <th id=\"T_e5040961_b4fe_11e8_93c3_18fb7bffa25d\" class=\"row_heading level3 row5\">\n",
       "                    175\n",
       "                \n",
       "                <td id=\"T_e5040961_b4fe_11e8_93c3_18fb7bffa25drow5_col0\" class=\"data row5 col0\">\n",
       "                    Woeful Adamantite Claymore\n",
       "                \n",
       "                <td id=\"T_e5040961_b4fe_11e8_93c3_18fb7bffa25drow5_col1\" class=\"data row5 col1\">\n",
       "                    9\n",
       "                \n",
       "                <td id=\"T_e5040961_b4fe_11e8_93c3_18fb7bffa25drow5_col2\" class=\"data row5 col2\">\n",
       "                    $1.24\n",
       "                \n",
       "                <td id=\"T_e5040961_b4fe_11e8_93c3_18fb7bffa25drow5_col3\" class=\"data row5 col3\">\n",
       "                    $11.16\n",
       "                \n",
       "            </tr>\n",
       "            \n",
       "        </tbody>\n",
       "        </table>\n",
       "        "
      ],
      "text/plain": [
       "<pandas.core.style.Styler at 0x99030b8>"
      ]
     },
     "execution_count": 625,
     "metadata": {},
     "output_type": "execute_result"
    }
   ],
   "source": [
    "top5_merge_ID.style.format({'Valor do Item': '${:.2f}', 'Valor Total de Compra': '${:.2f}'})"
   ]
  },
  {
   "cell_type": "markdown",
   "metadata": {},
   "source": [
    "## Itens Mais Lucrativos"
   ]
  },
  {
   "cell_type": "code",
   "execution_count": 626,
   "metadata": {
    "collapsed": true
   },
   "outputs": [],
   "source": [
    "top5_lucro = pd.DataFrame(dados_compras.groupby('Item ID')['Valor'].sum())"
   ]
  },
  {
   "cell_type": "code",
   "execution_count": 627,
   "metadata": {
    "collapsed": true
   },
   "outputs": [],
   "source": [
    "top5_lucro.sort_values('Valor', ascending = False, inplace = True)"
   ]
  },
  {
   "cell_type": "code",
   "execution_count": 628,
   "metadata": {
    "collapsed": true
   },
   "outputs": [],
   "source": [
    "top5_lucro = top5_lucro.iloc[0:5][:]"
   ]
  },
  {
   "cell_type": "code",
   "execution_count": 629,
   "metadata": {
    "collapsed": true
   },
   "outputs": [],
   "source": [
    "contar_lucro = pd.DataFrame(dados_compras.groupby('Item ID')['Item ID'].count())"
   ]
  },
  {
   "cell_type": "code",
   "execution_count": 630,
   "metadata": {
    "collapsed": true
   },
   "outputs": [],
   "source": [
    "top5_lucro = pd.merge(top5_lucro, contar_lucro, left_index = True, right_index = True, how = 'left')"
   ]
  },
  {
   "cell_type": "code",
   "execution_count": 631,
   "metadata": {
    "collapsed": true
   },
   "outputs": [],
   "source": [
    "top5_juntar_lucro = pd.merge(top5_lucro, no_dup_items, left_index = True, right_on = 'Item ID', how = 'left')"
   ]
  },
  {
   "cell_type": "code",
   "execution_count": 632,
   "metadata": {
    "collapsed": true
   },
   "outputs": [],
   "source": [
    "top5_juntar_lucro = top5_juntar_lucro[['Item ID', 'Nome do Item', 'Item ID_x', 'Valor_y','Valor_x']]"
   ]
  },
  {
   "cell_type": "code",
   "execution_count": 633,
   "metadata": {
    "collapsed": true
   },
   "outputs": [],
   "source": [
    "top5_juntar_lucro.set_index(['Item ID'], inplace=True)"
   ]
  },
  {
   "cell_type": "code",
   "execution_count": 634,
   "metadata": {
    "collapsed": true
   },
   "outputs": [],
   "source": [
    "top5_juntar_lucro.rename(columns = {'Item ID_x': 'Contagem Compras', 'Valor_y': 'Item Valor', 'Valor_x': 'Valor Total de Compra'}, inplace = True)"
   ]
  },
  {
   "cell_type": "code",
   "execution_count": 635,
   "metadata": {},
   "outputs": [
    {
     "data": {
      "text/html": [
       "\n",
       "        <style  type=\"text/css\" >\n",
       "        \n",
       "        \n",
       "        </style>\n",
       "\n",
       "        <table id=\"T_e85900c0_b4fe_11e8_af9a_18fb7bffa25d\" None>\n",
       "        \n",
       "\n",
       "        <thead>\n",
       "            \n",
       "            <tr>\n",
       "                \n",
       "                <th class=\"blank\">\n",
       "                \n",
       "                <th class=\"col_heading level0 col0\">Nome do Item\n",
       "                \n",
       "                <th class=\"col_heading level0 col1\">Contagem Compras\n",
       "                \n",
       "                <th class=\"col_heading level0 col2\">Item Valor\n",
       "                \n",
       "                <th class=\"col_heading level0 col3\">Valor Total de Compra\n",
       "                \n",
       "            </tr>\n",
       "            \n",
       "            <tr>\n",
       "                \n",
       "                <th class=\"col_heading level2 col0\">Item ID\n",
       "                \n",
       "                <th class=\"blank\">\n",
       "                \n",
       "                <th class=\"blank\">\n",
       "                \n",
       "                <th class=\"blank\">\n",
       "                \n",
       "                <th class=\"blank\">\n",
       "                \n",
       "            </tr>\n",
       "            \n",
       "        </thead>\n",
       "        <tbody>\n",
       "            \n",
       "            <tr>\n",
       "                \n",
       "                <th id=\"T_e85900c0_b4fe_11e8_af9a_18fb7bffa25d\" class=\"row_heading level0 row0\">\n",
       "                    34\n",
       "                \n",
       "                <td id=\"T_e85900c0_b4fe_11e8_af9a_18fb7bffa25drow0_col0\" class=\"data row0 col0\">\n",
       "                    Retribution Axe\n",
       "                \n",
       "                <td id=\"T_e85900c0_b4fe_11e8_af9a_18fb7bffa25drow0_col1\" class=\"data row0 col1\">\n",
       "                    9\n",
       "                \n",
       "                <td id=\"T_e85900c0_b4fe_11e8_af9a_18fb7bffa25drow0_col2\" class=\"data row0 col2\">\n",
       "                    $4.14\n",
       "                \n",
       "                <td id=\"T_e85900c0_b4fe_11e8_af9a_18fb7bffa25drow0_col3\" class=\"data row0 col3\">\n",
       "                    $37.26\n",
       "                \n",
       "            </tr>\n",
       "            \n",
       "            <tr>\n",
       "                \n",
       "                <th id=\"T_e85900c0_b4fe_11e8_af9a_18fb7bffa25d\" class=\"row_heading level3 row1\">\n",
       "                    115\n",
       "                \n",
       "                <td id=\"T_e85900c0_b4fe_11e8_af9a_18fb7bffa25drow1_col0\" class=\"data row1 col0\">\n",
       "                    Spectral Diamond Doomblade\n",
       "                \n",
       "                <td id=\"T_e85900c0_b4fe_11e8_af9a_18fb7bffa25drow1_col1\" class=\"data row1 col1\">\n",
       "                    7\n",
       "                \n",
       "                <td id=\"T_e85900c0_b4fe_11e8_af9a_18fb7bffa25drow1_col2\" class=\"data row1 col2\">\n",
       "                    $4.25\n",
       "                \n",
       "                <td id=\"T_e85900c0_b4fe_11e8_af9a_18fb7bffa25drow1_col3\" class=\"data row1 col3\">\n",
       "                    $29.75\n",
       "                \n",
       "            </tr>\n",
       "            \n",
       "            <tr>\n",
       "                \n",
       "                <th id=\"T_e85900c0_b4fe_11e8_af9a_18fb7bffa25d\" class=\"row_heading level3 row2\">\n",
       "                    32\n",
       "                \n",
       "                <td id=\"T_e85900c0_b4fe_11e8_af9a_18fb7bffa25drow2_col0\" class=\"data row2 col0\">\n",
       "                    Orenmir\n",
       "                \n",
       "                <td id=\"T_e85900c0_b4fe_11e8_af9a_18fb7bffa25drow2_col1\" class=\"data row2 col1\">\n",
       "                    6\n",
       "                \n",
       "                <td id=\"T_e85900c0_b4fe_11e8_af9a_18fb7bffa25drow2_col2\" class=\"data row2 col2\">\n",
       "                    $4.95\n",
       "                \n",
       "                <td id=\"T_e85900c0_b4fe_11e8_af9a_18fb7bffa25drow2_col3\" class=\"data row2 col3\">\n",
       "                    $29.70\n",
       "                \n",
       "            </tr>\n",
       "            \n",
       "            <tr>\n",
       "                \n",
       "                <th id=\"T_e85900c0_b4fe_11e8_af9a_18fb7bffa25d\" class=\"row_heading level3 row3\">\n",
       "                    103\n",
       "                \n",
       "                <td id=\"T_e85900c0_b4fe_11e8_af9a_18fb7bffa25drow3_col0\" class=\"data row3 col0\">\n",
       "                    Singed Scalpel\n",
       "                \n",
       "                <td id=\"T_e85900c0_b4fe_11e8_af9a_18fb7bffa25drow3_col1\" class=\"data row3 col1\">\n",
       "                    6\n",
       "                \n",
       "                <td id=\"T_e85900c0_b4fe_11e8_af9a_18fb7bffa25drow3_col2\" class=\"data row3 col2\">\n",
       "                    $4.87\n",
       "                \n",
       "                <td id=\"T_e85900c0_b4fe_11e8_af9a_18fb7bffa25drow3_col3\" class=\"data row3 col3\">\n",
       "                    $29.22\n",
       "                \n",
       "            </tr>\n",
       "            \n",
       "            <tr>\n",
       "                \n",
       "                <th id=\"T_e85900c0_b4fe_11e8_af9a_18fb7bffa25d\" class=\"row_heading level3 row4\">\n",
       "                    107\n",
       "                \n",
       "                <td id=\"T_e85900c0_b4fe_11e8_af9a_18fb7bffa25drow4_col0\" class=\"data row4 col0\">\n",
       "                    Splitter, Foe Of Subtlety\n",
       "                \n",
       "                <td id=\"T_e85900c0_b4fe_11e8_af9a_18fb7bffa25drow4_col1\" class=\"data row4 col1\">\n",
       "                    8\n",
       "                \n",
       "                <td id=\"T_e85900c0_b4fe_11e8_af9a_18fb7bffa25drow4_col2\" class=\"data row4 col2\">\n",
       "                    $3.61\n",
       "                \n",
       "                <td id=\"T_e85900c0_b4fe_11e8_af9a_18fb7bffa25drow4_col3\" class=\"data row4 col3\">\n",
       "                    $28.88\n",
       "                \n",
       "            </tr>\n",
       "            \n",
       "        </tbody>\n",
       "        </table>\n",
       "        "
      ],
      "text/plain": [
       "<pandas.core.style.Styler at 0x873a0f0>"
      ]
     },
     "execution_count": 635,
     "metadata": {},
     "output_type": "execute_result"
    }
   ],
   "source": [
    "top5_juntar_lucro.style.format({'Item Valor': '${:.2f}', 'Valor Total de Compra': '${:.2f}'})"
   ]
  },
  {
   "cell_type": "code",
   "execution_count": 636,
   "metadata": {
    "collapsed": true
   },
   "outputs": [],
   "source": [
    "# Implemente aqui sua solução"
   ]
  },
  {
   "cell_type": "code",
   "execution_count": null,
   "metadata": {
    "collapsed": true
   },
   "outputs": [],
   "source": []
  },
  {
   "cell_type": "code",
   "execution_count": 637,
   "metadata": {
    "collapsed": true
   },
   "outputs": [],
   "source": [
    "# Implemente aqui sua solução"
   ]
  },
  {
   "cell_type": "code",
   "execution_count": 638,
   "metadata": {
    "collapsed": true
   },
   "outputs": [],
   "source": [
    "# Implemente aqui sua solução"
   ]
  },
  {
   "cell_type": "markdown",
   "metadata": {
    "collapsed": true
   },
   "source": [
    "## Fim"
   ]
  },
  {
   "cell_type": "code",
   "execution_count": null,
   "metadata": {
    "collapsed": true
   },
   "outputs": [],
   "source": []
  }
 ],
 "metadata": {
  "kernelspec": {
   "display_name": "Python 3",
   "language": "python",
   "name": "python3"
  },
  "language_info": {
   "codemirror_mode": {
    "name": "ipython",
    "version": 3
   },
   "file_extension": ".py",
   "mimetype": "text/x-python",
   "name": "python",
   "nbconvert_exporter": "python",
   "pygments_lexer": "ipython3",
   "version": "3.5.2"
  }
 },
 "nbformat": 4,
 "nbformat_minor": 2
}
