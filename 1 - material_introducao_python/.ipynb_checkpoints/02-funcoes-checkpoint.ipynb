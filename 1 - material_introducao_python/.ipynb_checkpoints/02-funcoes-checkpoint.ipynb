{
 "cells": [
  {
   "cell_type": "markdown",
   "metadata": {
    "cell_tags": []
   },
   "source": [
    "## 2 - Criando Funções"
   ]
  },
  {
   "cell_type": "markdown",
   "metadata": {
    "cell_tags": []
   },
   "source": [
    "Se tivéssemos apenas um conjunto de dados para analisar,\n",
    "provavelmente seria mais rápido carregar o arquivo em uma planilha\n",
    "e usar isso para traçar algumas estatísticas simples.\n",
    "Mas temos doze arquivos para verificar, e pode ter mais no futuro.\n",
    "Nesta lição,\n",
    "aprenderemos a escrever uma função\n",
    "para que possamos repetir várias operações com um único comando."
   ]
  },
  {
   "cell_type": "markdown",
   "metadata": {
    "cell_tags": [
     "objectives"
    ]
   },
   "source": [
    "#### Objetivos\n",
    "\n",
    "* Definir uma função que tem parâmetros.\n",
    "* Retornar um valor de uma função.\n",
    "* Definir os valores padrão para os parâmetros da função."
   ]
  },
  {
   "cell_type": "markdown",
   "metadata": {
    "cell_tags": []
   },
   "source": [
    "### Definindo uma Função"
   ]
  },
  {
   "cell_type": "markdown",
   "metadata": {
    "cell_tags": []
   },
   "source": [
    "Vamos começar definindo uma função `fahr_to_kelvin` que converte as temperaturas de Fahrenheit para Kelvin:"
   ]
  },
  {
   "cell_type": "code",
   "execution_count": 2,
   "metadata": {
    "cell_tags": []
   },
   "outputs": [],
   "source": [
    "def fahr_to_kelvin(temp):\n",
    "    return ((temp - 32) * (5/9)) + 273.15"
   ]
  },
  {
   "cell_type": "markdown",
   "metadata": {
    "cell_tags": []
   },
   "source": [
    "A definição de uma funçao começa com a palavra `def`,\n",
    "que é seguida pelo nome da função e uma lista entre parênteses de nomes de parâmetros.\n",
    "O [corpo](http://swcarpentry.github.io/python-novice-inflammation-2.7/reference.html#function-body) da função&mdash;as declarações que são executadas quando ela é executada&mdash; é recuada abaixo da linha de definição, tipicamente por quatro espaços.\n",
    "\n",
    "Quando chamamos a função,\n",
    "os valores que passamos para ela são atribuídos a essas variáveis\n",
    "para que possamos usá-las dentro da função.\n",
    "Dentro da função, usamos uma [declaração de retorno](http://swcarpentry.github.io/python-novice-inflammation-2.7/reference.html#return-statement) para enviar o resultado de volta para quem a chamou.\n",
    "\n",
    "Vamos tentar executar nossa função.\n",
    "Chamar nossa própria função não é diferente de chamar qualquer outra função:\n"
   ]
  },
  {
   "cell_type": "code",
   "execution_count": 3,
   "metadata": {
    "cell_tags": []
   },
   "outputs": [
    {
     "name": "stdout",
     "output_type": "stream",
     "text": [
      "freezing point of water: 273.15\n",
      "boiling point of water: 373.15\n"
     ]
    }
   ],
   "source": [
    "print ('freezing point of water:', fahr_to_kelvin(32))\n",
    "print ('boiling point of water:', fahr_to_kelvin(212))"
   ]
  },
  {
   "cell_type": "markdown",
   "metadata": {},
   "source": [
    " ### Funções compostas"
   ]
  },
  {
   "cell_type": "markdown",
   "metadata": {},
   "source": [
    "Agora que vimos como transformar Fahrenheit em Kelvin,\n",
    "é fácil transformar Kelvin em Celsius:"
   ]
  },
  {
   "cell_type": "code",
   "execution_count": 4,
   "metadata": {
    "cell_tags": []
   },
   "outputs": [
    {
     "name": "stdout",
     "output_type": "stream",
     "text": [
      "absolute zero in Celsius: -273.15\n"
     ]
    }
   ],
   "source": [
    "def kelvin_to_celsius(temp):\n",
    "    return temp - 273.15\n",
    "\n",
    "print ('absolute zero in Celsius:', kelvin_to_celsius(0.0))"
   ]
  },
  {
   "cell_type": "markdown",
   "metadata": {
    "cell_tags": []
   },
   "source": [
    "E a conversão de Fahrenheit para Celsius?\n",
    "Podemos escrever a fórmula, mas não precisamos.\n",
    "Em vez disto,\n",
    "podemos [compor](http://swcarpentry.github.io/python-novice-inflammation-2.7/reference.html#function-composition) as duas funções que já criamos:\n"
   ]
  },
  {
   "cell_type": "code",
   "execution_count": 5,
   "metadata": {
    "cell_tags": []
   },
   "outputs": [
    {
     "name": "stdout",
     "output_type": "stream",
     "text": [
      "freezing point of water in Celsius: 0.0\n"
     ]
    }
   ],
   "source": [
    "def fahr_to_celsius(temp):\n",
    "    temp_k = fahr_to_kelvin(temp)\n",
    "    result = kelvin_to_celsius(temp_k)\n",
    "    return result\n",
    "\n",
    "print ('freezing point of water in Celsius:', fahr_to_celsius(32.0))"
   ]
  },
  {
   "cell_type": "markdown",
   "metadata": {
    "cell_tags": []
   },
   "source": [
    "Este é nosso primeiro vislumbre de como os programas maiores são criados:\n",
    "definimos operações básicas,\n",
    "Em seguida, combine-os em pedaços sempre grandes para obter o efeito que queremos.\n",
    "As funções da vida real geralmente serão maiores do que as mostradas aqui &mdash; normalmente, meia dúzia a algumas dúzias de linhas &mdash;\n",
    "mas elas nunca devem ser muito mais longas do que isso,\n",
    "ou a próxima pessoa que lê seu código pode não ser capaz de entender o que está acontecendo."
   ]
  },
  {
   "cell_type": "markdown",
   "metadata": {
    "cell_tags": [
     "challenges"
    ]
   },
   "source": [
    "#### Exercícios \n",
    "1. Em Python \"adicionando\" duas cadeias produz sua concatenção:\n",
    "     `'a' + 'b'` é `' ab'`.\n",
    "     Escreva uma função chamada `fence` que recebe dois parâmetros chamados` original` e `embrulho`\n",
    "     e retorna uma nova string que possui o caractere do embrulho no início e no final do original. Exemplo:\n",
    "    ~~~python\n",
    "    print fence('name', '*')\n",
    "    *name*\n",
    "    ~~~\n",
    "\n",
    "1. Se a variável `s` se refere a uma string,\n",
    "     então `s [0]` é o primeiro caracter da string\n",
    "     e `s [-1]` é o último.\n",
    "     Escreva uma função chamada `outer`\n",
    "     que retorna uma string composta apenas do primeiro e último caracter de sua entrada. Exemplo:\n",
    "\n",
    "    ~~~python\n",
    "    print outer('helium')\n",
    "    hm\n",
    "    ~~~\n",
    "    \n",
    "    \n",
    "    "
   ]
  },
  {
   "cell_type": "markdown",
   "metadata": {
    "cell_tags": []
   },
   "source": [
    "### Definindo Valores Padrão"
   ]
  },
  {
   "cell_type": "markdown",
   "metadata": {
    "cell_tags": []
   },
   "source": [
    "Passamos os parâmetros às funções de duas maneiras:\n",
    "diretamente, como em `span(data)`,\n",
    "e pelo nome, como em `numpy.loadtxt (fname = 'something.csv', delimiter = ',')`.\n",
    "De fato, podemos passar o nome do arquivo para `loadtxt` sem o `fname = `:"
   ]
  },
  {
   "cell_type": "code",
   "execution_count": 6,
   "metadata": {
    "cell_tags": []
   },
   "outputs": [
    {
     "data": {
      "text/plain": [
       "array([[ 0.,  0.,  1., ...,  3.,  0.,  0.],\n",
       "       [ 0.,  1.,  2., ...,  1.,  0.,  1.],\n",
       "       [ 0.,  1.,  1., ...,  2.,  1.,  1.],\n",
       "       ..., \n",
       "       [ 0.,  1.,  1., ...,  1.,  1.,  1.],\n",
       "       [ 0.,  0.,  0., ...,  0.,  2.,  0.],\n",
       "       [ 0.,  0.,  1., ...,  1.,  1.,  0.]])"
      ]
     },
     "execution_count": 6,
     "metadata": {},
     "output_type": "execute_result"
    }
   ],
   "source": [
    "import numpy\n",
    "numpy.loadtxt('data/inflammation-01.csv', delimiter=',')"
   ]
  },
  {
   "cell_type": "markdown",
   "metadata": {
    "cell_tags": []
   },
   "source": [
    "mas ainda precisamos dizer `delimiter =`:"
   ]
  },
  {
   "cell_type": "code",
   "execution_count": 8,
   "metadata": {
    "cell_tags": []
   },
   "outputs": [
    {
     "ename": "TypeError",
     "evalue": "data type \",\" not understood",
     "output_type": "error",
     "traceback": [
      "\u001b[0;31m---------------------------------------------------------------------------\u001b[0m",
      "\u001b[0;31mTypeError\u001b[0m                                 Traceback (most recent call last)",
      "\u001b[0;32m<ipython-input-8-7924d6313a1e>\u001b[0m in \u001b[0;36m<module>\u001b[0;34m()\u001b[0m\n\u001b[0;32m----> 1\u001b[0;31m \u001b[0mnumpy\u001b[0m\u001b[0;34m.\u001b[0m\u001b[0mloadtxt\u001b[0m\u001b[0;34m(\u001b[0m\u001b[0;34m'data/inflammation-01.csv'\u001b[0m\u001b[0;34m,\u001b[0m \u001b[0;34m','\u001b[0m\u001b[0;34m)\u001b[0m\u001b[0;34m\u001b[0m\u001b[0m\n\u001b[0m",
      "\u001b[0;32m/Users/flavio/anaconda3/lib/python3.5/site-packages/numpy/lib/npyio.py\u001b[0m in \u001b[0;36mloadtxt\u001b[0;34m(fname, dtype, comments, delimiter, converters, skiprows, usecols, unpack, ndmin)\u001b[0m\n\u001b[1;32m    928\u001b[0m     \u001b[0;32mtry\u001b[0m\u001b[0;34m:\u001b[0m\u001b[0;34m\u001b[0m\u001b[0m\n\u001b[1;32m    929\u001b[0m         \u001b[0;31m# Make sure we're dealing with a proper dtype\u001b[0m\u001b[0;34m\u001b[0m\u001b[0;34m\u001b[0m\u001b[0m\n\u001b[0;32m--> 930\u001b[0;31m         \u001b[0mdtype\u001b[0m \u001b[0;34m=\u001b[0m \u001b[0mnp\u001b[0m\u001b[0;34m.\u001b[0m\u001b[0mdtype\u001b[0m\u001b[0;34m(\u001b[0m\u001b[0mdtype\u001b[0m\u001b[0;34m)\u001b[0m\u001b[0;34m\u001b[0m\u001b[0m\n\u001b[0m\u001b[1;32m    931\u001b[0m         \u001b[0mdefconv\u001b[0m \u001b[0;34m=\u001b[0m \u001b[0m_getconv\u001b[0m\u001b[0;34m(\u001b[0m\u001b[0mdtype\u001b[0m\u001b[0;34m)\u001b[0m\u001b[0;34m\u001b[0m\u001b[0m\n\u001b[1;32m    932\u001b[0m \u001b[0;34m\u001b[0m\u001b[0m\n",
      "\u001b[0;31mTypeError\u001b[0m: data type \",\" not understood"
     ]
    }
   ],
   "source": [
    "numpy.loadtxt('data/inflammation-01.csv', ',')"
   ]
  },
  {
   "cell_type": "markdown",
   "metadata": {
    "cell_tags": []
   },
   "source": [
    "Para entender o que está acontecendo,\n",
    "e tornar nossas próprias funções mais fáceis de usar,\n",
    "vamos redefinir nossa função `center` como esta:"
   ]
  },
  {
   "cell_type": "code",
   "execution_count": 9,
   "metadata": {
    "cell_tags": []
   },
   "outputs": [],
   "source": [
    "def center(data, desired=0.0):\n",
    "    '''Return a new array containing the original data centered around the desired value (0 by default).\n",
    "    Example: center([1, 2, 3], 0) => [-1, 0, 1]'''\n",
    "    return (data - data.mean()) + desired"
   ]
  },
  {
   "cell_type": "markdown",
   "metadata": {
    "cell_tags": []
   },
   "source": [
    "A principal mudança é que o segundo parâmetro agora é escrito `desired = 0,0` em vez de apenas `desired`.\n",
    "Se chamarmos a função com dois argumentos,\n",
    "funciona como aconteceu antes:"
   ]
  },
  {
   "cell_type": "code",
   "execution_count": 10,
   "metadata": {
    "cell_tags": []
   },
   "outputs": [
    {
     "name": "stdout",
     "output_type": "stream",
     "text": [
      "[[ 3.  3.]\n",
      " [ 3.  3.]]\n"
     ]
    }
   ],
   "source": [
    "test_data = numpy.zeros((2, 2))\n",
    "print (center(test_data, 3))"
   ]
  },
  {
   "cell_type": "markdown",
   "metadata": {
    "cell_tags": []
   },
   "source": [
    "Mas também podemos chamá-la com apenas um parâmetro,\n",
    "no caso em que `desired` é atribuído automaticamente [o valor padrão](http://swcarpentry.github.io/python-novice-inflammation-2.7/reference.html#function-composition) de 0.0:\n"
   ]
  },
  {
   "cell_type": "code",
   "execution_count": 11,
   "metadata": {
    "cell_tags": []
   },
   "outputs": [
    {
     "name": "stdout",
     "output_type": "stream",
     "text": [
      "data before centering: [[ 5.  5.]\n",
      " [ 5.  5.]]\n",
      "centered data: [[ 0.  0.]\n",
      " [ 0.  0.]]\n"
     ]
    }
   ],
   "source": [
    "more_data = 5 + numpy.zeros((2, 2))\n",
    "print ('data before centering:', more_data)\n",
    "print ('centered data:', center(more_data))"
   ]
  },
  {
   "cell_type": "markdown",
   "metadata": {
    "cell_tags": []
   },
   "source": [
    "Isso é útil:\n",
    "se geralmente queremos que uma função funcione de um jeito,\n",
    "mas ocasionalmente precisa dele para fazer outra coisa,\n",
    "podemos permitir que as pessoas passem um parâmetro quando precisam\n",
    "mas fornecem um padrão para tornar o caso normal mais fácil.\n",
    "O exemplo abaixo mostra como Python corresponde aos valores aos parâmetros:\n"
   ]
  },
  {
   "cell_type": "code",
   "execution_count": 12,
   "metadata": {
    "cell_tags": []
   },
   "outputs": [
    {
     "name": "stdout",
     "output_type": "stream",
     "text": [
      "no parameters:\n",
      "a: 1 b: 2 c: 3\n",
      "one parameter:\n",
      "a: 55 b: 2 c: 3\n",
      "two parameters:\n",
      "a: 55 b: 66 c: 3\n"
     ]
    }
   ],
   "source": [
    "def display(a=1, b=2, c=3):\n",
    "    print ('a:', a, 'b:', b, 'c:', c)\n",
    "\n",
    "print ('no parameters:')\n",
    "display()\n",
    "print ('one parameter:')\n",
    "display(55)\n",
    "print ('two parameters:')\n",
    "display(55, 66)"
   ]
  },
  {
   "cell_type": "markdown",
   "metadata": {
    "cell_tags": []
   },
   "source": [
    "Como mostra este exemplo,\n",
    "os parâmetros são combinados da esquerda para a direita,\n",
    "e aqueles que não receberam um valor explicitamente obtêm seu valor padrão.\n",
    "Podemos substituir esse comportamento ao nomear o valor conforme o passamos:"
   ]
  },
  {
   "cell_type": "code",
   "execution_count": 13,
   "metadata": {
    "cell_tags": []
   },
   "outputs": [
    {
     "name": "stdout",
     "output_type": "stream",
     "text": [
      "only setting the value of c\n",
      "a: 1 b: 2 c: 77\n"
     ]
    }
   ],
   "source": [
    "print ('only setting the value of c')\n",
    "display(c=77)"
   ]
  },
  {
   "cell_type": "markdown",
   "metadata": {
    "cell_tags": []
   },
   "source": [
    "Com isso em mãos,\n",
    "Vejamos a ajuda para `numpy.loadtxt`:"
   ]
  },
  {
   "cell_type": "code",
   "execution_count": 14,
   "metadata": {
    "cell_tags": [],
    "scrolled": true
   },
   "outputs": [
    {
     "name": "stdout",
     "output_type": "stream",
     "text": [
      "Help on function loadtxt in module numpy.lib.npyio:\n",
      "\n",
      "loadtxt(fname, dtype=<class 'float'>, comments='#', delimiter=None, converters=None, skiprows=0, usecols=None, unpack=False, ndmin=0)\n",
      "    Load data from a text file.\n",
      "    \n",
      "    Each row in the text file must have the same number of values.\n",
      "    \n",
      "    Parameters\n",
      "    ----------\n",
      "    fname : file, str, or pathlib.Path\n",
      "        File, filename, or generator to read.  If the filename extension is\n",
      "        ``.gz`` or ``.bz2``, the file is first decompressed. Note that\n",
      "        generators should return byte strings for Python 3k.\n",
      "    dtype : data-type, optional\n",
      "        Data-type of the resulting array; default: float.  If this is a\n",
      "        structured data-type, the resulting array will be 1-dimensional, and\n",
      "        each row will be interpreted as an element of the array.  In this\n",
      "        case, the number of columns used must match the number of fields in\n",
      "        the data-type.\n",
      "    comments : str or sequence, optional\n",
      "        The characters or list of characters used to indicate the start of a\n",
      "        comment;\n",
      "        default: '#'.\n",
      "    delimiter : str, optional\n",
      "        The string used to separate values.  By default, this is any\n",
      "        whitespace.\n",
      "    converters : dict, optional\n",
      "        A dictionary mapping column number to a function that will convert\n",
      "        that column to a float.  E.g., if column 0 is a date string:\n",
      "        ``converters = {0: datestr2num}``.  Converters can also be used to\n",
      "        provide a default value for missing data (but see also `genfromtxt`):\n",
      "        ``converters = {3: lambda s: float(s.strip() or 0)}``.  Default: None.\n",
      "    skiprows : int, optional\n",
      "        Skip the first `skiprows` lines; default: 0.\n",
      "    \n",
      "    usecols : int or sequence, optional\n",
      "        Which columns to read, with 0 being the first. For example,\n",
      "        usecols = (1,4,5) will extract the 2nd, 5th and 6th columns.\n",
      "        The default, None, results in all columns being read.\n",
      "    \n",
      "        .. versionadded:: 1.11.0\n",
      "    \n",
      "        Also when a single column has to be read it is possible to use\n",
      "        an integer instead of a tuple. E.g ``usecols = 3`` reads the\n",
      "        fourth column the same way as `usecols = (3,)`` would.\n",
      "    \n",
      "    unpack : bool, optional\n",
      "        If True, the returned array is transposed, so that arguments may be\n",
      "        unpacked using ``x, y, z = loadtxt(...)``.  When used with a structured\n",
      "        data-type, arrays are returned for each field.  Default is False.\n",
      "    ndmin : int, optional\n",
      "        The returned array will have at least `ndmin` dimensions.\n",
      "        Otherwise mono-dimensional axes will be squeezed.\n",
      "        Legal values: 0 (default), 1 or 2.\n",
      "    \n",
      "        .. versionadded:: 1.6.0\n",
      "    \n",
      "    Returns\n",
      "    -------\n",
      "    out : ndarray\n",
      "        Data read from the text file.\n",
      "    \n",
      "    See Also\n",
      "    --------\n",
      "    load, fromstring, fromregex\n",
      "    genfromtxt : Load data with missing values handled as specified.\n",
      "    scipy.io.loadmat : reads MATLAB data files\n",
      "    \n",
      "    Notes\n",
      "    -----\n",
      "    This function aims to be a fast reader for simply formatted files.  The\n",
      "    `genfromtxt` function provides more sophisticated handling of, e.g.,\n",
      "    lines with missing values.\n",
      "    \n",
      "    .. versionadded:: 1.10.0\n",
      "    \n",
      "    The strings produced by the Python float.hex method can be used as\n",
      "    input for floats.\n",
      "    \n",
      "    Examples\n",
      "    --------\n",
      "    >>> from io import StringIO   # StringIO behaves like a file object\n",
      "    >>> c = StringIO(\"0 1\\n2 3\")\n",
      "    >>> np.loadtxt(c)\n",
      "    array([[ 0.,  1.],\n",
      "           [ 2.,  3.]])\n",
      "    \n",
      "    >>> d = StringIO(\"M 21 72\\nF 35 58\")\n",
      "    >>> np.loadtxt(d, dtype={'names': ('gender', 'age', 'weight'),\n",
      "    ...                      'formats': ('S1', 'i4', 'f4')})\n",
      "    array([('M', 21, 72.0), ('F', 35, 58.0)],\n",
      "          dtype=[('gender', '|S1'), ('age', '<i4'), ('weight', '<f4')])\n",
      "    \n",
      "    >>> c = StringIO(\"1,0,2\\n3,0,4\")\n",
      "    >>> x, y = np.loadtxt(c, delimiter=',', usecols=(0, 2), unpack=True)\n",
      "    >>> x\n",
      "    array([ 1.,  3.])\n",
      "    >>> y\n",
      "    array([ 2.,  4.])\n",
      "\n"
     ]
    }
   ],
   "source": [
    "help(numpy.loadtxt)"
   ]
  },
  {
   "cell_type": "markdown",
   "metadata": {
    "cell_tags": []
   },
   "source": [
    "Há muita informação aqui,\n",
    "mas a parte mais importante é o primeiro par de linhas:\n",
    "\n",
    "~~~python\n",
    "loadtxt(fname, dtype= <type 'float'>, comments='#', delimiter=None, converters=None, skiprows=0, usecols=None,\n",
    "        unpack=False, ndmin=0)\n",
    "~~~\n",
    "\n",
    "Isso nos diz que `loadtxt` possui um parâmetro chamado `fname` que não possui um valor padrão,\n",
    "e outros oito que têm.\n",
    "Se chamarmos a função assim:\n",
    "\n",
    "~~~python\n",
    "    numpy.loadtxt('inflammation-01.csv', ',')\n",
    "~~~\n",
    "\n",
    "então o nome do arquivo é atribuído a `fname` (que é o que queremos),\n",
    "mas a cadeia delimitadora `,` é atribuída a `dtype` em vez de `delimiter`,\n",
    "porque `dtype` é o segundo parâmetro da lista.\n",
    "É por isso que não temos que fornecer `fname =` para o nome do arquivo,\n",
    "mas *temos* que fornecer `delimiter =` para o segundo parâmetro."
   ]
  },
  {
   "cell_type": "code",
   "execution_count": null,
   "metadata": {
    "collapsed": true
   },
   "outputs": [],
   "source": []
  }
 ],
 "metadata": {
  "anaconda-cloud": {},
  "kernelspec": {
   "display_name": "Python [default]",
   "language": "python",
   "name": "python3"
  },
  "language_info": {
   "codemirror_mode": {
    "name": "ipython",
    "version": 3
   },
   "file_extension": ".py",
   "mimetype": "text/x-python",
   "name": "python",
   "nbconvert_exporter": "python",
   "pygments_lexer": "ipython3",
   "version": "3.5.5"
  }
 },
 "nbformat": 4,
 "nbformat_minor": 1
}
